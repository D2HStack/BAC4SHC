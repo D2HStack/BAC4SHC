{
 "cells": [
  {
   "cell_type": "code",
   "execution_count": 69,
   "id": "17b9a835",
   "metadata": {},
   "outputs": [
    {
     "name": "stdout",
     "output_type": "stream",
     "text": [
      "Requirement already satisfied: pandas==2.3.0 in d:\\projects\\bac4shc\\venv\\lib\\site-packages (from -r requirements.txt (line 1)) (2.3.0)\n",
      "Requirement already satisfied: openpyxl==3.1.5 in d:\\projects\\bac4shc\\venv\\lib\\site-packages (from -r requirements.txt (line 2)) (3.1.5)\n",
      "Requirement already satisfied: numpy==2.3.1 in d:\\projects\\bac4shc\\venv\\lib\\site-packages (from -r requirements.txt (line 3)) (2.3.1)\n",
      "Requirement already satisfied: scipy==1.16.0 in d:\\projects\\bac4shc\\venv\\lib\\site-packages (from -r requirements.txt (line 4)) (1.16.0)\n",
      "Requirement already satisfied: plotly==6.2.0 in d:\\projects\\bac4shc\\venv\\lib\\site-packages (from -r requirements.txt (line 5)) (6.2.0)\n",
      "Requirement already satisfied: python-dateutil>=2.8.2 in d:\\projects\\bac4shc\\venv\\lib\\site-packages (from pandas==2.3.0->-r requirements.txt (line 1)) (2.9.0.post0)\n",
      "Requirement already satisfied: pytz>=2020.1 in d:\\projects\\bac4shc\\venv\\lib\\site-packages (from pandas==2.3.0->-r requirements.txt (line 1)) (2025.2)\n",
      "Requirement already satisfied: tzdata>=2022.7 in d:\\projects\\bac4shc\\venv\\lib\\site-packages (from pandas==2.3.0->-r requirements.txt (line 1)) (2025.2)\n",
      "Requirement already satisfied: et-xmlfile in d:\\projects\\bac4shc\\venv\\lib\\site-packages (from openpyxl==3.1.5->-r requirements.txt (line 2)) (2.0.0)\n",
      "Requirement already satisfied: narwhals>=1.15.1 in d:\\projects\\bac4shc\\venv\\lib\\site-packages (from plotly==6.2.0->-r requirements.txt (line 5)) (1.45.0)\n",
      "Requirement already satisfied: packaging in d:\\projects\\bac4shc\\venv\\lib\\site-packages (from plotly==6.2.0->-r requirements.txt (line 5)) (25.0)\n",
      "Requirement already satisfied: six>=1.5 in d:\\projects\\bac4shc\\venv\\lib\\site-packages (from python-dateutil>=2.8.2->pandas==2.3.0->-r requirements.txt (line 1)) (1.17.0)\n"
     ]
    }
   ],
   "source": [
    "!pip install -r requirements.txt"
   ]
  },
  {
   "cell_type": "code",
   "execution_count": 2,
   "id": "cb929d7f",
   "metadata": {},
   "outputs": [],
   "source": [
    "# Load data\n",
    "import pandas as pd \n",
    "\n",
    "file_path='assets/datasets/clean/250604-consolidated_survey.xlsx'\n",
    "df_load=pd.read_excel(file_path).drop(columns=['Unnamed: 0'])"
   ]
  },
  {
   "cell_type": "code",
   "execution_count": 2,
   "id": "0af7e838",
   "metadata": {},
   "outputs": [
    {
     "data": {
      "text/html": [
       "<div>\n",
       "<style scoped>\n",
       "    .dataframe tbody tr th:only-of-type {\n",
       "        vertical-align: middle;\n",
       "    }\n",
       "\n",
       "    .dataframe tbody tr th {\n",
       "        vertical-align: top;\n",
       "    }\n",
       "\n",
       "    .dataframe thead th {\n",
       "        text-align: right;\n",
       "    }\n",
       "</style>\n",
       "<table border=\"1\" class=\"dataframe\">\n",
       "  <thead>\n",
       "    <tr style=\"text-align: right;\">\n",
       "      <th></th>\n",
       "      <th>start_date</th>\n",
       "      <th>end_date</th>\n",
       "      <th>survey_status</th>\n",
       "      <th>completion_level</th>\n",
       "      <th>completion_time</th>\n",
       "      <th>survey_completed</th>\n",
       "      <th>recorded_date</th>\n",
       "      <th>response_id</th>\n",
       "      <th>distribution_channel</th>\n",
       "      <th>user_language</th>\n",
       "      <th>...</th>\n",
       "      <th>soc_aspects</th>\n",
       "      <th>soc_aspects_other</th>\n",
       "      <th>es_assess</th>\n",
       "      <th>es_assess_other</th>\n",
       "      <th>es_more_info</th>\n",
       "      <th>es_certif</th>\n",
       "      <th>email</th>\n",
       "      <th>survey</th>\n",
       "      <th>inv_platform</th>\n",
       "      <th>inv_platform_other</th>\n",
       "    </tr>\n",
       "  </thead>\n",
       "  <tbody>\n",
       "    <tr>\n",
       "      <th>0</th>\n",
       "      <td>2024-11-13 10:30:58</td>\n",
       "      <td>2024-11-13 10:37:24</td>\n",
       "      <td>0</td>\n",
       "      <td>100</td>\n",
       "      <td>386</td>\n",
       "      <td>1</td>\n",
       "      <td>2024-11-13 10:37:25.745</td>\n",
       "      <td>R_2CYvoda8TZhYFaN</td>\n",
       "      <td>anonymous</td>\n",
       "      <td>IT</td>\n",
       "      <td>...</td>\n",
       "      <td>2,3,4</td>\n",
       "      <td>NaN</td>\n",
       "      <td>2</td>\n",
       "      <td>NaN</td>\n",
       "      <td>3.0</td>\n",
       "      <td>2,3</td>\n",
       "      <td>NaN</td>\n",
       "      <td>BA</td>\n",
       "      <td>NaN</td>\n",
       "      <td>NaN</td>\n",
       "    </tr>\n",
       "    <tr>\n",
       "      <th>1</th>\n",
       "      <td>2024-11-14 14:00:16</td>\n",
       "      <td>2024-11-14 14:08:08</td>\n",
       "      <td>0</td>\n",
       "      <td>100</td>\n",
       "      <td>472</td>\n",
       "      <td>1</td>\n",
       "      <td>2024-11-14 14:08:09.160</td>\n",
       "      <td>R_2PCMoZEjgiOeupr</td>\n",
       "      <td>anonymous</td>\n",
       "      <td>IT</td>\n",
       "      <td>...</td>\n",
       "      <td>1</td>\n",
       "      <td>NaN</td>\n",
       "      <td>2</td>\n",
       "      <td>NaN</td>\n",
       "      <td>3.0</td>\n",
       "      <td>1</td>\n",
       "      <td>NaN</td>\n",
       "      <td>BA</td>\n",
       "      <td>NaN</td>\n",
       "      <td>NaN</td>\n",
       "    </tr>\n",
       "    <tr>\n",
       "      <th>2</th>\n",
       "      <td>2024-11-14 14:28:17</td>\n",
       "      <td>2024-11-14 14:36:18</td>\n",
       "      <td>0</td>\n",
       "      <td>100</td>\n",
       "      <td>480</td>\n",
       "      <td>1</td>\n",
       "      <td>2024-11-14 14:36:18.958</td>\n",
       "      <td>R_8HBDPZSIjz1M0rn</td>\n",
       "      <td>anonymous</td>\n",
       "      <td>IT</td>\n",
       "      <td>...</td>\n",
       "      <td>1,3</td>\n",
       "      <td>NaN</td>\n",
       "      <td>3</td>\n",
       "      <td>NaN</td>\n",
       "      <td>5.0</td>\n",
       "      <td>2,3</td>\n",
       "      <td>anmata@libero.it</td>\n",
       "      <td>BA</td>\n",
       "      <td>NaN</td>\n",
       "      <td>NaN</td>\n",
       "    </tr>\n",
       "    <tr>\n",
       "      <th>3</th>\n",
       "      <td>2024-11-14 16:46:00</td>\n",
       "      <td>2024-11-14 18:31:25</td>\n",
       "      <td>0</td>\n",
       "      <td>100</td>\n",
       "      <td>6324</td>\n",
       "      <td>1</td>\n",
       "      <td>2024-11-14 18:31:26.274</td>\n",
       "      <td>R_8dSEqbK9X2kHC6i</td>\n",
       "      <td>anonymous</td>\n",
       "      <td>IT</td>\n",
       "      <td>...</td>\n",
       "      <td>1,4</td>\n",
       "      <td>NaN</td>\n",
       "      <td>2</td>\n",
       "      <td>NaN</td>\n",
       "      <td>3.0</td>\n",
       "      <td>1</td>\n",
       "      <td>NaN</td>\n",
       "      <td>BA</td>\n",
       "      <td>NaN</td>\n",
       "      <td>NaN</td>\n",
       "    </tr>\n",
       "    <tr>\n",
       "      <th>4</th>\n",
       "      <td>2024-11-14 18:26:48</td>\n",
       "      <td>2024-11-14 18:42:58</td>\n",
       "      <td>0</td>\n",
       "      <td>100</td>\n",
       "      <td>969</td>\n",
       "      <td>1</td>\n",
       "      <td>2024-11-14 18:42:58.484</td>\n",
       "      <td>R_2kq5hZdQfhR6sbI</td>\n",
       "      <td>anonymous</td>\n",
       "      <td>IT</td>\n",
       "      <td>...</td>\n",
       "      <td>2,3</td>\n",
       "      <td>NaN</td>\n",
       "      <td>2</td>\n",
       "      <td>NaN</td>\n",
       "      <td>4.0</td>\n",
       "      <td>1</td>\n",
       "      <td>francoagostinoperone@gmail.com</td>\n",
       "      <td>BA</td>\n",
       "      <td>NaN</td>\n",
       "      <td>NaN</td>\n",
       "    </tr>\n",
       "  </tbody>\n",
       "</table>\n",
       "<p>5 rows × 78 columns</p>\n",
       "</div>"
      ],
      "text/plain": [
       "           start_date            end_date  survey_status  completion_level  \\\n",
       "0 2024-11-13 10:30:58 2024-11-13 10:37:24              0               100   \n",
       "1 2024-11-14 14:00:16 2024-11-14 14:08:08              0               100   \n",
       "2 2024-11-14 14:28:17 2024-11-14 14:36:18              0               100   \n",
       "3 2024-11-14 16:46:00 2024-11-14 18:31:25              0               100   \n",
       "4 2024-11-14 18:26:48 2024-11-14 18:42:58              0               100   \n",
       "\n",
       "   completion_time  survey_completed           recorded_date  \\\n",
       "0              386                 1 2024-11-13 10:37:25.745   \n",
       "1              472                 1 2024-11-14 14:08:09.160   \n",
       "2              480                 1 2024-11-14 14:36:18.958   \n",
       "3             6324                 1 2024-11-14 18:31:26.274   \n",
       "4              969                 1 2024-11-14 18:42:58.484   \n",
       "\n",
       "         response_id distribution_channel user_language  ...  soc_aspects  \\\n",
       "0  R_2CYvoda8TZhYFaN            anonymous            IT  ...        2,3,4   \n",
       "1  R_2PCMoZEjgiOeupr            anonymous            IT  ...            1   \n",
       "2  R_8HBDPZSIjz1M0rn            anonymous            IT  ...          1,3   \n",
       "3  R_8dSEqbK9X2kHC6i            anonymous            IT  ...          1,4   \n",
       "4  R_2kq5hZdQfhR6sbI            anonymous            IT  ...          2,3   \n",
       "\n",
       "   soc_aspects_other  es_assess  es_assess_other  es_more_info es_certif  \\\n",
       "0                NaN          2              NaN           3.0       2,3   \n",
       "1                NaN          2              NaN           3.0         1   \n",
       "2                NaN          3              NaN           5.0       2,3   \n",
       "3                NaN          2              NaN           3.0         1   \n",
       "4                NaN          2              NaN           4.0         1   \n",
       "\n",
       "                            email  survey inv_platform inv_platform_other  \n",
       "0                             NaN      BA          NaN                NaN  \n",
       "1                             NaN      BA          NaN                NaN  \n",
       "2                anmata@libero.it      BA          NaN                NaN  \n",
       "3                             NaN      BA          NaN                NaN  \n",
       "4  francoagostinoperone@gmail.com      BA          NaN                NaN  \n",
       "\n",
       "[5 rows x 78 columns]"
      ]
     },
     "execution_count": 2,
     "metadata": {},
     "output_type": "execute_result"
    }
   ],
   "source": [
    "df_load.head()"
   ]
  },
  {
   "cell_type": "code",
   "execution_count": 3,
   "id": "b1c62947",
   "metadata": {},
   "outputs": [
    {
     "data": {
      "text/plain": [
       "Index(['start_date', 'end_date', 'survey_status', 'completion_level',\n",
       "       'completion_time', 'survey_completed', 'recorded_date', 'response_id',\n",
       "       'distribution_channel', 'user_language', 'recaptcha_score',\n",
       "       'gender_male', 'age', 'children_num', 'edu_level', 'edu_field',\n",
       "       'edu_field_other', 'working_status', 'working_status_other',\n",
       "       'expertise_area', 'expertise_area_other', 'work_industries',\n",
       "       'work_industries_other', 'work_company_size', 'roles_cat', 'inv_time',\n",
       "       'inv_motivation', 'inv_motivation_other', 'ba_group', 'ba_group_name',\n",
       "       'ba_group_name_other', 'ba_group_reason', 'ba_group_reason_other',\n",
       "       'inv_num', 'inv_companies_last2y', 'inv_amount_average',\n",
       "       'inv_capital_stake', 'inv_dd_duration', 'inv_criteria',\n",
       "       'inv_criteria_other', 'inv_sectors', 'inv_sectors_other', 'inv_process',\n",
       "       'inv_process_other', 'inv_visits', 'non_fin_contr',\n",
       "       'non_fin_contr_other', 'child_bias', 'inv_goal', 'inv_exit',\n",
       "       'inv_return', 'women_investing', 'women_involvement', 'women_influence',\n",
       "       'women_diff_eval_process', 'women_risk_averse',\n",
       "       'women_evolution_involvement', 'women_evolution_neg_stereotype',\n",
       "       'mother_needs_consideration', 'women_reco', 'women_reco_other',\n",
       "       'women_led_inv', 'env_influence', 'env_inv', 'env_aspects',\n",
       "       'env_aspects_other', 'soc_influence', 'soc_inv', 'soc_aspects',\n",
       "       'soc_aspects_other', 'es_assess', 'es_assess_other', 'es_more_info',\n",
       "       'es_certif', 'email', 'survey', 'inv_platform', 'inv_platform_other'],\n",
       "      dtype='object')"
      ]
     },
     "execution_count": 3,
     "metadata": {},
     "output_type": "execute_result"
    }
   ],
   "source": [
    "df_load.columns"
   ]
  },
  {
   "cell_type": "code",
   "execution_count": null,
   "id": "25ecda2f",
   "metadata": {},
   "outputs": [
    {
     "data": {
      "text/html": [
       "<div>\n",
       "<style scoped>\n",
       "    .dataframe tbody tr th:only-of-type {\n",
       "        vertical-align: middle;\n",
       "    }\n",
       "\n",
       "    .dataframe tbody tr th {\n",
       "        vertical-align: top;\n",
       "    }\n",
       "\n",
       "    .dataframe thead th {\n",
       "        text-align: right;\n",
       "    }\n",
       "</style>\n",
       "<table border=\"1\" class=\"dataframe\">\n",
       "  <thead>\n",
       "    <tr style=\"text-align: right;\">\n",
       "      <th></th>\n",
       "      <th>survey</th>\n",
       "      <th>gender</th>\n",
       "      <th>percentage</th>\n",
       "    </tr>\n",
       "  </thead>\n",
       "  <tbody>\n",
       "    <tr>\n",
       "      <th>0</th>\n",
       "      <td>BA</td>\n",
       "      <td>men</td>\n",
       "      <td>0.712871</td>\n",
       "    </tr>\n",
       "    <tr>\n",
       "      <th>1</th>\n",
       "      <td>BA</td>\n",
       "      <td>women</td>\n",
       "      <td>0.287129</td>\n",
       "    </tr>\n",
       "    <tr>\n",
       "      <th>2</th>\n",
       "      <td>CI</td>\n",
       "      <td>men</td>\n",
       "      <td>0.617021</td>\n",
       "    </tr>\n",
       "    <tr>\n",
       "      <th>3</th>\n",
       "      <td>CI</td>\n",
       "      <td>women</td>\n",
       "      <td>0.382979</td>\n",
       "    </tr>\n",
       "  </tbody>\n",
       "</table>\n",
       "</div>"
      ],
      "text/plain": [
       "  survey gender  percentage\n",
       "0     BA    men    0.712871\n",
       "1     BA  women    0.287129\n",
       "2     CI    men    0.617021\n",
       "3     CI  women    0.382979"
      ]
     },
     "execution_count": 51,
     "metadata": {},
     "output_type": "execute_result"
    }
   ],
   "source": [
    "# Proportions of women and men in both surveys\n",
    "\n",
    "pd.options.display.max_columns = None\n",
    "columns={\n",
    "    'gender_male': 'gender',\n",
    "    'start_date': 'percentage',\n",
    "}\n",
    "# df_temp=df_load[['survey', 'gender_male', 'age', 'children_num', 'edu_level']].groupby(['survey']).mean()\n",
    "df_temp=df_load.copy()\n",
    "df_temp['gender_male']=df_temp['gender_male'].replace(1, 'women')\n",
    "df_temp['gender_male']=df_temp['gender_male'].replace(2, 'men')\n",
    "df_temp=df_temp.dropna(subset=['gender_male'])\n",
    "df_stats=(df_temp.groupby(['survey', 'gender_male'])['start_date'].count()).div(df_temp.groupby(['survey'])['start_date'].count())\n",
    "df_stats=df_stats.reset_index().rename(columns=columns)\n",
    "df_stats"
   ]
  },
  {
   "cell_type": "code",
   "execution_count": 192,
   "id": "7c5b57ce",
   "metadata": {},
   "outputs": [],
   "source": [
    "############### Functions ###############\n",
    "import pandas as pd \n",
    "import scipy\n",
    "\n",
    "# Returns the statistics in funcs on groups and variables columns\n",
    "def basic_stats(df, funcs, groups, columns):\n",
    "    df_results=pd.DataFrame()\n",
    "    for column in columns:\n",
    "        df_results=pd.concat([df_results,df.groupby(groups)[column].agg(funcs).reset_index().assign(var=column)])\n",
    "    return df_results\n",
    "\n",
    "# Mode or most frequent result \n",
    "def mode(x):\n",
    "    return scipy.stats.mode(x.dropna())[0]\n",
    "\n",
    "# Total number of records\n",
    "def total(x):\n",
    "    return len(x)\n",
    "\n",
    "# Count the number of NA\n",
    "def count_na(x):\n",
    "    return x.isna().sum()\n",
    "\n",
    "# Percentage of NA\n",
    "def percent_na(x):\n",
    "    return x.isna().sum()/len(x)\n",
    "\n",
    "# Frequency table\n",
    "\n",
    "def freq_table(df, column, start_index, category_labels):\n",
    "    df_results=pd.DataFrame(columns=['Response', 'Frequency', 'Percentage'])\n",
    "    for index, category_label in enumerate(category_labels):\n",
    "        df_temp= pd.DataFrame([[category_label, len(df[df[column]==(index+start_index)]), round(100*len(df[df[column]==(index+start_index)])/len(df[column]),2)]], columns=df_results.columns)\n",
    "        df_results=pd.concat([df_results,df_temp])\n",
    "    df_results=pd.concat([df_results, pd.DataFrame([['NA', df[column].isna().sum(), round(100*df[column].isna().sum()/len(df[column]),2)]], columns=df_results.columns)])\n",
    "    df_results=pd.concat([df_results, pd.DataFrame([['Total', len(df[column]), 100.00]], columns=df_results.columns)])\n",
    "    return df_results"
   ]
  },
  {
   "cell_type": "code",
   "execution_count": 113,
   "id": "489ed7b6",
   "metadata": {},
   "outputs": [
    {
     "data": {
      "text/html": [
       "<div>\n",
       "<style scoped>\n",
       "    .dataframe tbody tr th:only-of-type {\n",
       "        vertical-align: middle;\n",
       "    }\n",
       "\n",
       "    .dataframe tbody tr th {\n",
       "        vertical-align: top;\n",
       "    }\n",
       "\n",
       "    .dataframe thead th {\n",
       "        text-align: right;\n",
       "    }\n",
       "</style>\n",
       "<table border=\"1\" class=\"dataframe\">\n",
       "  <thead>\n",
       "    <tr style=\"text-align: right;\">\n",
       "      <th></th>\n",
       "      <th>gender_male</th>\n",
       "      <th>mode</th>\n",
       "      <th>median</th>\n",
       "      <th>mean</th>\n",
       "      <th>std</th>\n",
       "      <th>total</th>\n",
       "      <th>count</th>\n",
       "      <th>count_na</th>\n",
       "      <th>percent_na</th>\n",
       "      <th>var</th>\n",
       "    </tr>\n",
       "  </thead>\n",
       "  <tbody>\n",
       "    <tr>\n",
       "      <th>0</th>\n",
       "      <td>1.0</td>\n",
       "      <td>3.0</td>\n",
       "      <td>3.0</td>\n",
       "      <td>3.064516</td>\n",
       "      <td>1.093480</td>\n",
       "      <td>47</td>\n",
       "      <td>31</td>\n",
       "      <td>16</td>\n",
       "      <td>0.340426</td>\n",
       "      <td>inv_time</td>\n",
       "    </tr>\n",
       "    <tr>\n",
       "      <th>1</th>\n",
       "      <td>2.0</td>\n",
       "      <td>5.0</td>\n",
       "      <td>3.0</td>\n",
       "      <td>3.372093</td>\n",
       "      <td>1.337658</td>\n",
       "      <td>101</td>\n",
       "      <td>86</td>\n",
       "      <td>15</td>\n",
       "      <td>0.148515</td>\n",
       "      <td>inv_time</td>\n",
       "    </tr>\n",
       "    <tr>\n",
       "      <th>0</th>\n",
       "      <td>1.0</td>\n",
       "      <td>3.0</td>\n",
       "      <td>3.0</td>\n",
       "      <td>3.375000</td>\n",
       "      <td>1.539795</td>\n",
       "      <td>47</td>\n",
       "      <td>32</td>\n",
       "      <td>15</td>\n",
       "      <td>0.319149</td>\n",
       "      <td>inv_num</td>\n",
       "    </tr>\n",
       "    <tr>\n",
       "      <th>1</th>\n",
       "      <td>2.0</td>\n",
       "      <td>3.0</td>\n",
       "      <td>3.0</td>\n",
       "      <td>3.423529</td>\n",
       "      <td>1.483051</td>\n",
       "      <td>101</td>\n",
       "      <td>85</td>\n",
       "      <td>16</td>\n",
       "      <td>0.158416</td>\n",
       "      <td>inv_num</td>\n",
       "    </tr>\n",
       "    <tr>\n",
       "      <th>0</th>\n",
       "      <td>1.0</td>\n",
       "      <td>1.0</td>\n",
       "      <td>1.0</td>\n",
       "      <td>1.814815</td>\n",
       "      <td>1.177907</td>\n",
       "      <td>47</td>\n",
       "      <td>27</td>\n",
       "      <td>20</td>\n",
       "      <td>0.425532</td>\n",
       "      <td>inv_amount_average</td>\n",
       "    </tr>\n",
       "    <tr>\n",
       "      <th>1</th>\n",
       "      <td>2.0</td>\n",
       "      <td>1.0</td>\n",
       "      <td>2.0</td>\n",
       "      <td>2.500000</td>\n",
       "      <td>1.295408</td>\n",
       "      <td>101</td>\n",
       "      <td>74</td>\n",
       "      <td>27</td>\n",
       "      <td>0.267327</td>\n",
       "      <td>inv_amount_average</td>\n",
       "    </tr>\n",
       "    <tr>\n",
       "      <th>0</th>\n",
       "      <td>1.0</td>\n",
       "      <td>2.0</td>\n",
       "      <td>2.0</td>\n",
       "      <td>2.230769</td>\n",
       "      <td>1.394495</td>\n",
       "      <td>47</td>\n",
       "      <td>26</td>\n",
       "      <td>21</td>\n",
       "      <td>0.446809</td>\n",
       "      <td>women_led_inv</td>\n",
       "    </tr>\n",
       "    <tr>\n",
       "      <th>1</th>\n",
       "      <td>2.0</td>\n",
       "      <td>1.0</td>\n",
       "      <td>2.0</td>\n",
       "      <td>1.835616</td>\n",
       "      <td>1.027588</td>\n",
       "      <td>101</td>\n",
       "      <td>73</td>\n",
       "      <td>28</td>\n",
       "      <td>0.277228</td>\n",
       "      <td>women_led_inv</td>\n",
       "    </tr>\n",
       "  </tbody>\n",
       "</table>\n",
       "</div>"
      ],
      "text/plain": [
       "   gender_male  mode  median      mean       std  total  count  count_na  \\\n",
       "0          1.0   3.0     3.0  3.064516  1.093480     47     31        16   \n",
       "1          2.0   5.0     3.0  3.372093  1.337658    101     86        15   \n",
       "0          1.0   3.0     3.0  3.375000  1.539795     47     32        15   \n",
       "1          2.0   3.0     3.0  3.423529  1.483051    101     85        16   \n",
       "0          1.0   1.0     1.0  1.814815  1.177907     47     27        20   \n",
       "1          2.0   1.0     2.0  2.500000  1.295408    101     74        27   \n",
       "0          1.0   2.0     2.0  2.230769  1.394495     47     26        21   \n",
       "1          2.0   1.0     2.0  1.835616  1.027588    101     73        28   \n",
       "\n",
       "   percent_na                 var  \n",
       "0    0.340426            inv_time  \n",
       "1    0.148515            inv_time  \n",
       "0    0.319149             inv_num  \n",
       "1    0.158416             inv_num  \n",
       "0    0.425532  inv_amount_average  \n",
       "1    0.267327  inv_amount_average  \n",
       "0    0.446809       women_led_inv  \n",
       "1    0.277228       women_led_inv  "
      ]
     },
     "execution_count": 113,
     "metadata": {},
     "output_type": "execute_result"
    }
   ],
   "source": [
    "# Investor experience Numerical and ordinal variables\n",
    "# Gender\n",
    "\n",
    "funcs=[mode, 'median', 'mean', 'std', total, 'count', count_na, percent_na]\n",
    "groups=['gender_male']\n",
    "columns=['inv_time', 'inv_num', 'inv_amount_average', 'women_led_inv']\n",
    "\n",
    "basic_stats(df_load, funcs, groups, columns)"
   ]
  },
  {
   "cell_type": "code",
   "execution_count": 12,
   "id": "d1923280",
   "metadata": {},
   "outputs": [
    {
     "data": {
      "text/html": [
       "<div>\n",
       "<style scoped>\n",
       "    .dataframe tbody tr th:only-of-type {\n",
       "        vertical-align: middle;\n",
       "    }\n",
       "\n",
       "    .dataframe tbody tr th {\n",
       "        vertical-align: top;\n",
       "    }\n",
       "\n",
       "    .dataframe thead th {\n",
       "        text-align: right;\n",
       "    }\n",
       "</style>\n",
       "<table border=\"1\" class=\"dataframe\">\n",
       "  <thead>\n",
       "    <tr style=\"text-align: right;\">\n",
       "      <th></th>\n",
       "      <th>survey</th>\n",
       "      <th>mean</th>\n",
       "      <th>std</th>\n",
       "      <th>count</th>\n",
       "      <th>var</th>\n",
       "    </tr>\n",
       "  </thead>\n",
       "  <tbody>\n",
       "    <tr>\n",
       "      <th>0</th>\n",
       "      <td>BA</td>\n",
       "      <td>3.563830</td>\n",
       "      <td>1.187375</td>\n",
       "      <td>94</td>\n",
       "      <td>inv_time</td>\n",
       "    </tr>\n",
       "    <tr>\n",
       "      <th>1</th>\n",
       "      <td>CI</td>\n",
       "      <td>2.173913</td>\n",
       "      <td>1.029217</td>\n",
       "      <td>23</td>\n",
       "      <td>inv_time</td>\n",
       "    </tr>\n",
       "    <tr>\n",
       "      <th>0</th>\n",
       "      <td>BA</td>\n",
       "      <td>3.760870</td>\n",
       "      <td>1.329046</td>\n",
       "      <td>92</td>\n",
       "      <td>inv_num</td>\n",
       "    </tr>\n",
       "    <tr>\n",
       "      <th>1</th>\n",
       "      <td>CI</td>\n",
       "      <td>2.153846</td>\n",
       "      <td>1.347362</td>\n",
       "      <td>26</td>\n",
       "      <td>inv_num</td>\n",
       "    </tr>\n",
       "    <tr>\n",
       "      <th>0</th>\n",
       "      <td>BA</td>\n",
       "      <td>2.306818</td>\n",
       "      <td>1.271780</td>\n",
       "      <td>88</td>\n",
       "      <td>inv_amount_average</td>\n",
       "    </tr>\n",
       "    <tr>\n",
       "      <th>1</th>\n",
       "      <td>CI</td>\n",
       "      <td>2.384615</td>\n",
       "      <td>1.502135</td>\n",
       "      <td>13</td>\n",
       "      <td>inv_amount_average</td>\n",
       "    </tr>\n",
       "    <tr>\n",
       "      <th>0</th>\n",
       "      <td>BA</td>\n",
       "      <td>1.965517</td>\n",
       "      <td>1.175805</td>\n",
       "      <td>87</td>\n",
       "      <td>women_led_inv</td>\n",
       "    </tr>\n",
       "    <tr>\n",
       "      <th>1</th>\n",
       "      <td>CI</td>\n",
       "      <td>1.750000</td>\n",
       "      <td>0.866025</td>\n",
       "      <td>12</td>\n",
       "      <td>women_led_inv</td>\n",
       "    </tr>\n",
       "  </tbody>\n",
       "</table>\n",
       "</div>"
      ],
      "text/plain": [
       "  survey      mean       std  count                 var\n",
       "0     BA  3.563830  1.187375     94            inv_time\n",
       "1     CI  2.173913  1.029217     23            inv_time\n",
       "0     BA  3.760870  1.329046     92             inv_num\n",
       "1     CI  2.153846  1.347362     26             inv_num\n",
       "0     BA  2.306818  1.271780     88  inv_amount_average\n",
       "1     CI  2.384615  1.502135     13  inv_amount_average\n",
       "0     BA  1.965517  1.175805     87       women_led_inv\n",
       "1     CI  1.750000  0.866025     12       women_led_inv"
      ]
     },
     "execution_count": 12,
     "metadata": {},
     "output_type": "execute_result"
    }
   ],
   "source": [
    "# Investor experience Numerical and ordinal variables\n",
    "# survey\n",
    "\n",
    "funcs=['mean', 'std', 'count']\n",
    "groups=['survey']\n",
    "columns=['inv_time', 'inv_num', 'inv_amount_average', 'women_led_inv']\n",
    "\n",
    "basic_stats(funcs, groups, columns)"
   ]
  },
  {
   "cell_type": "code",
   "execution_count": 277,
   "id": "cd606b18",
   "metadata": {},
   "outputs": [],
   "source": [
    "from scipy.stats import mannwhitneyu\n",
    "import pandas as pd \n",
    "import numpy as np\n",
    "from scipy.stats import norm\n",
    "\n",
    "def mw_test(df,columns, condition_label, condition_values):\n",
    "    result_columns=['var', 'u_stat', 'pvalue']\n",
    "    df_results=pd.DataFrame(columns=result_columns)\n",
    "    for column in columns:\n",
    "        \n",
    "        df_temp=df.dropna(subset=[column, condition_label]) # Keep only non nan\n",
    "\n",
    "        groups=[]\n",
    "        for i in range(len(condition_values)):\n",
    "            groups.append(df_temp[df_temp[condition_label]==condition_values[i]].loc[:,column].array)\n",
    "\n",
    "        u, p=mannwhitneyu(groups[0], groups[1], alternative='two-sided')\n",
    "        df_results=pd.concat([df_results, pd.DataFrame([[column, u, p]], columns=result_columns)])\n",
    "    \n",
    "    return df_results\n"
   ]
  },
  {
   "cell_type": "code",
   "execution_count": 299,
   "id": "80b101b2",
   "metadata": {},
   "outputs": [
    {
     "name": "stderr",
     "output_type": "stream",
     "text": [
      "C:\\Users\\Dell\\AppData\\Local\\Temp\\ipykernel_13492\\802478183.py:18: FutureWarning:\n",
      "\n",
      "The behavior of DataFrame concatenation with empty or all-NA entries is deprecated. In a future version, this will no longer exclude empty or all-NA columns when determining the result dtypes. To retain the old behavior, exclude the relevant entries before the concat operation.\n",
      "\n"
     ]
    },
    {
     "data": {
      "text/html": [
       "<div>\n",
       "<style scoped>\n",
       "    .dataframe tbody tr th:only-of-type {\n",
       "        vertical-align: middle;\n",
       "    }\n",
       "\n",
       "    .dataframe tbody tr th {\n",
       "        vertical-align: top;\n",
       "    }\n",
       "\n",
       "    .dataframe thead th {\n",
       "        text-align: right;\n",
       "    }\n",
       "</style>\n",
       "<table border=\"1\" class=\"dataframe\">\n",
       "  <thead>\n",
       "    <tr style=\"text-align: right;\">\n",
       "      <th></th>\n",
       "      <th>var</th>\n",
       "      <th>u_stat</th>\n",
       "      <th>pvalue</th>\n",
       "    </tr>\n",
       "  </thead>\n",
       "  <tbody>\n",
       "    <tr>\n",
       "      <th>0</th>\n",
       "      <td>inv_time</td>\n",
       "      <td>1155.5</td>\n",
       "      <td>0.261672</td>\n",
       "    </tr>\n",
       "  </tbody>\n",
       "</table>\n",
       "</div>"
      ],
      "text/plain": [
       "        var  u_stat    pvalue\n",
       "0  inv_time  1155.5  0.261672"
      ]
     },
     "metadata": {},
     "output_type": "display_data"
    }
   ],
   "source": [
    "# Mann Whitney test on gender_male\n",
    "\n",
    "# columns=['inv_time', 'inv_num', 'inv_amount_average', 'women_led_inv']\n",
    "columns=['inv_time']\n",
    "condition_label='gender_male'\n",
    "condition_values=[1,2]\n",
    "\n",
    "display(mw_test(df_load, columns, condition_label, condition_values))"
   ]
  },
  {
   "cell_type": "code",
   "execution_count": 287,
   "id": "c3bf2cfe",
   "metadata": {},
   "outputs": [
    {
     "name": "stderr",
     "output_type": "stream",
     "text": [
      "C:\\Users\\Dell\\AppData\\Local\\Temp\\ipykernel_13492\\802478183.py:18: FutureWarning:\n",
      "\n",
      "The behavior of DataFrame concatenation with empty or all-NA entries is deprecated. In a future version, this will no longer exclude empty or all-NA columns when determining the result dtypes. To retain the old behavior, exclude the relevant entries before the concat operation.\n",
      "\n"
     ]
    },
    {
     "data": {
      "text/html": [
       "<div>\n",
       "<style scoped>\n",
       "    .dataframe tbody tr th:only-of-type {\n",
       "        vertical-align: middle;\n",
       "    }\n",
       "\n",
       "    .dataframe tbody tr th {\n",
       "        vertical-align: top;\n",
       "    }\n",
       "\n",
       "    .dataframe thead th {\n",
       "        text-align: right;\n",
       "    }\n",
       "</style>\n",
       "<table border=\"1\" class=\"dataframe\">\n",
       "  <thead>\n",
       "    <tr style=\"text-align: right;\">\n",
       "      <th></th>\n",
       "      <th>var</th>\n",
       "      <th>u_stat</th>\n",
       "      <th>pvalue</th>\n",
       "    </tr>\n",
       "  </thead>\n",
       "  <tbody>\n",
       "    <tr>\n",
       "      <th>0</th>\n",
       "      <td>inv_time</td>\n",
       "      <td>1729.5</td>\n",
       "      <td>0.000005</td>\n",
       "    </tr>\n",
       "  </tbody>\n",
       "</table>\n",
       "</div>"
      ],
      "text/plain": [
       "        var  u_stat    pvalue\n",
       "0  inv_time  1729.5  0.000005"
      ]
     },
     "execution_count": 287,
     "metadata": {},
     "output_type": "execute_result"
    }
   ],
   "source": [
    "# Mann Whitney test on survey\n",
    "\n",
    "# columns=['inv_time', 'inv_num', 'inv_amount_average', 'women_led_inv']\n",
    "columns=['inv_time',]\n",
    "condition_label='survey'\n",
    "condition_values=['BA', 'CI']\n",
    "\n",
    "mw_test(df_load, columns, condition_label, condition_values)"
   ]
  },
  {
   "cell_type": "code",
   "execution_count": null,
   "id": "243d4fe9",
   "metadata": {},
   "outputs": [
    {
     "data": {
      "application/vnd.plotly.v1+json": {
       "config": {
        "plotlyServerURL": "https://plot.ly"
       },
       "data": [
        {
         "fill": "toself",
         "line": {
          "shape": "spline"
         },
         "name": "Men",
         "opacity": 0.5,
         "r": {
          "bdata": "v6Av6Av6CkBjY2NjY2MLQAAAAAAAAARA69WrV69e/T8=",
          "dtype": "f8"
         },
         "theta": [
          "Investment Experience",
          "Number of Investments",
          "Average Invested Amount",
          "Number of Women-Led Investments"
         ],
         "type": "scatterpolar"
        },
        {
         "fill": "toself",
         "line": {
          "shape": "spline"
         },
         "name": "Women",
         "opacity": 0.5,
         "r": {
          "bdata": "hBBCCCGECEAAAAAAAAALQJjQXkJ7Cf0/ip3YiZ3YAUA=",
          "dtype": "f8"
         },
         "theta": [
          "Investment Experience",
          "Number of Investments",
          "Average Invested Amount",
          "Number of Women-Led Investments"
         ],
         "type": "scatterpolar"
        }
       ],
       "layout": {
        "legend": {
         "bordercolor": "rgba(108, 122, 137,1)",
         "borderwidth": 1,
         "x": 0.5,
         "xanchor": "center",
         "y": -0.4,
         "yanchor": "bottom"
        },
        "polar": {
         "angularaxis": {
          "gridcolor": "rgba(108, 122, 137,1)",
          "linecolor": "rgba(108, 122, 137,1)",
          "linewidth": 2,
          "showline": true
         },
         "bgcolor": "rgba(0, 0, 0, 0)",
         "radialaxis": {
          "dtick": 1,
          "gridcolor": "rgba(108, 122, 137,1)",
          "gridwidth": 1,
          "linewidth": 1,
          "range": [
           0,
           4
          ],
          "showline": false,
          "side": "counterclockwise"
         }
        },
        "template": {
         "data": {
          "bar": [
           {
            "error_x": {
             "color": "#2a3f5f"
            },
            "error_y": {
             "color": "#2a3f5f"
            },
            "marker": {
             "line": {
              "color": "#E5ECF6",
              "width": 0.5
             },
             "pattern": {
              "fillmode": "overlay",
              "size": 10,
              "solidity": 0.2
             }
            },
            "type": "bar"
           }
          ],
          "barpolar": [
           {
            "marker": {
             "line": {
              "color": "#E5ECF6",
              "width": 0.5
             },
             "pattern": {
              "fillmode": "overlay",
              "size": 10,
              "solidity": 0.2
             }
            },
            "type": "barpolar"
           }
          ],
          "carpet": [
           {
            "aaxis": {
             "endlinecolor": "#2a3f5f",
             "gridcolor": "white",
             "linecolor": "white",
             "minorgridcolor": "white",
             "startlinecolor": "#2a3f5f"
            },
            "baxis": {
             "endlinecolor": "#2a3f5f",
             "gridcolor": "white",
             "linecolor": "white",
             "minorgridcolor": "white",
             "startlinecolor": "#2a3f5f"
            },
            "type": "carpet"
           }
          ],
          "choropleth": [
           {
            "colorbar": {
             "outlinewidth": 0,
             "ticks": ""
            },
            "type": "choropleth"
           }
          ],
          "contour": [
           {
            "colorbar": {
             "outlinewidth": 0,
             "ticks": ""
            },
            "colorscale": [
             [
              0,
              "#0d0887"
             ],
             [
              0.1111111111111111,
              "#46039f"
             ],
             [
              0.2222222222222222,
              "#7201a8"
             ],
             [
              0.3333333333333333,
              "#9c179e"
             ],
             [
              0.4444444444444444,
              "#bd3786"
             ],
             [
              0.5555555555555556,
              "#d8576b"
             ],
             [
              0.6666666666666666,
              "#ed7953"
             ],
             [
              0.7777777777777778,
              "#fb9f3a"
             ],
             [
              0.8888888888888888,
              "#fdca26"
             ],
             [
              1,
              "#f0f921"
             ]
            ],
            "type": "contour"
           }
          ],
          "contourcarpet": [
           {
            "colorbar": {
             "outlinewidth": 0,
             "ticks": ""
            },
            "type": "contourcarpet"
           }
          ],
          "heatmap": [
           {
            "colorbar": {
             "outlinewidth": 0,
             "ticks": ""
            },
            "colorscale": [
             [
              0,
              "#0d0887"
             ],
             [
              0.1111111111111111,
              "#46039f"
             ],
             [
              0.2222222222222222,
              "#7201a8"
             ],
             [
              0.3333333333333333,
              "#9c179e"
             ],
             [
              0.4444444444444444,
              "#bd3786"
             ],
             [
              0.5555555555555556,
              "#d8576b"
             ],
             [
              0.6666666666666666,
              "#ed7953"
             ],
             [
              0.7777777777777778,
              "#fb9f3a"
             ],
             [
              0.8888888888888888,
              "#fdca26"
             ],
             [
              1,
              "#f0f921"
             ]
            ],
            "type": "heatmap"
           }
          ],
          "histogram": [
           {
            "marker": {
             "pattern": {
              "fillmode": "overlay",
              "size": 10,
              "solidity": 0.2
             }
            },
            "type": "histogram"
           }
          ],
          "histogram2d": [
           {
            "colorbar": {
             "outlinewidth": 0,
             "ticks": ""
            },
            "colorscale": [
             [
              0,
              "#0d0887"
             ],
             [
              0.1111111111111111,
              "#46039f"
             ],
             [
              0.2222222222222222,
              "#7201a8"
             ],
             [
              0.3333333333333333,
              "#9c179e"
             ],
             [
              0.4444444444444444,
              "#bd3786"
             ],
             [
              0.5555555555555556,
              "#d8576b"
             ],
             [
              0.6666666666666666,
              "#ed7953"
             ],
             [
              0.7777777777777778,
              "#fb9f3a"
             ],
             [
              0.8888888888888888,
              "#fdca26"
             ],
             [
              1,
              "#f0f921"
             ]
            ],
            "type": "histogram2d"
           }
          ],
          "histogram2dcontour": [
           {
            "colorbar": {
             "outlinewidth": 0,
             "ticks": ""
            },
            "colorscale": [
             [
              0,
              "#0d0887"
             ],
             [
              0.1111111111111111,
              "#46039f"
             ],
             [
              0.2222222222222222,
              "#7201a8"
             ],
             [
              0.3333333333333333,
              "#9c179e"
             ],
             [
              0.4444444444444444,
              "#bd3786"
             ],
             [
              0.5555555555555556,
              "#d8576b"
             ],
             [
              0.6666666666666666,
              "#ed7953"
             ],
             [
              0.7777777777777778,
              "#fb9f3a"
             ],
             [
              0.8888888888888888,
              "#fdca26"
             ],
             [
              1,
              "#f0f921"
             ]
            ],
            "type": "histogram2dcontour"
           }
          ],
          "mesh3d": [
           {
            "colorbar": {
             "outlinewidth": 0,
             "ticks": ""
            },
            "type": "mesh3d"
           }
          ],
          "parcoords": [
           {
            "line": {
             "colorbar": {
              "outlinewidth": 0,
              "ticks": ""
             }
            },
            "type": "parcoords"
           }
          ],
          "pie": [
           {
            "automargin": true,
            "type": "pie"
           }
          ],
          "scatter": [
           {
            "fillpattern": {
             "fillmode": "overlay",
             "size": 10,
             "solidity": 0.2
            },
            "type": "scatter"
           }
          ],
          "scatter3d": [
           {
            "line": {
             "colorbar": {
              "outlinewidth": 0,
              "ticks": ""
             }
            },
            "marker": {
             "colorbar": {
              "outlinewidth": 0,
              "ticks": ""
             }
            },
            "type": "scatter3d"
           }
          ],
          "scattercarpet": [
           {
            "marker": {
             "colorbar": {
              "outlinewidth": 0,
              "ticks": ""
             }
            },
            "type": "scattercarpet"
           }
          ],
          "scattergeo": [
           {
            "marker": {
             "colorbar": {
              "outlinewidth": 0,
              "ticks": ""
             }
            },
            "type": "scattergeo"
           }
          ],
          "scattergl": [
           {
            "marker": {
             "colorbar": {
              "outlinewidth": 0,
              "ticks": ""
             }
            },
            "type": "scattergl"
           }
          ],
          "scattermap": [
           {
            "marker": {
             "colorbar": {
              "outlinewidth": 0,
              "ticks": ""
             }
            },
            "type": "scattermap"
           }
          ],
          "scattermapbox": [
           {
            "marker": {
             "colorbar": {
              "outlinewidth": 0,
              "ticks": ""
             }
            },
            "type": "scattermapbox"
           }
          ],
          "scatterpolar": [
           {
            "marker": {
             "colorbar": {
              "outlinewidth": 0,
              "ticks": ""
             }
            },
            "type": "scatterpolar"
           }
          ],
          "scatterpolargl": [
           {
            "marker": {
             "colorbar": {
              "outlinewidth": 0,
              "ticks": ""
             }
            },
            "type": "scatterpolargl"
           }
          ],
          "scatterternary": [
           {
            "marker": {
             "colorbar": {
              "outlinewidth": 0,
              "ticks": ""
             }
            },
            "type": "scatterternary"
           }
          ],
          "surface": [
           {
            "colorbar": {
             "outlinewidth": 0,
             "ticks": ""
            },
            "colorscale": [
             [
              0,
              "#0d0887"
             ],
             [
              0.1111111111111111,
              "#46039f"
             ],
             [
              0.2222222222222222,
              "#7201a8"
             ],
             [
              0.3333333333333333,
              "#9c179e"
             ],
             [
              0.4444444444444444,
              "#bd3786"
             ],
             [
              0.5555555555555556,
              "#d8576b"
             ],
             [
              0.6666666666666666,
              "#ed7953"
             ],
             [
              0.7777777777777778,
              "#fb9f3a"
             ],
             [
              0.8888888888888888,
              "#fdca26"
             ],
             [
              1,
              "#f0f921"
             ]
            ],
            "type": "surface"
           }
          ],
          "table": [
           {
            "cells": {
             "fill": {
              "color": "#EBF0F8"
             },
             "line": {
              "color": "white"
             }
            },
            "header": {
             "fill": {
              "color": "#C8D4E3"
             },
             "line": {
              "color": "white"
             }
            },
            "type": "table"
           }
          ]
         },
         "layout": {
          "annotationdefaults": {
           "arrowcolor": "#2a3f5f",
           "arrowhead": 0,
           "arrowwidth": 1
          },
          "autotypenumbers": "strict",
          "coloraxis": {
           "colorbar": {
            "outlinewidth": 0,
            "ticks": ""
           }
          },
          "colorscale": {
           "diverging": [
            [
             0,
             "#8e0152"
            ],
            [
             0.1,
             "#c51b7d"
            ],
            [
             0.2,
             "#de77ae"
            ],
            [
             0.3,
             "#f1b6da"
            ],
            [
             0.4,
             "#fde0ef"
            ],
            [
             0.5,
             "#f7f7f7"
            ],
            [
             0.6,
             "#e6f5d0"
            ],
            [
             0.7,
             "#b8e186"
            ],
            [
             0.8,
             "#7fbc41"
            ],
            [
             0.9,
             "#4d9221"
            ],
            [
             1,
             "#276419"
            ]
           ],
           "sequential": [
            [
             0,
             "#0d0887"
            ],
            [
             0.1111111111111111,
             "#46039f"
            ],
            [
             0.2222222222222222,
             "#7201a8"
            ],
            [
             0.3333333333333333,
             "#9c179e"
            ],
            [
             0.4444444444444444,
             "#bd3786"
            ],
            [
             0.5555555555555556,
             "#d8576b"
            ],
            [
             0.6666666666666666,
             "#ed7953"
            ],
            [
             0.7777777777777778,
             "#fb9f3a"
            ],
            [
             0.8888888888888888,
             "#fdca26"
            ],
            [
             1,
             "#f0f921"
            ]
           ],
           "sequentialminus": [
            [
             0,
             "#0d0887"
            ],
            [
             0.1111111111111111,
             "#46039f"
            ],
            [
             0.2222222222222222,
             "#7201a8"
            ],
            [
             0.3333333333333333,
             "#9c179e"
            ],
            [
             0.4444444444444444,
             "#bd3786"
            ],
            [
             0.5555555555555556,
             "#d8576b"
            ],
            [
             0.6666666666666666,
             "#ed7953"
            ],
            [
             0.7777777777777778,
             "#fb9f3a"
            ],
            [
             0.8888888888888888,
             "#fdca26"
            ],
            [
             1,
             "#f0f921"
            ]
           ]
          },
          "colorway": [
           "#636efa",
           "#EF553B",
           "#00cc96",
           "#ab63fa",
           "#FFA15A",
           "#19d3f3",
           "#FF6692",
           "#B6E880",
           "#FF97FF",
           "#FECB52"
          ],
          "font": {
           "color": "#2a3f5f"
          },
          "geo": {
           "bgcolor": "white",
           "lakecolor": "white",
           "landcolor": "#E5ECF6",
           "showlakes": true,
           "showland": true,
           "subunitcolor": "white"
          },
          "hoverlabel": {
           "align": "left"
          },
          "hovermode": "closest",
          "mapbox": {
           "style": "light"
          },
          "paper_bgcolor": "white",
          "plot_bgcolor": "#E5ECF6",
          "polar": {
           "angularaxis": {
            "gridcolor": "white",
            "linecolor": "white",
            "ticks": ""
           },
           "bgcolor": "#E5ECF6",
           "radialaxis": {
            "gridcolor": "white",
            "linecolor": "white",
            "ticks": ""
           }
          },
          "scene": {
           "xaxis": {
            "backgroundcolor": "#E5ECF6",
            "gridcolor": "white",
            "gridwidth": 2,
            "linecolor": "white",
            "showbackground": true,
            "ticks": "",
            "zerolinecolor": "white"
           },
           "yaxis": {
            "backgroundcolor": "#E5ECF6",
            "gridcolor": "white",
            "gridwidth": 2,
            "linecolor": "white",
            "showbackground": true,
            "ticks": "",
            "zerolinecolor": "white"
           },
           "zaxis": {
            "backgroundcolor": "#E5ECF6",
            "gridcolor": "white",
            "gridwidth": 2,
            "linecolor": "white",
            "showbackground": true,
            "ticks": "",
            "zerolinecolor": "white"
           }
          },
          "shapedefaults": {
           "line": {
            "color": "#2a3f5f"
           }
          },
          "ternary": {
           "aaxis": {
            "gridcolor": "white",
            "linecolor": "white",
            "ticks": ""
           },
           "baxis": {
            "gridcolor": "white",
            "linecolor": "white",
            "ticks": ""
           },
           "bgcolor": "#E5ECF6",
           "caxis": {
            "gridcolor": "white",
            "linecolor": "white",
            "ticks": ""
           }
          },
          "title": {
           "x": 0.05
          },
          "xaxis": {
           "automargin": true,
           "gridcolor": "white",
           "linecolor": "white",
           "ticks": "",
           "title": {
            "standoff": 15
           },
           "zerolinecolor": "white",
           "zerolinewidth": 2
          },
          "yaxis": {
           "automargin": true,
           "gridcolor": "white",
           "linecolor": "white",
           "ticks": "",
           "title": {
            "standoff": 15
           },
           "zerolinecolor": "white",
           "zerolinewidth": 2
          }
         }
        }
       }
      }
     },
     "metadata": {},
     "output_type": "display_data"
    }
   ],
   "source": [
    "import plotly.graph_objects as go\n",
    "\n",
    "funcs=['mean', 'std', 'count']\n",
    "groups=['gender_male']\n",
    "columns=['inv_time', 'inv_num', 'inv_amount_average', 'women_led_inv']\n",
    "\n",
    "df_stats=basic_stats(funcs, groups, columns)\n",
    "\n",
    "categories=['Investment Experience', 'Number of Investments', 'Average Invested Amount', 'Number of Women-Led Investments']\n",
    "r1=df_stats[df_stats[groups[0]]==1]['mean']\n",
    "r2=df_stats[df_stats[groups[0]]==2]['mean']\n",
    "\n",
    "fig = go.Figure()\n",
    "\n",
    "fig.add_trace(go.Scatterpolar(\n",
    "      r=r2,\n",
    "      theta=categories,\n",
    "      fill='toself',\n",
    "      # fillcolor='rgba(0,0,255,0.2)',  # Example: 20% opacity\n",
    "      # line_color='rgba(0,0,255,0.8)',\n",
    "      opacity=0.5,\n",
    "      line_shape='spline',\n",
    "      name='Men'\n",
    "))\n",
    "\n",
    "fig.add_trace(go.Scatterpolar(\n",
    "      r=r1,\n",
    "      theta=categories,\n",
    "      fill='toself',\n",
    "      # fillcolor='rgba(255, 192,203,0.2)',  # Example: 20% opacity\n",
    "      # line_color='rgba(255, 192,203,0.8)',\n",
    "      opacity=0.5,\n",
    "      line_shape='spline',\n",
    "      name='Women',\n",
    "))\n",
    "\n",
    "axis_color = \"rgba(108, 122, 137,1)\"\n",
    "fig.update_layout(\n",
    "  polar=dict(\n",
    "    bgcolor=\"rgba(0, 0, 0, 0)\",\n",
    "    angularaxis = dict(\n",
    "    linewidth = 2,\n",
    "    showline=True,\n",
    "    linecolor =axis_color,\n",
    "    gridcolor =axis_color,\n",
    "  ),\n",
    "    \n",
    "  radialaxis = dict(\n",
    "    side = \"counterclockwise\",\n",
    "    showline = False,\n",
    "    linewidth = 1,\n",
    "    gridcolor =axis_color,\n",
    "    gridwidth = 1,\n",
    "    dtick = 1,\n",
    "    range=[0,4],\n",
    "  )\n",
    "  ),\n",
    "  \n",
    "  legend=dict(\n",
    "    yanchor=\"bottom\",\n",
    "    y=-0.4,\n",
    "    xanchor=\"center\",\n",
    "    x=0.5,\n",
    "    bordercolor=axis_color,\n",
    "    borderwidth=1,\n",
    "  ),\n",
    ")\n",
    "\n",
    "fig.show()"
   ]
  },
  {
   "cell_type": "code",
   "execution_count": 22,
   "id": "88828cd2",
   "metadata": {},
   "outputs": [
    {
     "data": {
      "application/vnd.plotly.v1+json": {
       "config": {
        "plotlyServerURL": "https://plot.ly"
       },
       "data": [
        {
         "fill": "toself",
         "name": "Business Angel",
         "r": {
          "bdata": "YnIFMbmCDEAhC1nIQhYOQHTRRRdddAJAIyz3NMJy/z8=",
          "dtype": "f8"
         },
         "theta": [
          "Investment Experience",
          "Number of Investments",
          "Average Invested Amount",
          "Number of Women-Led Investments"
         ],
         "type": "scatterpolar"
        },
        {
         "fill": "toself",
         "name": "Crowdfunding",
         "r": {
          "bdata": "FrKQhSxkAUCxEzuxEzsBQDuxEzuxEwNAAAAAAAAA/D8=",
          "dtype": "f8"
         },
         "theta": [
          "Investment Experience",
          "Number of Investments",
          "Average Invested Amount",
          "Number of Women-Led Investments"
         ],
         "type": "scatterpolar"
        }
       ],
       "layout": {
        "legend": {
         "bordercolor": "rgba(108, 122, 137,1)",
         "borderwidth": 1,
         "x": 0.5,
         "xanchor": "center",
         "y": -0.4,
         "yanchor": "bottom"
        },
        "polar": {
         "angularaxis": {
          "gridcolor": "rgba(108, 122, 137,1)",
          "linecolor": "rgba(108, 122, 137,1)",
          "linewidth": 2,
          "showline": true
         },
         "bgcolor": "rgba(0, 0, 0, 0)",
         "radialaxis": {
          "dtick": 1,
          "gridcolor": "rgba(108, 122, 137,1)",
          "gridwidth": 1,
          "linewidth": 1,
          "range": [
           0,
           4
          ],
          "showline": false,
          "side": "counterclockwise"
         }
        },
        "template": {
         "data": {
          "bar": [
           {
            "error_x": {
             "color": "#2a3f5f"
            },
            "error_y": {
             "color": "#2a3f5f"
            },
            "marker": {
             "line": {
              "color": "#E5ECF6",
              "width": 0.5
             },
             "pattern": {
              "fillmode": "overlay",
              "size": 10,
              "solidity": 0.2
             }
            },
            "type": "bar"
           }
          ],
          "barpolar": [
           {
            "marker": {
             "line": {
              "color": "#E5ECF6",
              "width": 0.5
             },
             "pattern": {
              "fillmode": "overlay",
              "size": 10,
              "solidity": 0.2
             }
            },
            "type": "barpolar"
           }
          ],
          "carpet": [
           {
            "aaxis": {
             "endlinecolor": "#2a3f5f",
             "gridcolor": "white",
             "linecolor": "white",
             "minorgridcolor": "white",
             "startlinecolor": "#2a3f5f"
            },
            "baxis": {
             "endlinecolor": "#2a3f5f",
             "gridcolor": "white",
             "linecolor": "white",
             "minorgridcolor": "white",
             "startlinecolor": "#2a3f5f"
            },
            "type": "carpet"
           }
          ],
          "choropleth": [
           {
            "colorbar": {
             "outlinewidth": 0,
             "ticks": ""
            },
            "type": "choropleth"
           }
          ],
          "contour": [
           {
            "colorbar": {
             "outlinewidth": 0,
             "ticks": ""
            },
            "colorscale": [
             [
              0,
              "#0d0887"
             ],
             [
              0.1111111111111111,
              "#46039f"
             ],
             [
              0.2222222222222222,
              "#7201a8"
             ],
             [
              0.3333333333333333,
              "#9c179e"
             ],
             [
              0.4444444444444444,
              "#bd3786"
             ],
             [
              0.5555555555555556,
              "#d8576b"
             ],
             [
              0.6666666666666666,
              "#ed7953"
             ],
             [
              0.7777777777777778,
              "#fb9f3a"
             ],
             [
              0.8888888888888888,
              "#fdca26"
             ],
             [
              1,
              "#f0f921"
             ]
            ],
            "type": "contour"
           }
          ],
          "contourcarpet": [
           {
            "colorbar": {
             "outlinewidth": 0,
             "ticks": ""
            },
            "type": "contourcarpet"
           }
          ],
          "heatmap": [
           {
            "colorbar": {
             "outlinewidth": 0,
             "ticks": ""
            },
            "colorscale": [
             [
              0,
              "#0d0887"
             ],
             [
              0.1111111111111111,
              "#46039f"
             ],
             [
              0.2222222222222222,
              "#7201a8"
             ],
             [
              0.3333333333333333,
              "#9c179e"
             ],
             [
              0.4444444444444444,
              "#bd3786"
             ],
             [
              0.5555555555555556,
              "#d8576b"
             ],
             [
              0.6666666666666666,
              "#ed7953"
             ],
             [
              0.7777777777777778,
              "#fb9f3a"
             ],
             [
              0.8888888888888888,
              "#fdca26"
             ],
             [
              1,
              "#f0f921"
             ]
            ],
            "type": "heatmap"
           }
          ],
          "histogram": [
           {
            "marker": {
             "pattern": {
              "fillmode": "overlay",
              "size": 10,
              "solidity": 0.2
             }
            },
            "type": "histogram"
           }
          ],
          "histogram2d": [
           {
            "colorbar": {
             "outlinewidth": 0,
             "ticks": ""
            },
            "colorscale": [
             [
              0,
              "#0d0887"
             ],
             [
              0.1111111111111111,
              "#46039f"
             ],
             [
              0.2222222222222222,
              "#7201a8"
             ],
             [
              0.3333333333333333,
              "#9c179e"
             ],
             [
              0.4444444444444444,
              "#bd3786"
             ],
             [
              0.5555555555555556,
              "#d8576b"
             ],
             [
              0.6666666666666666,
              "#ed7953"
             ],
             [
              0.7777777777777778,
              "#fb9f3a"
             ],
             [
              0.8888888888888888,
              "#fdca26"
             ],
             [
              1,
              "#f0f921"
             ]
            ],
            "type": "histogram2d"
           }
          ],
          "histogram2dcontour": [
           {
            "colorbar": {
             "outlinewidth": 0,
             "ticks": ""
            },
            "colorscale": [
             [
              0,
              "#0d0887"
             ],
             [
              0.1111111111111111,
              "#46039f"
             ],
             [
              0.2222222222222222,
              "#7201a8"
             ],
             [
              0.3333333333333333,
              "#9c179e"
             ],
             [
              0.4444444444444444,
              "#bd3786"
             ],
             [
              0.5555555555555556,
              "#d8576b"
             ],
             [
              0.6666666666666666,
              "#ed7953"
             ],
             [
              0.7777777777777778,
              "#fb9f3a"
             ],
             [
              0.8888888888888888,
              "#fdca26"
             ],
             [
              1,
              "#f0f921"
             ]
            ],
            "type": "histogram2dcontour"
           }
          ],
          "mesh3d": [
           {
            "colorbar": {
             "outlinewidth": 0,
             "ticks": ""
            },
            "type": "mesh3d"
           }
          ],
          "parcoords": [
           {
            "line": {
             "colorbar": {
              "outlinewidth": 0,
              "ticks": ""
             }
            },
            "type": "parcoords"
           }
          ],
          "pie": [
           {
            "automargin": true,
            "type": "pie"
           }
          ],
          "scatter": [
           {
            "fillpattern": {
             "fillmode": "overlay",
             "size": 10,
             "solidity": 0.2
            },
            "type": "scatter"
           }
          ],
          "scatter3d": [
           {
            "line": {
             "colorbar": {
              "outlinewidth": 0,
              "ticks": ""
             }
            },
            "marker": {
             "colorbar": {
              "outlinewidth": 0,
              "ticks": ""
             }
            },
            "type": "scatter3d"
           }
          ],
          "scattercarpet": [
           {
            "marker": {
             "colorbar": {
              "outlinewidth": 0,
              "ticks": ""
             }
            },
            "type": "scattercarpet"
           }
          ],
          "scattergeo": [
           {
            "marker": {
             "colorbar": {
              "outlinewidth": 0,
              "ticks": ""
             }
            },
            "type": "scattergeo"
           }
          ],
          "scattergl": [
           {
            "marker": {
             "colorbar": {
              "outlinewidth": 0,
              "ticks": ""
             }
            },
            "type": "scattergl"
           }
          ],
          "scattermap": [
           {
            "marker": {
             "colorbar": {
              "outlinewidth": 0,
              "ticks": ""
             }
            },
            "type": "scattermap"
           }
          ],
          "scattermapbox": [
           {
            "marker": {
             "colorbar": {
              "outlinewidth": 0,
              "ticks": ""
             }
            },
            "type": "scattermapbox"
           }
          ],
          "scatterpolar": [
           {
            "marker": {
             "colorbar": {
              "outlinewidth": 0,
              "ticks": ""
             }
            },
            "type": "scatterpolar"
           }
          ],
          "scatterpolargl": [
           {
            "marker": {
             "colorbar": {
              "outlinewidth": 0,
              "ticks": ""
             }
            },
            "type": "scatterpolargl"
           }
          ],
          "scatterternary": [
           {
            "marker": {
             "colorbar": {
              "outlinewidth": 0,
              "ticks": ""
             }
            },
            "type": "scatterternary"
           }
          ],
          "surface": [
           {
            "colorbar": {
             "outlinewidth": 0,
             "ticks": ""
            },
            "colorscale": [
             [
              0,
              "#0d0887"
             ],
             [
              0.1111111111111111,
              "#46039f"
             ],
             [
              0.2222222222222222,
              "#7201a8"
             ],
             [
              0.3333333333333333,
              "#9c179e"
             ],
             [
              0.4444444444444444,
              "#bd3786"
             ],
             [
              0.5555555555555556,
              "#d8576b"
             ],
             [
              0.6666666666666666,
              "#ed7953"
             ],
             [
              0.7777777777777778,
              "#fb9f3a"
             ],
             [
              0.8888888888888888,
              "#fdca26"
             ],
             [
              1,
              "#f0f921"
             ]
            ],
            "type": "surface"
           }
          ],
          "table": [
           {
            "cells": {
             "fill": {
              "color": "#EBF0F8"
             },
             "line": {
              "color": "white"
             }
            },
            "header": {
             "fill": {
              "color": "#C8D4E3"
             },
             "line": {
              "color": "white"
             }
            },
            "type": "table"
           }
          ]
         },
         "layout": {
          "annotationdefaults": {
           "arrowcolor": "#2a3f5f",
           "arrowhead": 0,
           "arrowwidth": 1
          },
          "autotypenumbers": "strict",
          "coloraxis": {
           "colorbar": {
            "outlinewidth": 0,
            "ticks": ""
           }
          },
          "colorscale": {
           "diverging": [
            [
             0,
             "#8e0152"
            ],
            [
             0.1,
             "#c51b7d"
            ],
            [
             0.2,
             "#de77ae"
            ],
            [
             0.3,
             "#f1b6da"
            ],
            [
             0.4,
             "#fde0ef"
            ],
            [
             0.5,
             "#f7f7f7"
            ],
            [
             0.6,
             "#e6f5d0"
            ],
            [
             0.7,
             "#b8e186"
            ],
            [
             0.8,
             "#7fbc41"
            ],
            [
             0.9,
             "#4d9221"
            ],
            [
             1,
             "#276419"
            ]
           ],
           "sequential": [
            [
             0,
             "#0d0887"
            ],
            [
             0.1111111111111111,
             "#46039f"
            ],
            [
             0.2222222222222222,
             "#7201a8"
            ],
            [
             0.3333333333333333,
             "#9c179e"
            ],
            [
             0.4444444444444444,
             "#bd3786"
            ],
            [
             0.5555555555555556,
             "#d8576b"
            ],
            [
             0.6666666666666666,
             "#ed7953"
            ],
            [
             0.7777777777777778,
             "#fb9f3a"
            ],
            [
             0.8888888888888888,
             "#fdca26"
            ],
            [
             1,
             "#f0f921"
            ]
           ],
           "sequentialminus": [
            [
             0,
             "#0d0887"
            ],
            [
             0.1111111111111111,
             "#46039f"
            ],
            [
             0.2222222222222222,
             "#7201a8"
            ],
            [
             0.3333333333333333,
             "#9c179e"
            ],
            [
             0.4444444444444444,
             "#bd3786"
            ],
            [
             0.5555555555555556,
             "#d8576b"
            ],
            [
             0.6666666666666666,
             "#ed7953"
            ],
            [
             0.7777777777777778,
             "#fb9f3a"
            ],
            [
             0.8888888888888888,
             "#fdca26"
            ],
            [
             1,
             "#f0f921"
            ]
           ]
          },
          "colorway": [
           "#636efa",
           "#EF553B",
           "#00cc96",
           "#ab63fa",
           "#FFA15A",
           "#19d3f3",
           "#FF6692",
           "#B6E880",
           "#FF97FF",
           "#FECB52"
          ],
          "font": {
           "color": "#2a3f5f"
          },
          "geo": {
           "bgcolor": "white",
           "lakecolor": "white",
           "landcolor": "#E5ECF6",
           "showlakes": true,
           "showland": true,
           "subunitcolor": "white"
          },
          "hoverlabel": {
           "align": "left"
          },
          "hovermode": "closest",
          "mapbox": {
           "style": "light"
          },
          "paper_bgcolor": "white",
          "plot_bgcolor": "#E5ECF6",
          "polar": {
           "angularaxis": {
            "gridcolor": "white",
            "linecolor": "white",
            "ticks": ""
           },
           "bgcolor": "#E5ECF6",
           "radialaxis": {
            "gridcolor": "white",
            "linecolor": "white",
            "ticks": ""
           }
          },
          "scene": {
           "xaxis": {
            "backgroundcolor": "#E5ECF6",
            "gridcolor": "white",
            "gridwidth": 2,
            "linecolor": "white",
            "showbackground": true,
            "ticks": "",
            "zerolinecolor": "white"
           },
           "yaxis": {
            "backgroundcolor": "#E5ECF6",
            "gridcolor": "white",
            "gridwidth": 2,
            "linecolor": "white",
            "showbackground": true,
            "ticks": "",
            "zerolinecolor": "white"
           },
           "zaxis": {
            "backgroundcolor": "#E5ECF6",
            "gridcolor": "white",
            "gridwidth": 2,
            "linecolor": "white",
            "showbackground": true,
            "ticks": "",
            "zerolinecolor": "white"
           }
          },
          "shapedefaults": {
           "line": {
            "color": "#2a3f5f"
           }
          },
          "ternary": {
           "aaxis": {
            "gridcolor": "white",
            "linecolor": "white",
            "ticks": ""
           },
           "baxis": {
            "gridcolor": "white",
            "linecolor": "white",
            "ticks": ""
           },
           "bgcolor": "#E5ECF6",
           "caxis": {
            "gridcolor": "white",
            "linecolor": "white",
            "ticks": ""
           }
          },
          "title": {
           "x": 0.05
          },
          "xaxis": {
           "automargin": true,
           "gridcolor": "white",
           "linecolor": "white",
           "ticks": "",
           "title": {
            "standoff": 15
           },
           "zerolinecolor": "white",
           "zerolinewidth": 2
          },
          "yaxis": {
           "automargin": true,
           "gridcolor": "white",
           "linecolor": "white",
           "ticks": "",
           "title": {
            "standoff": 15
           },
           "zerolinecolor": "white",
           "zerolinewidth": 2
          }
         }
        }
       }
      }
     },
     "metadata": {},
     "output_type": "display_data"
    }
   ],
   "source": [
    "import plotly.graph_objects as go\n",
    "\n",
    "funcs=['mean', 'std', 'count']\n",
    "groups=['survey']\n",
    "columns=['inv_time', 'inv_num', 'inv_amount_average', 'women_led_inv']\n",
    "\n",
    "df_stats=basic_stats(funcs, groups, columns)\n",
    "\n",
    "categories=['Investment Experience', 'Number of Investments', 'Average Invested Amount', 'Number of Women-Led Investments']\n",
    "r1=df_stats[df_stats[groups[0]]=='BA']['mean']\n",
    "r2=df_stats[df_stats[groups[0]]=='CI']['mean']\n",
    "\n",
    "fig = go.Figure()\n",
    "\n",
    "fig.add_trace(go.Scatterpolar(\n",
    "      r=r1,\n",
    "      theta=categories,\n",
    "      fill='toself',\n",
    "      # fillcolor='rgba(0, 255,0,0.2)',  # Example: 20% opacity\n",
    "      # line_color='rgba(0, 255,0,0.8)',\n",
    "      name='Business Angel',\n",
    "      \n",
    "))\n",
    "fig.add_trace(go.Scatterpolar(\n",
    "      r=r2,\n",
    "      theta=categories,\n",
    "      fill='toself',\n",
    "      # fillcolor='rgba(225, 165,0,0.2)',  # Example: 20% opacity\n",
    "      # line_color='rgba(225, 165,0,0.8)',\n",
    "      name='Crowdfunding'\n",
    "))\n",
    "\n",
    "axis_color = \"rgba(108, 122, 137,1)\"\n",
    "fig.update_layout(\n",
    "  \n",
    "  polar=dict(\n",
    "    bgcolor=\"rgba(0, 0, 0, 0)\",\n",
    "    angularaxis = dict(\n",
    "    linewidth = 2,\n",
    "    showline=True,\n",
    "    linecolor =axis_color,\n",
    "    gridcolor =axis_color,\n",
    "  ),\n",
    "  \n",
    "  radialaxis = dict(\n",
    "    side = \"counterclockwise\",\n",
    "    showline = False,\n",
    "    linewidth = 1,\n",
    "    gridcolor =axis_color,\n",
    "    gridwidth = 1,\n",
    "    dtick = 1,\n",
    "    range=[0,4],\n",
    "  )\n",
    "  ),\n",
    "  \n",
    "  legend=dict(\n",
    "    yanchor=\"bottom\",\n",
    "    y=-0.4,\n",
    "    xanchor=\"center\",\n",
    "    x=0.5,\n",
    "    bordercolor=axis_color,\n",
    "    borderwidth=1,\n",
    "  ),\n",
    ")\n",
    "\n",
    "fig.show()"
   ]
  },
  {
   "cell_type": "markdown",
   "id": "09475bee",
   "metadata": {},
   "source": [
    "# Investment Experience - inv_time\n",
    "\n",
    "## Business Angels\n",
    "\n",
    "Q3.1 How long ago did you become a business angel?\n",
    "o\tWithin the last year  (1) \n",
    "o\t2-3 years ago  (2) \n",
    "o\t4-6 years ago  (3) \n",
    "o\t7-9 years ago  (4) \n",
    "o\t10 or more years ago  (5) \n",
    "\n",
    "## Crowfunding Investors\n",
    "\n",
    "Q3.1 How long ago did you first join a crowdfunding platform?\n",
    "o\tWithin the last year  (1) \n",
    "o\t2-3 years ago  (2) \n",
    "o\t4-6 years ago  (3) \n",
    "o\t7-9 years ago  (4) \n",
    "o\t10 or more years ago  (5) \n",
    "\n",
    "## Mapping\n",
    "\n",
    "1 => < 1y\n",
    "2 => [2y, 3y]\n",
    "3 => [4y, 6y]\n",
    "4 => [7y, 9y]\n",
    "5 => ≥ 10y\n",
    "\n"
   ]
  },
  {
   "cell_type": "code",
   "execution_count": 68,
   "id": "c8ff83f8",
   "metadata": {},
   "outputs": [
    {
     "data": {
      "text/html": [
       "<div>\n",
       "<style scoped>\n",
       "    .dataframe tbody tr th:only-of-type {\n",
       "        vertical-align: middle;\n",
       "    }\n",
       "\n",
       "    .dataframe tbody tr th {\n",
       "        vertical-align: top;\n",
       "    }\n",
       "\n",
       "    .dataframe thead th {\n",
       "        text-align: right;\n",
       "    }\n",
       "</style>\n",
       "<table border=\"1\" class=\"dataframe\">\n",
       "  <thead>\n",
       "    <tr style=\"text-align: right;\">\n",
       "      <th></th>\n",
       "      <th>gender_male</th>\n",
       "      <th>mode</th>\n",
       "      <th>median</th>\n",
       "      <th>mean</th>\n",
       "      <th>std</th>\n",
       "      <th>count</th>\n",
       "      <th>var</th>\n",
       "    </tr>\n",
       "  </thead>\n",
       "  <tbody>\n",
       "    <tr>\n",
       "      <th>0</th>\n",
       "      <td>1.0</td>\n",
       "      <td>3.0</td>\n",
       "      <td>3.0</td>\n",
       "      <td>3.064516</td>\n",
       "      <td>1.093480</td>\n",
       "      <td>31</td>\n",
       "      <td>inv_time</td>\n",
       "    </tr>\n",
       "    <tr>\n",
       "      <th>1</th>\n",
       "      <td>2.0</td>\n",
       "      <td>5.0</td>\n",
       "      <td>3.0</td>\n",
       "      <td>3.372093</td>\n",
       "      <td>1.337658</td>\n",
       "      <td>86</td>\n",
       "      <td>inv_time</td>\n",
       "    </tr>\n",
       "  </tbody>\n",
       "</table>\n",
       "</div>"
      ],
      "text/plain": [
       "   gender_male  mode  median      mean       std  count       var\n",
       "0          1.0   3.0     3.0  3.064516  1.093480     31  inv_time\n",
       "1          2.0   5.0     3.0  3.372093  1.337658     86  inv_time"
      ]
     },
     "execution_count": 68,
     "metadata": {},
     "output_type": "execute_result"
    }
   ],
   "source": [
    "# Statistics - Gender\n",
    "funcs=[mode, 'median', 'mean', 'std', 'count']\n",
    "groups=['gender_male']\n",
    "columns=['inv_time',]\n",
    "\n",
    "basic_stats(funcs, groups, columns)"
   ]
  },
  {
   "cell_type": "code",
   "execution_count": 69,
   "id": "27038f77",
   "metadata": {},
   "outputs": [
    {
     "data": {
      "text/html": [
       "<div>\n",
       "<style scoped>\n",
       "    .dataframe tbody tr th:only-of-type {\n",
       "        vertical-align: middle;\n",
       "    }\n",
       "\n",
       "    .dataframe tbody tr th {\n",
       "        vertical-align: top;\n",
       "    }\n",
       "\n",
       "    .dataframe thead th {\n",
       "        text-align: right;\n",
       "    }\n",
       "</style>\n",
       "<table border=\"1\" class=\"dataframe\">\n",
       "  <thead>\n",
       "    <tr style=\"text-align: right;\">\n",
       "      <th></th>\n",
       "      <th>survey</th>\n",
       "      <th>mode</th>\n",
       "      <th>median</th>\n",
       "      <th>mean</th>\n",
       "      <th>std</th>\n",
       "      <th>count</th>\n",
       "      <th>var</th>\n",
       "    </tr>\n",
       "  </thead>\n",
       "  <tbody>\n",
       "    <tr>\n",
       "      <th>0</th>\n",
       "      <td>BA</td>\n",
       "      <td>3.0</td>\n",
       "      <td>4.0</td>\n",
       "      <td>3.563830</td>\n",
       "      <td>1.187375</td>\n",
       "      <td>94</td>\n",
       "      <td>inv_time</td>\n",
       "    </tr>\n",
       "    <tr>\n",
       "      <th>1</th>\n",
       "      <td>CI</td>\n",
       "      <td>2.0</td>\n",
       "      <td>2.0</td>\n",
       "      <td>2.173913</td>\n",
       "      <td>1.029217</td>\n",
       "      <td>23</td>\n",
       "      <td>inv_time</td>\n",
       "    </tr>\n",
       "  </tbody>\n",
       "</table>\n",
       "</div>"
      ],
      "text/plain": [
       "  survey  mode  median      mean       std  count       var\n",
       "0     BA   3.0     4.0  3.563830  1.187375     94  inv_time\n",
       "1     CI   2.0     2.0  2.173913  1.029217     23  inv_time"
      ]
     },
     "execution_count": 69,
     "metadata": {},
     "output_type": "execute_result"
    }
   ],
   "source": [
    "# Statistics - BA/CI\n",
    "funcs=[mode, 'median', 'mean', 'std', 'count']\n",
    "groups=['survey']\n",
    "columns=['inv_time',]\n",
    "\n",
    "basic_stats(funcs, groups, columns)"
   ]
  },
  {
   "cell_type": "code",
   "execution_count": 147,
   "id": "43815f25",
   "metadata": {},
   "outputs": [
    {
     "name": "stderr",
     "output_type": "stream",
     "text": [
      "C:\\Users\\Dell\\AppData\\Local\\Temp\\ipykernel_13492\\4111158924.py:33: FutureWarning:\n",
      "\n",
      "The behavior of DataFrame concatenation with empty or all-NA entries is deprecated. In a future version, this will no longer exclude empty or all-NA columns when determining the result dtypes. To retain the old behavior, exclude the relevant entries before the concat operation.\n",
      "\n",
      "C:\\Users\\Dell\\AppData\\Local\\Temp\\ipykernel_13492\\4111158924.py:33: FutureWarning:\n",
      "\n",
      "The behavior of DataFrame concatenation with empty or all-NA entries is deprecated. In a future version, this will no longer exclude empty or all-NA columns when determining the result dtypes. To retain the old behavior, exclude the relevant entries before the concat operation.\n",
      "\n",
      "C:\\Users\\Dell\\AppData\\Local\\Temp\\ipykernel_13492\\4111158924.py:33: FutureWarning:\n",
      "\n",
      "The behavior of DataFrame concatenation with empty or all-NA entries is deprecated. In a future version, this will no longer exclude empty or all-NA columns when determining the result dtypes. To retain the old behavior, exclude the relevant entries before the concat operation.\n",
      "\n",
      "C:\\Users\\Dell\\AppData\\Local\\Temp\\ipykernel_13492\\4111158924.py:33: FutureWarning:\n",
      "\n",
      "The behavior of DataFrame concatenation with empty or all-NA entries is deprecated. In a future version, this will no longer exclude empty or all-NA columns when determining the result dtypes. To retain the old behavior, exclude the relevant entries before the concat operation.\n",
      "\n",
      "C:\\Users\\Dell\\AppData\\Local\\Temp\\ipykernel_13492\\4111158924.py:33: FutureWarning:\n",
      "\n",
      "The behavior of DataFrame concatenation with empty or all-NA entries is deprecated. In a future version, this will no longer exclude empty or all-NA columns when determining the result dtypes. To retain the old behavior, exclude the relevant entries before the concat operation.\n",
      "\n"
     ]
    },
    {
     "data": {
      "text/html": [
       "<style type=\"text/css\">\n",
       "</style>\n",
       "<table id=\"T_209b6\">\n",
       "  <caption>Investment Experience - Crowdfunding Investors</caption>\n",
       "  <thead>\n",
       "    <tr>\n",
       "      <th class=\"blank level0\" >&nbsp;</th>\n",
       "      <th id=\"T_209b6_level0_col0\" class=\"col_heading level0 col0\" >Response</th>\n",
       "      <th id=\"T_209b6_level0_col1\" class=\"col_heading level0 col1\" >Frequency</th>\n",
       "      <th id=\"T_209b6_level0_col2\" class=\"col_heading level0 col2\" >Percentage</th>\n",
       "    </tr>\n",
       "  </thead>\n",
       "  <tbody>\n",
       "    <tr>\n",
       "      <th id=\"T_209b6_level0_row0\" class=\"row_heading level0 row0\" >0</th>\n",
       "      <td id=\"T_209b6_row0_col0\" class=\"data row0 col0\" >Within the last year</td>\n",
       "      <td id=\"T_209b6_row0_col1\" class=\"data row0 col1\" >7</td>\n",
       "      <td id=\"T_209b6_row0_col2\" class=\"data row0 col2\" >0.107692</td>\n",
       "    </tr>\n",
       "    <tr>\n",
       "      <th id=\"T_209b6_level0_row1\" class=\"row_heading level0 row1\" >0</th>\n",
       "      <td id=\"T_209b6_row1_col0\" class=\"data row1 col0\" >2-3 years ago</td>\n",
       "      <td id=\"T_209b6_row1_col1\" class=\"data row1 col1\" >8</td>\n",
       "      <td id=\"T_209b6_row1_col2\" class=\"data row1 col2\" >0.123077</td>\n",
       "    </tr>\n",
       "    <tr>\n",
       "      <th id=\"T_209b6_level0_row2\" class=\"row_heading level0 row2\" >0</th>\n",
       "      <td id=\"T_209b6_row2_col0\" class=\"data row2 col0\" >4-6 years ago</td>\n",
       "      <td id=\"T_209b6_row2_col1\" class=\"data row2 col1\" >5</td>\n",
       "      <td id=\"T_209b6_row2_col2\" class=\"data row2 col2\" >0.076923</td>\n",
       "    </tr>\n",
       "    <tr>\n",
       "      <th id=\"T_209b6_level0_row3\" class=\"row_heading level0 row3\" >0</th>\n",
       "      <td id=\"T_209b6_row3_col0\" class=\"data row3 col0\" >7-9 years ago</td>\n",
       "      <td id=\"T_209b6_row3_col1\" class=\"data row3 col1\" >3</td>\n",
       "      <td id=\"T_209b6_row3_col2\" class=\"data row3 col2\" >0.046154</td>\n",
       "    </tr>\n",
       "    <tr>\n",
       "      <th id=\"T_209b6_level0_row4\" class=\"row_heading level0 row4\" >0</th>\n",
       "      <td id=\"T_209b6_row4_col0\" class=\"data row4 col0\" >10 or more years ago </td>\n",
       "      <td id=\"T_209b6_row4_col1\" class=\"data row4 col1\" >0</td>\n",
       "      <td id=\"T_209b6_row4_col2\" class=\"data row4 col2\" >0.000000</td>\n",
       "    </tr>\n",
       "    <tr>\n",
       "      <th id=\"T_209b6_level0_row5\" class=\"row_heading level0 row5\" >0</th>\n",
       "      <td id=\"T_209b6_row5_col0\" class=\"data row5 col0\" >NA</td>\n",
       "      <td id=\"T_209b6_row5_col1\" class=\"data row5 col1\" >42</td>\n",
       "      <td id=\"T_209b6_row5_col2\" class=\"data row5 col2\" >0.646154</td>\n",
       "    </tr>\n",
       "    <tr>\n",
       "      <th id=\"T_209b6_level0_row6\" class=\"row_heading level0 row6\" >0</th>\n",
       "      <td id=\"T_209b6_row6_col0\" class=\"data row6 col0\" >Total</td>\n",
       "      <td id=\"T_209b6_row6_col1\" class=\"data row6 col1\" >65</td>\n",
       "      <td id=\"T_209b6_row6_col2\" class=\"data row6 col2\" >1.000000</td>\n",
       "    </tr>\n",
       "  </tbody>\n",
       "</table>\n"
      ],
      "text/plain": [
       "<pandas.io.formats.style.Styler at 0x18c53a9e930>"
      ]
     },
     "execution_count": 147,
     "metadata": {},
     "output_type": "execute_result"
    }
   ],
   "source": [
    "map_table=[\n",
    "        [1,'Within the last year'],\n",
    "        [2,'2-3 years ago'],\n",
    "        [3,'4-6 years ago'],\n",
    "        [4,'7-9 years ago'],\n",
    "        [5,'10 or more years ago '],\n",
    "]\n",
    "\n",
    "title='Investment Experience'\n",
    "df=df_load\n",
    "df_display=freq_table(df, 'inv_time', map_table)\n",
    "df_display.style \\\n",
    "        .set_caption(title)\n",
    "\n",
    "title='Investment Experience - Women'\n",
    "df=df_load[df_load['gender_male']==1]\n",
    "df_display=freq_table(df, 'inv_time', map_table)\n",
    "df_display.style \\\n",
    "        .set_caption(title)\n",
    "        \n",
    "title='Investment Experience - Men'\n",
    "df=df_load[df_load['gender_male']==2]\n",
    "df_display=freq_table(df, 'inv_time', map_table)\n",
    "df_display.style \\\n",
    "        .set_caption(title)\n",
    "\n",
    "title='Investment Experience - Business Angels'\n",
    "df=df_load[df_load['survey']=='BA']\n",
    "df_display=freq_table(df, 'inv_time', map_table)\n",
    "df_display.style \\\n",
    "        .set_caption(title)\n",
    "\n",
    "title='Investment Experience - Crowdfunding Investors'\n",
    "df=df_load[df_load['survey']=='CI']\n",
    "df_display=freq_table(df, 'inv_time', map_table)\n",
    "df_display.style \\\n",
    "        .set_caption(title)\n",
    "        "
   ]
  },
  {
   "cell_type": "code",
   "execution_count": 303,
   "id": "af03b0b6",
   "metadata": {},
   "outputs": [],
   "source": [
    "import pandas as pd\n",
    "import plotly.express as px\n",
    "import plotly.graph_objects as go\n",
    "\n",
    "def des_anal(df, main_title, x_title, x_label, y_title, category_range, category_orders):\n",
    "\n",
    "    ######################## Histograms - One group ########################\n",
    "\n",
    "    groups={\n",
    "        'gender_male':{\n",
    "            'title': main_title + ' - Gender',\n",
    "            'names': ['Men', 'Women'],\n",
    "            'values': [1, 2],\n",
    "        },\n",
    "        'survey':{\n",
    "            'title': main_title + ' - Investor Type',\n",
    "            'names': ['Business Angel', 'Crowdfunding Investor'],\n",
    "            'values': ['BA', 'CI'],\n",
    "        },\n",
    "    }\n",
    "    for group in groups:\n",
    "        fig = go.Figure()\n",
    "        for i in range(len(groups[group]['values'])):    \n",
    "            x=df[df[group]==groups[group]['values'][i]][x_label].replace(category_range, category_orders)\n",
    "            fig.add_trace(go.Histogram(histnorm='percent', x=x, name=groups[group]['names'][i]))\n",
    "    \n",
    "        # Layout\n",
    "        fig.update_layout(\n",
    "            title=groups[group]['title'],\n",
    "            xaxis={\n",
    "                'title': x_title,\n",
    "                'showline': True,\n",
    "                'linewidth': 1,\n",
    "                'linecolor': 'black',\n",
    "                # 'mirror': True,\n",
    "                'categoryorder': 'array',\n",
    "                'categoryarray': category_orders,\n",
    "            },\n",
    "            yaxis={\n",
    "                'title': y_title,\n",
    "                'showline': True,\n",
    "                'linewidth': 1,\n",
    "                'linecolor': 'black',\n",
    "                # 'mirror': True,\n",
    "            },\n",
    "        )\n",
    "\n",
    "        fig.show()\n",
    "    \n",
    "    ######################## Histograms - Cross Groups ########################\n",
    "\n",
    "    groups={\n",
    "        'gender_male':{\n",
    "            'title': main_title + ' - Gender',\n",
    "            'names': ['Men', 'Women'],\n",
    "            'values': [1, 2],\n",
    "        },\n",
    "        'survey':{\n",
    "            'title': main_title + ' - Investor Type',\n",
    "            'names': ['Business Angel', 'Crowdfunding Investor'],\n",
    "            'values': ['BA', 'CI'],\n",
    "        },\n",
    "    }\n",
    "    title = main_title + ' - Gender & Investor Type'\n",
    "    fig = go.Figure()\n",
    "    \n",
    "    for i in range(len(groups['gender_male']['values'])):    \n",
    "        for j in range(len(groups['survey']['values'])):    \n",
    "            x=df[(df['gender_male']==groups['gender_male']['values'][i]) & (df['survey']==groups['survey']['values'][j])][x_label].replace(category_range, category_orders)\n",
    "            fig.add_trace(go.Histogram(histnorm='percent', x=x, name=groups['gender_male']['names'][i]+' & '+groups['survey']['names'][j]))\n",
    "\n",
    "    # Layout\n",
    "    fig.update_layout(\n",
    "        title=title,\n",
    "        xaxis={\n",
    "            'title': x_title,\n",
    "            'showline': True,\n",
    "            'linewidth': 1,\n",
    "            'linecolor': 'black',\n",
    "            # 'mirror': True,\n",
    "            'categoryorder': 'array',\n",
    "            'categoryarray': category_orders,\n",
    "        },\n",
    "        yaxis={\n",
    "            'title': y_title,\n",
    "            'showline': True,\n",
    "            'linewidth': 1,\n",
    "            'linecolor': 'black',\n",
    "            # 'mirror': True,\n",
    "        },\n",
    "    )\n",
    "\n",
    "    fig.show()\n",
    "    \n",
    "    ######################## Statistics ########################\n",
    "    columns=[x_label]\n",
    "\n",
    "    groups=['gender_male']\n",
    "    df_stats=basic_stats(df,funcs,groups,columns)\n",
    "    df_stats['gender_male']=df_stats['gender_male'].replace([1,2], ['Men', 'Women'])\n",
    "    display(df_stats)\n",
    "    \n",
    "    groups=['survey']\n",
    "    df_stats=basic_stats(df,funcs,groups,columns)\n",
    "    df_stats['survey']=df_stats['survey'].replace(['BA','CI'], ['Business Angel', 'Crowdfunding Investor'])\n",
    "    display(df_stats)\n",
    "    \n",
    "    groups=['gender_male', 'survey']\n",
    "    df_stats=basic_stats(df,funcs,groups,columns)\n",
    "    df_stats['gender_male']=df_stats['gender_male'].replace([1,2], ['Men', 'Women'])\n",
    "    df_stats['survey']=df_stats['survey'].replace(['BA','CI'], ['Business Angel', 'Crowdfunding Investor'])\n",
    "    display(df_stats)\n",
    "    \n",
    "    ######################## Mann Whitney U Tests ########################\n",
    "    condition_label='gender_male'\n",
    "    condition_values=[1,2]\n",
    "    print('Mann Whitney U Test - Gender')\n",
    "    display(mw_test(df_load, columns, condition_label, condition_values))\n",
    "    condition_label='survey'\n",
    "    condition_values=['BA','CI']\n",
    "    print('Mann Whitney U Test - Investor Type')\n",
    "    display(mw_test(df_load, columns, condition_label, condition_values))\n",
    "    "
   ]
  },
  {
   "cell_type": "code",
   "execution_count": 304,
   "id": "0ed78199",
   "metadata": {},
   "outputs": [
    {
     "data": {
      "application/vnd.plotly.v1+json": {
       "config": {
        "plotlyServerURL": "https://plot.ly"
       },
       "data": [
        {
         "histnorm": "percent",
         "name": "Men",
         "type": "histogram",
         "x": [
          "7-9 years ago",
          "7-9 years ago",
          "4-6 years ago",
          "Within the last year",
          "2-3 years ago",
          "4-6 years ago",
          "4-6 years ago",
          "7-9 years ago",
          "4-6 years ago",
          "7-9 years ago",
          "4-6 years ago",
          null,
          "4-6 years ago",
          "4-6 years ago",
          "7-9 years ago",
          "4-6 years ago",
          null,
          null,
          "4-6 years ago",
          "2-3 years ago",
          null,
          "7-9 years ago",
          "4-6 years ago",
          "7-9 years ago",
          null,
          "7-9 years ago",
          "7-9 years ago",
          "10 or more years ago",
          "10 or more years ago",
          null,
          "4-6 years ago",
          "Within the last year",
          null,
          "Within the last year",
          null,
          null,
          "4-6 years ago",
          null,
          null,
          "4-6 years ago",
          null,
          null,
          null,
          "Within the last year",
          "2-3 years ago",
          null,
          null
         ]
        },
        {
         "histnorm": "percent",
         "name": "Women",
         "type": "histogram",
         "x": [
          "Within the last year",
          "Within the last year",
          "2-3 years ago",
          "10 or more years ago",
          "4-6 years ago",
          "4-6 years ago",
          "10 or more years ago",
          "2-3 years ago",
          "10 or more years ago",
          "10 or more years ago",
          "10 or more years ago",
          "10 or more years ago",
          "7-9 years ago",
          "4-6 years ago",
          "2-3 years ago",
          "4-6 years ago",
          "2-3 years ago",
          "2-3 years ago",
          "4-6 years ago",
          "4-6 years ago",
          "10 or more years ago",
          "7-9 years ago",
          "7-9 years ago",
          "4-6 years ago",
          "10 or more years ago",
          "7-9 years ago",
          "10 or more years ago",
          "2-3 years ago",
          "7-9 years ago",
          "10 or more years ago",
          "10 or more years ago",
          "4-6 years ago",
          "10 or more years ago",
          "2-3 years ago",
          "10 or more years ago",
          null,
          "7-9 years ago",
          "7-9 years ago",
          null,
          "Within the last year",
          "2-3 years ago",
          "4-6 years ago",
          "2-3 years ago",
          "10 or more years ago",
          "4-6 years ago",
          "10 or more years ago",
          "7-9 years ago",
          "4-6 years ago",
          "10 or more years ago",
          "4-6 years ago",
          "10 or more years ago",
          "7-9 years ago",
          "7-9 years ago",
          "4-6 years ago",
          "4-6 years ago",
          "7-9 years ago",
          "10 or more years ago",
          "4-6 years ago",
          "10 or more years ago",
          "10 or more years ago",
          "10 or more years ago",
          "Within the last year",
          "10 or more years ago",
          "4-6 years ago",
          "10 or more years ago",
          "4-6 years ago",
          "4-6 years ago",
          "4-6 years ago",
          "7-9 years ago",
          "10 or more years ago",
          "10 or more years ago",
          "2-3 years ago",
          "2-3 years ago",
          "2-3 years ago",
          "7-9 years ago",
          "7-9 years ago",
          null,
          "Within the last year",
          "2-3 years ago",
          "4-6 years ago",
          "2-3 years ago",
          "2-3 years ago",
          "2-3 years ago",
          "Within the last year",
          null,
          "Within the last year",
          null,
          null,
          null,
          null,
          null,
          null,
          null,
          "2-3 years ago",
          "7-9 years ago",
          "Within the last year",
          null,
          "4-6 years ago",
          null,
          null,
          null
         ]
        }
       ],
       "layout": {
        "template": {
         "data": {
          "bar": [
           {
            "error_x": {
             "color": "#2a3f5f"
            },
            "error_y": {
             "color": "#2a3f5f"
            },
            "marker": {
             "line": {
              "color": "#E5ECF6",
              "width": 0.5
             },
             "pattern": {
              "fillmode": "overlay",
              "size": 10,
              "solidity": 0.2
             }
            },
            "type": "bar"
           }
          ],
          "barpolar": [
           {
            "marker": {
             "line": {
              "color": "#E5ECF6",
              "width": 0.5
             },
             "pattern": {
              "fillmode": "overlay",
              "size": 10,
              "solidity": 0.2
             }
            },
            "type": "barpolar"
           }
          ],
          "carpet": [
           {
            "aaxis": {
             "endlinecolor": "#2a3f5f",
             "gridcolor": "white",
             "linecolor": "white",
             "minorgridcolor": "white",
             "startlinecolor": "#2a3f5f"
            },
            "baxis": {
             "endlinecolor": "#2a3f5f",
             "gridcolor": "white",
             "linecolor": "white",
             "minorgridcolor": "white",
             "startlinecolor": "#2a3f5f"
            },
            "type": "carpet"
           }
          ],
          "choropleth": [
           {
            "colorbar": {
             "outlinewidth": 0,
             "ticks": ""
            },
            "type": "choropleth"
           }
          ],
          "contour": [
           {
            "colorbar": {
             "outlinewidth": 0,
             "ticks": ""
            },
            "colorscale": [
             [
              0,
              "#0d0887"
             ],
             [
              0.1111111111111111,
              "#46039f"
             ],
             [
              0.2222222222222222,
              "#7201a8"
             ],
             [
              0.3333333333333333,
              "#9c179e"
             ],
             [
              0.4444444444444444,
              "#bd3786"
             ],
             [
              0.5555555555555556,
              "#d8576b"
             ],
             [
              0.6666666666666666,
              "#ed7953"
             ],
             [
              0.7777777777777778,
              "#fb9f3a"
             ],
             [
              0.8888888888888888,
              "#fdca26"
             ],
             [
              1,
              "#f0f921"
             ]
            ],
            "type": "contour"
           }
          ],
          "contourcarpet": [
           {
            "colorbar": {
             "outlinewidth": 0,
             "ticks": ""
            },
            "type": "contourcarpet"
           }
          ],
          "heatmap": [
           {
            "colorbar": {
             "outlinewidth": 0,
             "ticks": ""
            },
            "colorscale": [
             [
              0,
              "#0d0887"
             ],
             [
              0.1111111111111111,
              "#46039f"
             ],
             [
              0.2222222222222222,
              "#7201a8"
             ],
             [
              0.3333333333333333,
              "#9c179e"
             ],
             [
              0.4444444444444444,
              "#bd3786"
             ],
             [
              0.5555555555555556,
              "#d8576b"
             ],
             [
              0.6666666666666666,
              "#ed7953"
             ],
             [
              0.7777777777777778,
              "#fb9f3a"
             ],
             [
              0.8888888888888888,
              "#fdca26"
             ],
             [
              1,
              "#f0f921"
             ]
            ],
            "type": "heatmap"
           }
          ],
          "histogram": [
           {
            "marker": {
             "pattern": {
              "fillmode": "overlay",
              "size": 10,
              "solidity": 0.2
             }
            },
            "type": "histogram"
           }
          ],
          "histogram2d": [
           {
            "colorbar": {
             "outlinewidth": 0,
             "ticks": ""
            },
            "colorscale": [
             [
              0,
              "#0d0887"
             ],
             [
              0.1111111111111111,
              "#46039f"
             ],
             [
              0.2222222222222222,
              "#7201a8"
             ],
             [
              0.3333333333333333,
              "#9c179e"
             ],
             [
              0.4444444444444444,
              "#bd3786"
             ],
             [
              0.5555555555555556,
              "#d8576b"
             ],
             [
              0.6666666666666666,
              "#ed7953"
             ],
             [
              0.7777777777777778,
              "#fb9f3a"
             ],
             [
              0.8888888888888888,
              "#fdca26"
             ],
             [
              1,
              "#f0f921"
             ]
            ],
            "type": "histogram2d"
           }
          ],
          "histogram2dcontour": [
           {
            "colorbar": {
             "outlinewidth": 0,
             "ticks": ""
            },
            "colorscale": [
             [
              0,
              "#0d0887"
             ],
             [
              0.1111111111111111,
              "#46039f"
             ],
             [
              0.2222222222222222,
              "#7201a8"
             ],
             [
              0.3333333333333333,
              "#9c179e"
             ],
             [
              0.4444444444444444,
              "#bd3786"
             ],
             [
              0.5555555555555556,
              "#d8576b"
             ],
             [
              0.6666666666666666,
              "#ed7953"
             ],
             [
              0.7777777777777778,
              "#fb9f3a"
             ],
             [
              0.8888888888888888,
              "#fdca26"
             ],
             [
              1,
              "#f0f921"
             ]
            ],
            "type": "histogram2dcontour"
           }
          ],
          "mesh3d": [
           {
            "colorbar": {
             "outlinewidth": 0,
             "ticks": ""
            },
            "type": "mesh3d"
           }
          ],
          "parcoords": [
           {
            "line": {
             "colorbar": {
              "outlinewidth": 0,
              "ticks": ""
             }
            },
            "type": "parcoords"
           }
          ],
          "pie": [
           {
            "automargin": true,
            "type": "pie"
           }
          ],
          "scatter": [
           {
            "fillpattern": {
             "fillmode": "overlay",
             "size": 10,
             "solidity": 0.2
            },
            "type": "scatter"
           }
          ],
          "scatter3d": [
           {
            "line": {
             "colorbar": {
              "outlinewidth": 0,
              "ticks": ""
             }
            },
            "marker": {
             "colorbar": {
              "outlinewidth": 0,
              "ticks": ""
             }
            },
            "type": "scatter3d"
           }
          ],
          "scattercarpet": [
           {
            "marker": {
             "colorbar": {
              "outlinewidth": 0,
              "ticks": ""
             }
            },
            "type": "scattercarpet"
           }
          ],
          "scattergeo": [
           {
            "marker": {
             "colorbar": {
              "outlinewidth": 0,
              "ticks": ""
             }
            },
            "type": "scattergeo"
           }
          ],
          "scattergl": [
           {
            "marker": {
             "colorbar": {
              "outlinewidth": 0,
              "ticks": ""
             }
            },
            "type": "scattergl"
           }
          ],
          "scattermap": [
           {
            "marker": {
             "colorbar": {
              "outlinewidth": 0,
              "ticks": ""
             }
            },
            "type": "scattermap"
           }
          ],
          "scattermapbox": [
           {
            "marker": {
             "colorbar": {
              "outlinewidth": 0,
              "ticks": ""
             }
            },
            "type": "scattermapbox"
           }
          ],
          "scatterpolar": [
           {
            "marker": {
             "colorbar": {
              "outlinewidth": 0,
              "ticks": ""
             }
            },
            "type": "scatterpolar"
           }
          ],
          "scatterpolargl": [
           {
            "marker": {
             "colorbar": {
              "outlinewidth": 0,
              "ticks": ""
             }
            },
            "type": "scatterpolargl"
           }
          ],
          "scatterternary": [
           {
            "marker": {
             "colorbar": {
              "outlinewidth": 0,
              "ticks": ""
             }
            },
            "type": "scatterternary"
           }
          ],
          "surface": [
           {
            "colorbar": {
             "outlinewidth": 0,
             "ticks": ""
            },
            "colorscale": [
             [
              0,
              "#0d0887"
             ],
             [
              0.1111111111111111,
              "#46039f"
             ],
             [
              0.2222222222222222,
              "#7201a8"
             ],
             [
              0.3333333333333333,
              "#9c179e"
             ],
             [
              0.4444444444444444,
              "#bd3786"
             ],
             [
              0.5555555555555556,
              "#d8576b"
             ],
             [
              0.6666666666666666,
              "#ed7953"
             ],
             [
              0.7777777777777778,
              "#fb9f3a"
             ],
             [
              0.8888888888888888,
              "#fdca26"
             ],
             [
              1,
              "#f0f921"
             ]
            ],
            "type": "surface"
           }
          ],
          "table": [
           {
            "cells": {
             "fill": {
              "color": "#EBF0F8"
             },
             "line": {
              "color": "white"
             }
            },
            "header": {
             "fill": {
              "color": "#C8D4E3"
             },
             "line": {
              "color": "white"
             }
            },
            "type": "table"
           }
          ]
         },
         "layout": {
          "annotationdefaults": {
           "arrowcolor": "#2a3f5f",
           "arrowhead": 0,
           "arrowwidth": 1
          },
          "autotypenumbers": "strict",
          "coloraxis": {
           "colorbar": {
            "outlinewidth": 0,
            "ticks": ""
           }
          },
          "colorscale": {
           "diverging": [
            [
             0,
             "#8e0152"
            ],
            [
             0.1,
             "#c51b7d"
            ],
            [
             0.2,
             "#de77ae"
            ],
            [
             0.3,
             "#f1b6da"
            ],
            [
             0.4,
             "#fde0ef"
            ],
            [
             0.5,
             "#f7f7f7"
            ],
            [
             0.6,
             "#e6f5d0"
            ],
            [
             0.7,
             "#b8e186"
            ],
            [
             0.8,
             "#7fbc41"
            ],
            [
             0.9,
             "#4d9221"
            ],
            [
             1,
             "#276419"
            ]
           ],
           "sequential": [
            [
             0,
             "#0d0887"
            ],
            [
             0.1111111111111111,
             "#46039f"
            ],
            [
             0.2222222222222222,
             "#7201a8"
            ],
            [
             0.3333333333333333,
             "#9c179e"
            ],
            [
             0.4444444444444444,
             "#bd3786"
            ],
            [
             0.5555555555555556,
             "#d8576b"
            ],
            [
             0.6666666666666666,
             "#ed7953"
            ],
            [
             0.7777777777777778,
             "#fb9f3a"
            ],
            [
             0.8888888888888888,
             "#fdca26"
            ],
            [
             1,
             "#f0f921"
            ]
           ],
           "sequentialminus": [
            [
             0,
             "#0d0887"
            ],
            [
             0.1111111111111111,
             "#46039f"
            ],
            [
             0.2222222222222222,
             "#7201a8"
            ],
            [
             0.3333333333333333,
             "#9c179e"
            ],
            [
             0.4444444444444444,
             "#bd3786"
            ],
            [
             0.5555555555555556,
             "#d8576b"
            ],
            [
             0.6666666666666666,
             "#ed7953"
            ],
            [
             0.7777777777777778,
             "#fb9f3a"
            ],
            [
             0.8888888888888888,
             "#fdca26"
            ],
            [
             1,
             "#f0f921"
            ]
           ]
          },
          "colorway": [
           "#636efa",
           "#EF553B",
           "#00cc96",
           "#ab63fa",
           "#FFA15A",
           "#19d3f3",
           "#FF6692",
           "#B6E880",
           "#FF97FF",
           "#FECB52"
          ],
          "font": {
           "color": "#2a3f5f"
          },
          "geo": {
           "bgcolor": "white",
           "lakecolor": "white",
           "landcolor": "#E5ECF6",
           "showlakes": true,
           "showland": true,
           "subunitcolor": "white"
          },
          "hoverlabel": {
           "align": "left"
          },
          "hovermode": "closest",
          "mapbox": {
           "style": "light"
          },
          "paper_bgcolor": "white",
          "plot_bgcolor": "#E5ECF6",
          "polar": {
           "angularaxis": {
            "gridcolor": "white",
            "linecolor": "white",
            "ticks": ""
           },
           "bgcolor": "#E5ECF6",
           "radialaxis": {
            "gridcolor": "white",
            "linecolor": "white",
            "ticks": ""
           }
          },
          "scene": {
           "xaxis": {
            "backgroundcolor": "#E5ECF6",
            "gridcolor": "white",
            "gridwidth": 2,
            "linecolor": "white",
            "showbackground": true,
            "ticks": "",
            "zerolinecolor": "white"
           },
           "yaxis": {
            "backgroundcolor": "#E5ECF6",
            "gridcolor": "white",
            "gridwidth": 2,
            "linecolor": "white",
            "showbackground": true,
            "ticks": "",
            "zerolinecolor": "white"
           },
           "zaxis": {
            "backgroundcolor": "#E5ECF6",
            "gridcolor": "white",
            "gridwidth": 2,
            "linecolor": "white",
            "showbackground": true,
            "ticks": "",
            "zerolinecolor": "white"
           }
          },
          "shapedefaults": {
           "line": {
            "color": "#2a3f5f"
           }
          },
          "ternary": {
           "aaxis": {
            "gridcolor": "white",
            "linecolor": "white",
            "ticks": ""
           },
           "baxis": {
            "gridcolor": "white",
            "linecolor": "white",
            "ticks": ""
           },
           "bgcolor": "#E5ECF6",
           "caxis": {
            "gridcolor": "white",
            "linecolor": "white",
            "ticks": ""
           }
          },
          "title": {
           "x": 0.05
          },
          "xaxis": {
           "automargin": true,
           "gridcolor": "white",
           "linecolor": "white",
           "ticks": "",
           "title": {
            "standoff": 15
           },
           "zerolinecolor": "white",
           "zerolinewidth": 2
          },
          "yaxis": {
           "automargin": true,
           "gridcolor": "white",
           "linecolor": "white",
           "ticks": "",
           "title": {
            "standoff": 15
           },
           "zerolinecolor": "white",
           "zerolinewidth": 2
          }
         }
        },
        "title": {
         "text": "Investment Experience - Gender"
        },
        "xaxis": {
         "categoryarray": [
          "Within the last year",
          "2-3 years ago",
          "4-6 years ago",
          "7-9 years ago",
          "10 or more years ago"
         ],
         "categoryorder": "array",
         "linecolor": "black",
         "linewidth": 1,
         "showline": true,
         "title": {
          "text": ""
         }
        },
        "yaxis": {
         "linecolor": "black",
         "linewidth": 1,
         "showline": true,
         "title": {
          "text": "Frequency"
         }
        }
       }
      }
     },
     "metadata": {},
     "output_type": "display_data"
    },
    {
     "data": {
      "application/vnd.plotly.v1+json": {
       "config": {
        "plotlyServerURL": "https://plot.ly"
       },
       "data": [
        {
         "histnorm": "percent",
         "name": "Business Angel",
         "type": "histogram",
         "x": [
          "Within the last year",
          "Within the last year",
          "7-9 years ago",
          "7-9 years ago",
          "2-3 years ago",
          "10 or more years ago",
          "4-6 years ago",
          "4-6 years ago",
          null,
          null,
          "4-6 years ago",
          "10 or more years ago",
          "Within the last year",
          null,
          "2-3 years ago",
          null,
          "4-6 years ago",
          "2-3 years ago",
          "10 or more years ago",
          "10 or more years ago",
          "10 or more years ago",
          "10 or more years ago",
          "4-6 years ago",
          "7-9 years ago",
          "7-9 years ago",
          "4-6 years ago",
          "2-3 years ago",
          "4-6 years ago",
          null,
          null,
          "4-6 years ago",
          "2-3 years ago",
          "2-3 years ago",
          "4-6 years ago",
          "4-6 years ago",
          "10 or more years ago",
          "7-9 years ago",
          "7-9 years ago",
          "4-6 years ago",
          "10 or more years ago",
          "7-9 years ago",
          null,
          "10 or more years ago",
          "7-9 years ago",
          "2-3 years ago",
          "4-6 years ago",
          "7-9 years ago",
          null,
          "10 or more years ago",
          null,
          "10 or more years ago",
          "4-6 years ago",
          "4-6 years ago",
          null,
          "10 or more years ago",
          null,
          "4-6 years ago",
          "7-9 years ago",
          "2-3 years ago",
          "10 or more years ago",
          null,
          "4-6 years ago",
          null,
          null,
          null,
          null,
          "7-9 years ago",
          null,
          "4-6 years ago",
          "7-9 years ago",
          null,
          null,
          "Within the last year",
          "2-3 years ago",
          "2-3 years ago",
          null,
          "4-6 years ago",
          null,
          null,
          "2-3 years ago",
          "7-9 years ago",
          "10 or more years ago",
          "4-6 years ago",
          "10 or more years ago",
          "4-6 years ago",
          "7-9 years ago",
          null,
          "7-9 years ago",
          "4-6 years ago",
          "10 or more years ago",
          "4-6 years ago",
          "10 or more years ago",
          "7-9 years ago",
          null,
          "7-9 years ago",
          "4-6 years ago",
          null,
          "4-6 years ago",
          null,
          null,
          "7-9 years ago",
          "10 or more years ago",
          "4-6 years ago",
          "10 or more years ago",
          "10 or more years ago",
          "10 or more years ago",
          "Within the last year",
          "10 or more years ago",
          null,
          "4-6 years ago",
          "10 or more years ago",
          null,
          "7-9 years ago",
          "4-6 years ago",
          "7-9 years ago",
          "4-6 years ago",
          "4-6 years ago",
          "10 or more years ago",
          "7-9 years ago",
          "10 or more years ago",
          "10 or more years ago",
          "10 or more years ago",
          "2-3 years ago"
         ]
        },
        {
         "histnorm": "percent",
         "name": "Crowdfunding Investor",
         "type": "histogram",
         "x": [
          "2-3 years ago",
          null,
          "2-3 years ago",
          "7-9 years ago",
          "4-6 years ago",
          "7-9 years ago",
          null,
          "Within the last year",
          "2-3 years ago",
          "Within the last year",
          "4-6 years ago",
          "2-3 years ago",
          null,
          "Within the last year",
          null,
          null,
          null,
          null,
          null,
          null,
          null,
          "4-6 years ago",
          null,
          null,
          null,
          null,
          null,
          "2-3 years ago",
          null,
          null,
          "2-3 years ago",
          null,
          "4-6 years ago",
          "Within the last year",
          null,
          "Within the last year",
          null,
          null,
          null,
          null,
          null,
          null,
          null,
          null,
          null,
          null,
          null,
          null,
          null,
          null,
          null,
          "2-3 years ago",
          "7-9 years ago",
          "Within the last year",
          null,
          null,
          "4-6 years ago",
          "Within the last year",
          "2-3 years ago",
          null,
          null,
          null,
          null,
          null,
          null
         ]
        }
       ],
       "layout": {
        "template": {
         "data": {
          "bar": [
           {
            "error_x": {
             "color": "#2a3f5f"
            },
            "error_y": {
             "color": "#2a3f5f"
            },
            "marker": {
             "line": {
              "color": "#E5ECF6",
              "width": 0.5
             },
             "pattern": {
              "fillmode": "overlay",
              "size": 10,
              "solidity": 0.2
             }
            },
            "type": "bar"
           }
          ],
          "barpolar": [
           {
            "marker": {
             "line": {
              "color": "#E5ECF6",
              "width": 0.5
             },
             "pattern": {
              "fillmode": "overlay",
              "size": 10,
              "solidity": 0.2
             }
            },
            "type": "barpolar"
           }
          ],
          "carpet": [
           {
            "aaxis": {
             "endlinecolor": "#2a3f5f",
             "gridcolor": "white",
             "linecolor": "white",
             "minorgridcolor": "white",
             "startlinecolor": "#2a3f5f"
            },
            "baxis": {
             "endlinecolor": "#2a3f5f",
             "gridcolor": "white",
             "linecolor": "white",
             "minorgridcolor": "white",
             "startlinecolor": "#2a3f5f"
            },
            "type": "carpet"
           }
          ],
          "choropleth": [
           {
            "colorbar": {
             "outlinewidth": 0,
             "ticks": ""
            },
            "type": "choropleth"
           }
          ],
          "contour": [
           {
            "colorbar": {
             "outlinewidth": 0,
             "ticks": ""
            },
            "colorscale": [
             [
              0,
              "#0d0887"
             ],
             [
              0.1111111111111111,
              "#46039f"
             ],
             [
              0.2222222222222222,
              "#7201a8"
             ],
             [
              0.3333333333333333,
              "#9c179e"
             ],
             [
              0.4444444444444444,
              "#bd3786"
             ],
             [
              0.5555555555555556,
              "#d8576b"
             ],
             [
              0.6666666666666666,
              "#ed7953"
             ],
             [
              0.7777777777777778,
              "#fb9f3a"
             ],
             [
              0.8888888888888888,
              "#fdca26"
             ],
             [
              1,
              "#f0f921"
             ]
            ],
            "type": "contour"
           }
          ],
          "contourcarpet": [
           {
            "colorbar": {
             "outlinewidth": 0,
             "ticks": ""
            },
            "type": "contourcarpet"
           }
          ],
          "heatmap": [
           {
            "colorbar": {
             "outlinewidth": 0,
             "ticks": ""
            },
            "colorscale": [
             [
              0,
              "#0d0887"
             ],
             [
              0.1111111111111111,
              "#46039f"
             ],
             [
              0.2222222222222222,
              "#7201a8"
             ],
             [
              0.3333333333333333,
              "#9c179e"
             ],
             [
              0.4444444444444444,
              "#bd3786"
             ],
             [
              0.5555555555555556,
              "#d8576b"
             ],
             [
              0.6666666666666666,
              "#ed7953"
             ],
             [
              0.7777777777777778,
              "#fb9f3a"
             ],
             [
              0.8888888888888888,
              "#fdca26"
             ],
             [
              1,
              "#f0f921"
             ]
            ],
            "type": "heatmap"
           }
          ],
          "histogram": [
           {
            "marker": {
             "pattern": {
              "fillmode": "overlay",
              "size": 10,
              "solidity": 0.2
             }
            },
            "type": "histogram"
           }
          ],
          "histogram2d": [
           {
            "colorbar": {
             "outlinewidth": 0,
             "ticks": ""
            },
            "colorscale": [
             [
              0,
              "#0d0887"
             ],
             [
              0.1111111111111111,
              "#46039f"
             ],
             [
              0.2222222222222222,
              "#7201a8"
             ],
             [
              0.3333333333333333,
              "#9c179e"
             ],
             [
              0.4444444444444444,
              "#bd3786"
             ],
             [
              0.5555555555555556,
              "#d8576b"
             ],
             [
              0.6666666666666666,
              "#ed7953"
             ],
             [
              0.7777777777777778,
              "#fb9f3a"
             ],
             [
              0.8888888888888888,
              "#fdca26"
             ],
             [
              1,
              "#f0f921"
             ]
            ],
            "type": "histogram2d"
           }
          ],
          "histogram2dcontour": [
           {
            "colorbar": {
             "outlinewidth": 0,
             "ticks": ""
            },
            "colorscale": [
             [
              0,
              "#0d0887"
             ],
             [
              0.1111111111111111,
              "#46039f"
             ],
             [
              0.2222222222222222,
              "#7201a8"
             ],
             [
              0.3333333333333333,
              "#9c179e"
             ],
             [
              0.4444444444444444,
              "#bd3786"
             ],
             [
              0.5555555555555556,
              "#d8576b"
             ],
             [
              0.6666666666666666,
              "#ed7953"
             ],
             [
              0.7777777777777778,
              "#fb9f3a"
             ],
             [
              0.8888888888888888,
              "#fdca26"
             ],
             [
              1,
              "#f0f921"
             ]
            ],
            "type": "histogram2dcontour"
           }
          ],
          "mesh3d": [
           {
            "colorbar": {
             "outlinewidth": 0,
             "ticks": ""
            },
            "type": "mesh3d"
           }
          ],
          "parcoords": [
           {
            "line": {
             "colorbar": {
              "outlinewidth": 0,
              "ticks": ""
             }
            },
            "type": "parcoords"
           }
          ],
          "pie": [
           {
            "automargin": true,
            "type": "pie"
           }
          ],
          "scatter": [
           {
            "fillpattern": {
             "fillmode": "overlay",
             "size": 10,
             "solidity": 0.2
            },
            "type": "scatter"
           }
          ],
          "scatter3d": [
           {
            "line": {
             "colorbar": {
              "outlinewidth": 0,
              "ticks": ""
             }
            },
            "marker": {
             "colorbar": {
              "outlinewidth": 0,
              "ticks": ""
             }
            },
            "type": "scatter3d"
           }
          ],
          "scattercarpet": [
           {
            "marker": {
             "colorbar": {
              "outlinewidth": 0,
              "ticks": ""
             }
            },
            "type": "scattercarpet"
           }
          ],
          "scattergeo": [
           {
            "marker": {
             "colorbar": {
              "outlinewidth": 0,
              "ticks": ""
             }
            },
            "type": "scattergeo"
           }
          ],
          "scattergl": [
           {
            "marker": {
             "colorbar": {
              "outlinewidth": 0,
              "ticks": ""
             }
            },
            "type": "scattergl"
           }
          ],
          "scattermap": [
           {
            "marker": {
             "colorbar": {
              "outlinewidth": 0,
              "ticks": ""
             }
            },
            "type": "scattermap"
           }
          ],
          "scattermapbox": [
           {
            "marker": {
             "colorbar": {
              "outlinewidth": 0,
              "ticks": ""
             }
            },
            "type": "scattermapbox"
           }
          ],
          "scatterpolar": [
           {
            "marker": {
             "colorbar": {
              "outlinewidth": 0,
              "ticks": ""
             }
            },
            "type": "scatterpolar"
           }
          ],
          "scatterpolargl": [
           {
            "marker": {
             "colorbar": {
              "outlinewidth": 0,
              "ticks": ""
             }
            },
            "type": "scatterpolargl"
           }
          ],
          "scatterternary": [
           {
            "marker": {
             "colorbar": {
              "outlinewidth": 0,
              "ticks": ""
             }
            },
            "type": "scatterternary"
           }
          ],
          "surface": [
           {
            "colorbar": {
             "outlinewidth": 0,
             "ticks": ""
            },
            "colorscale": [
             [
              0,
              "#0d0887"
             ],
             [
              0.1111111111111111,
              "#46039f"
             ],
             [
              0.2222222222222222,
              "#7201a8"
             ],
             [
              0.3333333333333333,
              "#9c179e"
             ],
             [
              0.4444444444444444,
              "#bd3786"
             ],
             [
              0.5555555555555556,
              "#d8576b"
             ],
             [
              0.6666666666666666,
              "#ed7953"
             ],
             [
              0.7777777777777778,
              "#fb9f3a"
             ],
             [
              0.8888888888888888,
              "#fdca26"
             ],
             [
              1,
              "#f0f921"
             ]
            ],
            "type": "surface"
           }
          ],
          "table": [
           {
            "cells": {
             "fill": {
              "color": "#EBF0F8"
             },
             "line": {
              "color": "white"
             }
            },
            "header": {
             "fill": {
              "color": "#C8D4E3"
             },
             "line": {
              "color": "white"
             }
            },
            "type": "table"
           }
          ]
         },
         "layout": {
          "annotationdefaults": {
           "arrowcolor": "#2a3f5f",
           "arrowhead": 0,
           "arrowwidth": 1
          },
          "autotypenumbers": "strict",
          "coloraxis": {
           "colorbar": {
            "outlinewidth": 0,
            "ticks": ""
           }
          },
          "colorscale": {
           "diverging": [
            [
             0,
             "#8e0152"
            ],
            [
             0.1,
             "#c51b7d"
            ],
            [
             0.2,
             "#de77ae"
            ],
            [
             0.3,
             "#f1b6da"
            ],
            [
             0.4,
             "#fde0ef"
            ],
            [
             0.5,
             "#f7f7f7"
            ],
            [
             0.6,
             "#e6f5d0"
            ],
            [
             0.7,
             "#b8e186"
            ],
            [
             0.8,
             "#7fbc41"
            ],
            [
             0.9,
             "#4d9221"
            ],
            [
             1,
             "#276419"
            ]
           ],
           "sequential": [
            [
             0,
             "#0d0887"
            ],
            [
             0.1111111111111111,
             "#46039f"
            ],
            [
             0.2222222222222222,
             "#7201a8"
            ],
            [
             0.3333333333333333,
             "#9c179e"
            ],
            [
             0.4444444444444444,
             "#bd3786"
            ],
            [
             0.5555555555555556,
             "#d8576b"
            ],
            [
             0.6666666666666666,
             "#ed7953"
            ],
            [
             0.7777777777777778,
             "#fb9f3a"
            ],
            [
             0.8888888888888888,
             "#fdca26"
            ],
            [
             1,
             "#f0f921"
            ]
           ],
           "sequentialminus": [
            [
             0,
             "#0d0887"
            ],
            [
             0.1111111111111111,
             "#46039f"
            ],
            [
             0.2222222222222222,
             "#7201a8"
            ],
            [
             0.3333333333333333,
             "#9c179e"
            ],
            [
             0.4444444444444444,
             "#bd3786"
            ],
            [
             0.5555555555555556,
             "#d8576b"
            ],
            [
             0.6666666666666666,
             "#ed7953"
            ],
            [
             0.7777777777777778,
             "#fb9f3a"
            ],
            [
             0.8888888888888888,
             "#fdca26"
            ],
            [
             1,
             "#f0f921"
            ]
           ]
          },
          "colorway": [
           "#636efa",
           "#EF553B",
           "#00cc96",
           "#ab63fa",
           "#FFA15A",
           "#19d3f3",
           "#FF6692",
           "#B6E880",
           "#FF97FF",
           "#FECB52"
          ],
          "font": {
           "color": "#2a3f5f"
          },
          "geo": {
           "bgcolor": "white",
           "lakecolor": "white",
           "landcolor": "#E5ECF6",
           "showlakes": true,
           "showland": true,
           "subunitcolor": "white"
          },
          "hoverlabel": {
           "align": "left"
          },
          "hovermode": "closest",
          "mapbox": {
           "style": "light"
          },
          "paper_bgcolor": "white",
          "plot_bgcolor": "#E5ECF6",
          "polar": {
           "angularaxis": {
            "gridcolor": "white",
            "linecolor": "white",
            "ticks": ""
           },
           "bgcolor": "#E5ECF6",
           "radialaxis": {
            "gridcolor": "white",
            "linecolor": "white",
            "ticks": ""
           }
          },
          "scene": {
           "xaxis": {
            "backgroundcolor": "#E5ECF6",
            "gridcolor": "white",
            "gridwidth": 2,
            "linecolor": "white",
            "showbackground": true,
            "ticks": "",
            "zerolinecolor": "white"
           },
           "yaxis": {
            "backgroundcolor": "#E5ECF6",
            "gridcolor": "white",
            "gridwidth": 2,
            "linecolor": "white",
            "showbackground": true,
            "ticks": "",
            "zerolinecolor": "white"
           },
           "zaxis": {
            "backgroundcolor": "#E5ECF6",
            "gridcolor": "white",
            "gridwidth": 2,
            "linecolor": "white",
            "showbackground": true,
            "ticks": "",
            "zerolinecolor": "white"
           }
          },
          "shapedefaults": {
           "line": {
            "color": "#2a3f5f"
           }
          },
          "ternary": {
           "aaxis": {
            "gridcolor": "white",
            "linecolor": "white",
            "ticks": ""
           },
           "baxis": {
            "gridcolor": "white",
            "linecolor": "white",
            "ticks": ""
           },
           "bgcolor": "#E5ECF6",
           "caxis": {
            "gridcolor": "white",
            "linecolor": "white",
            "ticks": ""
           }
          },
          "title": {
           "x": 0.05
          },
          "xaxis": {
           "automargin": true,
           "gridcolor": "white",
           "linecolor": "white",
           "ticks": "",
           "title": {
            "standoff": 15
           },
           "zerolinecolor": "white",
           "zerolinewidth": 2
          },
          "yaxis": {
           "automargin": true,
           "gridcolor": "white",
           "linecolor": "white",
           "ticks": "",
           "title": {
            "standoff": 15
           },
           "zerolinecolor": "white",
           "zerolinewidth": 2
          }
         }
        },
        "title": {
         "text": "Investment Experience - Investor Type"
        },
        "xaxis": {
         "categoryarray": [
          "Within the last year",
          "2-3 years ago",
          "4-6 years ago",
          "7-9 years ago",
          "10 or more years ago"
         ],
         "categoryorder": "array",
         "linecolor": "black",
         "linewidth": 1,
         "showline": true,
         "title": {
          "text": ""
         }
        },
        "yaxis": {
         "linecolor": "black",
         "linewidth": 1,
         "showline": true,
         "title": {
          "text": "Frequency"
         }
        }
       }
      }
     },
     "metadata": {},
     "output_type": "display_data"
    },
    {
     "data": {
      "application/vnd.plotly.v1+json": {
       "config": {
        "plotlyServerURL": "https://plot.ly"
       },
       "data": [
        {
         "histnorm": "percent",
         "name": "Men & Business Angel",
         "type": "histogram",
         "x": [
          "7-9 years ago",
          "7-9 years ago",
          "4-6 years ago",
          "Within the last year",
          "2-3 years ago",
          "4-6 years ago",
          "4-6 years ago",
          "7-9 years ago",
          "4-6 years ago",
          "7-9 years ago",
          "4-6 years ago",
          null,
          "4-6 years ago",
          "4-6 years ago",
          "7-9 years ago",
          "4-6 years ago",
          null,
          null,
          "4-6 years ago",
          "2-3 years ago",
          null,
          "7-9 years ago",
          "4-6 years ago",
          "7-9 years ago",
          null,
          "7-9 years ago",
          "7-9 years ago",
          "10 or more years ago",
          "10 or more years ago"
         ]
        },
        {
         "histnorm": "percent",
         "name": "Men & Crowdfunding Investor",
         "type": "histogram",
         "x": [
          null,
          "4-6 years ago",
          "Within the last year",
          null,
          "Within the last year",
          null,
          null,
          "4-6 years ago",
          null,
          null,
          "4-6 years ago",
          null,
          null,
          null,
          "Within the last year",
          "2-3 years ago",
          null,
          null
         ]
        },
        {
         "histnorm": "percent",
         "name": "Women & Business Angel",
         "type": "histogram",
         "x": [
          "Within the last year",
          "Within the last year",
          "2-3 years ago",
          "10 or more years ago",
          "4-6 years ago",
          "4-6 years ago",
          "10 or more years ago",
          "2-3 years ago",
          "10 or more years ago",
          "10 or more years ago",
          "10 or more years ago",
          "10 or more years ago",
          "7-9 years ago",
          "4-6 years ago",
          "2-3 years ago",
          "4-6 years ago",
          "2-3 years ago",
          "2-3 years ago",
          "4-6 years ago",
          "4-6 years ago",
          "10 or more years ago",
          "7-9 years ago",
          "7-9 years ago",
          "4-6 years ago",
          "10 or more years ago",
          "7-9 years ago",
          "10 or more years ago",
          "2-3 years ago",
          "7-9 years ago",
          "10 or more years ago",
          "10 or more years ago",
          "4-6 years ago",
          "10 or more years ago",
          "2-3 years ago",
          "10 or more years ago",
          null,
          "7-9 years ago",
          "7-9 years ago",
          null,
          "Within the last year",
          "2-3 years ago",
          "4-6 years ago",
          "2-3 years ago",
          "10 or more years ago",
          "4-6 years ago",
          "10 or more years ago",
          "7-9 years ago",
          "4-6 years ago",
          "10 or more years ago",
          "4-6 years ago",
          "10 or more years ago",
          "7-9 years ago",
          "7-9 years ago",
          "4-6 years ago",
          "4-6 years ago",
          "7-9 years ago",
          "10 or more years ago",
          "4-6 years ago",
          "10 or more years ago",
          "10 or more years ago",
          "10 or more years ago",
          "Within the last year",
          "10 or more years ago",
          "4-6 years ago",
          "10 or more years ago",
          "4-6 years ago",
          "4-6 years ago",
          "4-6 years ago",
          "7-9 years ago",
          "10 or more years ago",
          "10 or more years ago",
          "2-3 years ago"
         ]
        },
        {
         "histnorm": "percent",
         "name": "Women & Crowdfunding Investor",
         "type": "histogram",
         "x": [
          "2-3 years ago",
          "2-3 years ago",
          "7-9 years ago",
          "7-9 years ago",
          null,
          "Within the last year",
          "2-3 years ago",
          "4-6 years ago",
          "2-3 years ago",
          "2-3 years ago",
          "2-3 years ago",
          "Within the last year",
          null,
          "Within the last year",
          null,
          null,
          null,
          null,
          null,
          null,
          null,
          "2-3 years ago",
          "7-9 years ago",
          "Within the last year",
          null,
          "4-6 years ago",
          null,
          null,
          null
         ]
        }
       ],
       "layout": {
        "template": {
         "data": {
          "bar": [
           {
            "error_x": {
             "color": "#2a3f5f"
            },
            "error_y": {
             "color": "#2a3f5f"
            },
            "marker": {
             "line": {
              "color": "#E5ECF6",
              "width": 0.5
             },
             "pattern": {
              "fillmode": "overlay",
              "size": 10,
              "solidity": 0.2
             }
            },
            "type": "bar"
           }
          ],
          "barpolar": [
           {
            "marker": {
             "line": {
              "color": "#E5ECF6",
              "width": 0.5
             },
             "pattern": {
              "fillmode": "overlay",
              "size": 10,
              "solidity": 0.2
             }
            },
            "type": "barpolar"
           }
          ],
          "carpet": [
           {
            "aaxis": {
             "endlinecolor": "#2a3f5f",
             "gridcolor": "white",
             "linecolor": "white",
             "minorgridcolor": "white",
             "startlinecolor": "#2a3f5f"
            },
            "baxis": {
             "endlinecolor": "#2a3f5f",
             "gridcolor": "white",
             "linecolor": "white",
             "minorgridcolor": "white",
             "startlinecolor": "#2a3f5f"
            },
            "type": "carpet"
           }
          ],
          "choropleth": [
           {
            "colorbar": {
             "outlinewidth": 0,
             "ticks": ""
            },
            "type": "choropleth"
           }
          ],
          "contour": [
           {
            "colorbar": {
             "outlinewidth": 0,
             "ticks": ""
            },
            "colorscale": [
             [
              0,
              "#0d0887"
             ],
             [
              0.1111111111111111,
              "#46039f"
             ],
             [
              0.2222222222222222,
              "#7201a8"
             ],
             [
              0.3333333333333333,
              "#9c179e"
             ],
             [
              0.4444444444444444,
              "#bd3786"
             ],
             [
              0.5555555555555556,
              "#d8576b"
             ],
             [
              0.6666666666666666,
              "#ed7953"
             ],
             [
              0.7777777777777778,
              "#fb9f3a"
             ],
             [
              0.8888888888888888,
              "#fdca26"
             ],
             [
              1,
              "#f0f921"
             ]
            ],
            "type": "contour"
           }
          ],
          "contourcarpet": [
           {
            "colorbar": {
             "outlinewidth": 0,
             "ticks": ""
            },
            "type": "contourcarpet"
           }
          ],
          "heatmap": [
           {
            "colorbar": {
             "outlinewidth": 0,
             "ticks": ""
            },
            "colorscale": [
             [
              0,
              "#0d0887"
             ],
             [
              0.1111111111111111,
              "#46039f"
             ],
             [
              0.2222222222222222,
              "#7201a8"
             ],
             [
              0.3333333333333333,
              "#9c179e"
             ],
             [
              0.4444444444444444,
              "#bd3786"
             ],
             [
              0.5555555555555556,
              "#d8576b"
             ],
             [
              0.6666666666666666,
              "#ed7953"
             ],
             [
              0.7777777777777778,
              "#fb9f3a"
             ],
             [
              0.8888888888888888,
              "#fdca26"
             ],
             [
              1,
              "#f0f921"
             ]
            ],
            "type": "heatmap"
           }
          ],
          "histogram": [
           {
            "marker": {
             "pattern": {
              "fillmode": "overlay",
              "size": 10,
              "solidity": 0.2
             }
            },
            "type": "histogram"
           }
          ],
          "histogram2d": [
           {
            "colorbar": {
             "outlinewidth": 0,
             "ticks": ""
            },
            "colorscale": [
             [
              0,
              "#0d0887"
             ],
             [
              0.1111111111111111,
              "#46039f"
             ],
             [
              0.2222222222222222,
              "#7201a8"
             ],
             [
              0.3333333333333333,
              "#9c179e"
             ],
             [
              0.4444444444444444,
              "#bd3786"
             ],
             [
              0.5555555555555556,
              "#d8576b"
             ],
             [
              0.6666666666666666,
              "#ed7953"
             ],
             [
              0.7777777777777778,
              "#fb9f3a"
             ],
             [
              0.8888888888888888,
              "#fdca26"
             ],
             [
              1,
              "#f0f921"
             ]
            ],
            "type": "histogram2d"
           }
          ],
          "histogram2dcontour": [
           {
            "colorbar": {
             "outlinewidth": 0,
             "ticks": ""
            },
            "colorscale": [
             [
              0,
              "#0d0887"
             ],
             [
              0.1111111111111111,
              "#46039f"
             ],
             [
              0.2222222222222222,
              "#7201a8"
             ],
             [
              0.3333333333333333,
              "#9c179e"
             ],
             [
              0.4444444444444444,
              "#bd3786"
             ],
             [
              0.5555555555555556,
              "#d8576b"
             ],
             [
              0.6666666666666666,
              "#ed7953"
             ],
             [
              0.7777777777777778,
              "#fb9f3a"
             ],
             [
              0.8888888888888888,
              "#fdca26"
             ],
             [
              1,
              "#f0f921"
             ]
            ],
            "type": "histogram2dcontour"
           }
          ],
          "mesh3d": [
           {
            "colorbar": {
             "outlinewidth": 0,
             "ticks": ""
            },
            "type": "mesh3d"
           }
          ],
          "parcoords": [
           {
            "line": {
             "colorbar": {
              "outlinewidth": 0,
              "ticks": ""
             }
            },
            "type": "parcoords"
           }
          ],
          "pie": [
           {
            "automargin": true,
            "type": "pie"
           }
          ],
          "scatter": [
           {
            "fillpattern": {
             "fillmode": "overlay",
             "size": 10,
             "solidity": 0.2
            },
            "type": "scatter"
           }
          ],
          "scatter3d": [
           {
            "line": {
             "colorbar": {
              "outlinewidth": 0,
              "ticks": ""
             }
            },
            "marker": {
             "colorbar": {
              "outlinewidth": 0,
              "ticks": ""
             }
            },
            "type": "scatter3d"
           }
          ],
          "scattercarpet": [
           {
            "marker": {
             "colorbar": {
              "outlinewidth": 0,
              "ticks": ""
             }
            },
            "type": "scattercarpet"
           }
          ],
          "scattergeo": [
           {
            "marker": {
             "colorbar": {
              "outlinewidth": 0,
              "ticks": ""
             }
            },
            "type": "scattergeo"
           }
          ],
          "scattergl": [
           {
            "marker": {
             "colorbar": {
              "outlinewidth": 0,
              "ticks": ""
             }
            },
            "type": "scattergl"
           }
          ],
          "scattermap": [
           {
            "marker": {
             "colorbar": {
              "outlinewidth": 0,
              "ticks": ""
             }
            },
            "type": "scattermap"
           }
          ],
          "scattermapbox": [
           {
            "marker": {
             "colorbar": {
              "outlinewidth": 0,
              "ticks": ""
             }
            },
            "type": "scattermapbox"
           }
          ],
          "scatterpolar": [
           {
            "marker": {
             "colorbar": {
              "outlinewidth": 0,
              "ticks": ""
             }
            },
            "type": "scatterpolar"
           }
          ],
          "scatterpolargl": [
           {
            "marker": {
             "colorbar": {
              "outlinewidth": 0,
              "ticks": ""
             }
            },
            "type": "scatterpolargl"
           }
          ],
          "scatterternary": [
           {
            "marker": {
             "colorbar": {
              "outlinewidth": 0,
              "ticks": ""
             }
            },
            "type": "scatterternary"
           }
          ],
          "surface": [
           {
            "colorbar": {
             "outlinewidth": 0,
             "ticks": ""
            },
            "colorscale": [
             [
              0,
              "#0d0887"
             ],
             [
              0.1111111111111111,
              "#46039f"
             ],
             [
              0.2222222222222222,
              "#7201a8"
             ],
             [
              0.3333333333333333,
              "#9c179e"
             ],
             [
              0.4444444444444444,
              "#bd3786"
             ],
             [
              0.5555555555555556,
              "#d8576b"
             ],
             [
              0.6666666666666666,
              "#ed7953"
             ],
             [
              0.7777777777777778,
              "#fb9f3a"
             ],
             [
              0.8888888888888888,
              "#fdca26"
             ],
             [
              1,
              "#f0f921"
             ]
            ],
            "type": "surface"
           }
          ],
          "table": [
           {
            "cells": {
             "fill": {
              "color": "#EBF0F8"
             },
             "line": {
              "color": "white"
             }
            },
            "header": {
             "fill": {
              "color": "#C8D4E3"
             },
             "line": {
              "color": "white"
             }
            },
            "type": "table"
           }
          ]
         },
         "layout": {
          "annotationdefaults": {
           "arrowcolor": "#2a3f5f",
           "arrowhead": 0,
           "arrowwidth": 1
          },
          "autotypenumbers": "strict",
          "coloraxis": {
           "colorbar": {
            "outlinewidth": 0,
            "ticks": ""
           }
          },
          "colorscale": {
           "diverging": [
            [
             0,
             "#8e0152"
            ],
            [
             0.1,
             "#c51b7d"
            ],
            [
             0.2,
             "#de77ae"
            ],
            [
             0.3,
             "#f1b6da"
            ],
            [
             0.4,
             "#fde0ef"
            ],
            [
             0.5,
             "#f7f7f7"
            ],
            [
             0.6,
             "#e6f5d0"
            ],
            [
             0.7,
             "#b8e186"
            ],
            [
             0.8,
             "#7fbc41"
            ],
            [
             0.9,
             "#4d9221"
            ],
            [
             1,
             "#276419"
            ]
           ],
           "sequential": [
            [
             0,
             "#0d0887"
            ],
            [
             0.1111111111111111,
             "#46039f"
            ],
            [
             0.2222222222222222,
             "#7201a8"
            ],
            [
             0.3333333333333333,
             "#9c179e"
            ],
            [
             0.4444444444444444,
             "#bd3786"
            ],
            [
             0.5555555555555556,
             "#d8576b"
            ],
            [
             0.6666666666666666,
             "#ed7953"
            ],
            [
             0.7777777777777778,
             "#fb9f3a"
            ],
            [
             0.8888888888888888,
             "#fdca26"
            ],
            [
             1,
             "#f0f921"
            ]
           ],
           "sequentialminus": [
            [
             0,
             "#0d0887"
            ],
            [
             0.1111111111111111,
             "#46039f"
            ],
            [
             0.2222222222222222,
             "#7201a8"
            ],
            [
             0.3333333333333333,
             "#9c179e"
            ],
            [
             0.4444444444444444,
             "#bd3786"
            ],
            [
             0.5555555555555556,
             "#d8576b"
            ],
            [
             0.6666666666666666,
             "#ed7953"
            ],
            [
             0.7777777777777778,
             "#fb9f3a"
            ],
            [
             0.8888888888888888,
             "#fdca26"
            ],
            [
             1,
             "#f0f921"
            ]
           ]
          },
          "colorway": [
           "#636efa",
           "#EF553B",
           "#00cc96",
           "#ab63fa",
           "#FFA15A",
           "#19d3f3",
           "#FF6692",
           "#B6E880",
           "#FF97FF",
           "#FECB52"
          ],
          "font": {
           "color": "#2a3f5f"
          },
          "geo": {
           "bgcolor": "white",
           "lakecolor": "white",
           "landcolor": "#E5ECF6",
           "showlakes": true,
           "showland": true,
           "subunitcolor": "white"
          },
          "hoverlabel": {
           "align": "left"
          },
          "hovermode": "closest",
          "mapbox": {
           "style": "light"
          },
          "paper_bgcolor": "white",
          "plot_bgcolor": "#E5ECF6",
          "polar": {
           "angularaxis": {
            "gridcolor": "white",
            "linecolor": "white",
            "ticks": ""
           },
           "bgcolor": "#E5ECF6",
           "radialaxis": {
            "gridcolor": "white",
            "linecolor": "white",
            "ticks": ""
           }
          },
          "scene": {
           "xaxis": {
            "backgroundcolor": "#E5ECF6",
            "gridcolor": "white",
            "gridwidth": 2,
            "linecolor": "white",
            "showbackground": true,
            "ticks": "",
            "zerolinecolor": "white"
           },
           "yaxis": {
            "backgroundcolor": "#E5ECF6",
            "gridcolor": "white",
            "gridwidth": 2,
            "linecolor": "white",
            "showbackground": true,
            "ticks": "",
            "zerolinecolor": "white"
           },
           "zaxis": {
            "backgroundcolor": "#E5ECF6",
            "gridcolor": "white",
            "gridwidth": 2,
            "linecolor": "white",
            "showbackground": true,
            "ticks": "",
            "zerolinecolor": "white"
           }
          },
          "shapedefaults": {
           "line": {
            "color": "#2a3f5f"
           }
          },
          "ternary": {
           "aaxis": {
            "gridcolor": "white",
            "linecolor": "white",
            "ticks": ""
           },
           "baxis": {
            "gridcolor": "white",
            "linecolor": "white",
            "ticks": ""
           },
           "bgcolor": "#E5ECF6",
           "caxis": {
            "gridcolor": "white",
            "linecolor": "white",
            "ticks": ""
           }
          },
          "title": {
           "x": 0.05
          },
          "xaxis": {
           "automargin": true,
           "gridcolor": "white",
           "linecolor": "white",
           "ticks": "",
           "title": {
            "standoff": 15
           },
           "zerolinecolor": "white",
           "zerolinewidth": 2
          },
          "yaxis": {
           "automargin": true,
           "gridcolor": "white",
           "linecolor": "white",
           "ticks": "",
           "title": {
            "standoff": 15
           },
           "zerolinecolor": "white",
           "zerolinewidth": 2
          }
         }
        },
        "title": {
         "text": "Investment Experience - Gender & Investor Type"
        },
        "xaxis": {
         "categoryarray": [
          "Within the last year",
          "2-3 years ago",
          "4-6 years ago",
          "7-9 years ago",
          "10 or more years ago"
         ],
         "categoryorder": "array",
         "linecolor": "black",
         "linewidth": 1,
         "showline": true,
         "title": {
          "text": ""
         }
        },
        "yaxis": {
         "linecolor": "black",
         "linewidth": 1,
         "showline": true,
         "title": {
          "text": "Frequency"
         }
        }
       }
      }
     },
     "metadata": {},
     "output_type": "display_data"
    },
    {
     "data": {
      "text/html": [
       "<div>\n",
       "<style scoped>\n",
       "    .dataframe tbody tr th:only-of-type {\n",
       "        vertical-align: middle;\n",
       "    }\n",
       "\n",
       "    .dataframe tbody tr th {\n",
       "        vertical-align: top;\n",
       "    }\n",
       "\n",
       "    .dataframe thead th {\n",
       "        text-align: right;\n",
       "    }\n",
       "</style>\n",
       "<table border=\"1\" class=\"dataframe\">\n",
       "  <thead>\n",
       "    <tr style=\"text-align: right;\">\n",
       "      <th></th>\n",
       "      <th>gender_male</th>\n",
       "      <th>mode</th>\n",
       "      <th>median</th>\n",
       "      <th>mean</th>\n",
       "      <th>std</th>\n",
       "      <th>total</th>\n",
       "      <th>count</th>\n",
       "      <th>count_na</th>\n",
       "      <th>percent_na</th>\n",
       "      <th>var</th>\n",
       "    </tr>\n",
       "  </thead>\n",
       "  <tbody>\n",
       "    <tr>\n",
       "      <th>0</th>\n",
       "      <td>Men</td>\n",
       "      <td>3.0</td>\n",
       "      <td>3.0</td>\n",
       "      <td>3.064516</td>\n",
       "      <td>1.093480</td>\n",
       "      <td>47</td>\n",
       "      <td>31</td>\n",
       "      <td>16</td>\n",
       "      <td>0.340426</td>\n",
       "      <td>inv_time</td>\n",
       "    </tr>\n",
       "    <tr>\n",
       "      <th>1</th>\n",
       "      <td>Women</td>\n",
       "      <td>5.0</td>\n",
       "      <td>3.0</td>\n",
       "      <td>3.372093</td>\n",
       "      <td>1.337658</td>\n",
       "      <td>101</td>\n",
       "      <td>86</td>\n",
       "      <td>15</td>\n",
       "      <td>0.148515</td>\n",
       "      <td>inv_time</td>\n",
       "    </tr>\n",
       "  </tbody>\n",
       "</table>\n",
       "</div>"
      ],
      "text/plain": [
       "  gender_male  mode  median      mean       std  total  count  count_na  \\\n",
       "0         Men   3.0     3.0  3.064516  1.093480     47     31        16   \n",
       "1       Women   5.0     3.0  3.372093  1.337658    101     86        15   \n",
       "\n",
       "   percent_na       var  \n",
       "0    0.340426  inv_time  \n",
       "1    0.148515  inv_time  "
      ]
     },
     "metadata": {},
     "output_type": "display_data"
    },
    {
     "data": {
      "text/html": [
       "<div>\n",
       "<style scoped>\n",
       "    .dataframe tbody tr th:only-of-type {\n",
       "        vertical-align: middle;\n",
       "    }\n",
       "\n",
       "    .dataframe tbody tr th {\n",
       "        vertical-align: top;\n",
       "    }\n",
       "\n",
       "    .dataframe thead th {\n",
       "        text-align: right;\n",
       "    }\n",
       "</style>\n",
       "<table border=\"1\" class=\"dataframe\">\n",
       "  <thead>\n",
       "    <tr style=\"text-align: right;\">\n",
       "      <th></th>\n",
       "      <th>survey</th>\n",
       "      <th>mode</th>\n",
       "      <th>median</th>\n",
       "      <th>mean</th>\n",
       "      <th>std</th>\n",
       "      <th>total</th>\n",
       "      <th>count</th>\n",
       "      <th>count_na</th>\n",
       "      <th>percent_na</th>\n",
       "      <th>var</th>\n",
       "    </tr>\n",
       "  </thead>\n",
       "  <tbody>\n",
       "    <tr>\n",
       "      <th>0</th>\n",
       "      <td>Business Angel</td>\n",
       "      <td>3.0</td>\n",
       "      <td>4.0</td>\n",
       "      <td>3.563830</td>\n",
       "      <td>1.187375</td>\n",
       "      <td>123</td>\n",
       "      <td>94</td>\n",
       "      <td>29</td>\n",
       "      <td>0.235772</td>\n",
       "      <td>inv_time</td>\n",
       "    </tr>\n",
       "    <tr>\n",
       "      <th>1</th>\n",
       "      <td>Crowdfunding Investor</td>\n",
       "      <td>2.0</td>\n",
       "      <td>2.0</td>\n",
       "      <td>2.173913</td>\n",
       "      <td>1.029217</td>\n",
       "      <td>65</td>\n",
       "      <td>23</td>\n",
       "      <td>42</td>\n",
       "      <td>0.646154</td>\n",
       "      <td>inv_time</td>\n",
       "    </tr>\n",
       "  </tbody>\n",
       "</table>\n",
       "</div>"
      ],
      "text/plain": [
       "                  survey  mode  median      mean       std  total  count  \\\n",
       "0         Business Angel   3.0     4.0  3.563830  1.187375    123     94   \n",
       "1  Crowdfunding Investor   2.0     2.0  2.173913  1.029217     65     23   \n",
       "\n",
       "   count_na  percent_na       var  \n",
       "0        29    0.235772  inv_time  \n",
       "1        42    0.646154  inv_time  "
      ]
     },
     "metadata": {},
     "output_type": "display_data"
    },
    {
     "data": {
      "text/html": [
       "<div>\n",
       "<style scoped>\n",
       "    .dataframe tbody tr th:only-of-type {\n",
       "        vertical-align: middle;\n",
       "    }\n",
       "\n",
       "    .dataframe tbody tr th {\n",
       "        vertical-align: top;\n",
       "    }\n",
       "\n",
       "    .dataframe thead th {\n",
       "        text-align: right;\n",
       "    }\n",
       "</style>\n",
       "<table border=\"1\" class=\"dataframe\">\n",
       "  <thead>\n",
       "    <tr style=\"text-align: right;\">\n",
       "      <th></th>\n",
       "      <th>gender_male</th>\n",
       "      <th>survey</th>\n",
       "      <th>mode</th>\n",
       "      <th>median</th>\n",
       "      <th>mean</th>\n",
       "      <th>std</th>\n",
       "      <th>total</th>\n",
       "      <th>count</th>\n",
       "      <th>count_na</th>\n",
       "      <th>percent_na</th>\n",
       "      <th>var</th>\n",
       "    </tr>\n",
       "  </thead>\n",
       "  <tbody>\n",
       "    <tr>\n",
       "      <th>0</th>\n",
       "      <td>Men</td>\n",
       "      <td>Business Angel</td>\n",
       "      <td>3.0</td>\n",
       "      <td>3.0</td>\n",
       "      <td>3.375000</td>\n",
       "      <td>0.923721</td>\n",
       "      <td>29</td>\n",
       "      <td>24</td>\n",
       "      <td>5</td>\n",
       "      <td>0.172414</td>\n",
       "      <td>inv_time</td>\n",
       "    </tr>\n",
       "    <tr>\n",
       "      <th>1</th>\n",
       "      <td>Men</td>\n",
       "      <td>Crowdfunding Investor</td>\n",
       "      <td>1.0</td>\n",
       "      <td>2.0</td>\n",
       "      <td>2.000000</td>\n",
       "      <td>1.000000</td>\n",
       "      <td>18</td>\n",
       "      <td>7</td>\n",
       "      <td>11</td>\n",
       "      <td>0.611111</td>\n",
       "      <td>inv_time</td>\n",
       "    </tr>\n",
       "    <tr>\n",
       "      <th>2</th>\n",
       "      <td>Women</td>\n",
       "      <td>Business Angel</td>\n",
       "      <td>5.0</td>\n",
       "      <td>4.0</td>\n",
       "      <td>3.628571</td>\n",
       "      <td>1.264584</td>\n",
       "      <td>72</td>\n",
       "      <td>70</td>\n",
       "      <td>2</td>\n",
       "      <td>0.027778</td>\n",
       "      <td>inv_time</td>\n",
       "    </tr>\n",
       "    <tr>\n",
       "      <th>3</th>\n",
       "      <td>Women</td>\n",
       "      <td>Crowdfunding Investor</td>\n",
       "      <td>2.0</td>\n",
       "      <td>2.0</td>\n",
       "      <td>2.250000</td>\n",
       "      <td>1.064581</td>\n",
       "      <td>29</td>\n",
       "      <td>16</td>\n",
       "      <td>13</td>\n",
       "      <td>0.448276</td>\n",
       "      <td>inv_time</td>\n",
       "    </tr>\n",
       "  </tbody>\n",
       "</table>\n",
       "</div>"
      ],
      "text/plain": [
       "  gender_male                 survey  mode  median      mean       std  total  \\\n",
       "0         Men         Business Angel   3.0     3.0  3.375000  0.923721     29   \n",
       "1         Men  Crowdfunding Investor   1.0     2.0  2.000000  1.000000     18   \n",
       "2       Women         Business Angel   5.0     4.0  3.628571  1.264584     72   \n",
       "3       Women  Crowdfunding Investor   2.0     2.0  2.250000  1.064581     29   \n",
       "\n",
       "   count  count_na  percent_na       var  \n",
       "0     24         5    0.172414  inv_time  \n",
       "1      7        11    0.611111  inv_time  \n",
       "2     70         2    0.027778  inv_time  \n",
       "3     16        13    0.448276  inv_time  "
      ]
     },
     "metadata": {},
     "output_type": "display_data"
    },
    {
     "name": "stdout",
     "output_type": "stream",
     "text": [
      "Mann Whitney U Test - Gender\n"
     ]
    },
    {
     "name": "stderr",
     "output_type": "stream",
     "text": [
      "C:\\Users\\Dell\\AppData\\Local\\Temp\\ipykernel_13492\\802478183.py:18: FutureWarning:\n",
      "\n",
      "The behavior of DataFrame concatenation with empty or all-NA entries is deprecated. In a future version, this will no longer exclude empty or all-NA columns when determining the result dtypes. To retain the old behavior, exclude the relevant entries before the concat operation.\n",
      "\n"
     ]
    },
    {
     "data": {
      "text/html": [
       "<div>\n",
       "<style scoped>\n",
       "    .dataframe tbody tr th:only-of-type {\n",
       "        vertical-align: middle;\n",
       "    }\n",
       "\n",
       "    .dataframe tbody tr th {\n",
       "        vertical-align: top;\n",
       "    }\n",
       "\n",
       "    .dataframe thead th {\n",
       "        text-align: right;\n",
       "    }\n",
       "</style>\n",
       "<table border=\"1\" class=\"dataframe\">\n",
       "  <thead>\n",
       "    <tr style=\"text-align: right;\">\n",
       "      <th></th>\n",
       "      <th>var</th>\n",
       "      <th>u_stat</th>\n",
       "      <th>pvalue</th>\n",
       "    </tr>\n",
       "  </thead>\n",
       "  <tbody>\n",
       "    <tr>\n",
       "      <th>0</th>\n",
       "      <td>inv_time</td>\n",
       "      <td>1155.5</td>\n",
       "      <td>0.261672</td>\n",
       "    </tr>\n",
       "  </tbody>\n",
       "</table>\n",
       "</div>"
      ],
      "text/plain": [
       "        var  u_stat    pvalue\n",
       "0  inv_time  1155.5  0.261672"
      ]
     },
     "metadata": {},
     "output_type": "display_data"
    },
    {
     "name": "stdout",
     "output_type": "stream",
     "text": [
      "Mann Whitney U Test - Investor Type\n"
     ]
    },
    {
     "name": "stderr",
     "output_type": "stream",
     "text": [
      "C:\\Users\\Dell\\AppData\\Local\\Temp\\ipykernel_13492\\802478183.py:18: FutureWarning:\n",
      "\n",
      "The behavior of DataFrame concatenation with empty or all-NA entries is deprecated. In a future version, this will no longer exclude empty or all-NA columns when determining the result dtypes. To retain the old behavior, exclude the relevant entries before the concat operation.\n",
      "\n"
     ]
    },
    {
     "data": {
      "text/html": [
       "<div>\n",
       "<style scoped>\n",
       "    .dataframe tbody tr th:only-of-type {\n",
       "        vertical-align: middle;\n",
       "    }\n",
       "\n",
       "    .dataframe tbody tr th {\n",
       "        vertical-align: top;\n",
       "    }\n",
       "\n",
       "    .dataframe thead th {\n",
       "        text-align: right;\n",
       "    }\n",
       "</style>\n",
       "<table border=\"1\" class=\"dataframe\">\n",
       "  <thead>\n",
       "    <tr style=\"text-align: right;\">\n",
       "      <th></th>\n",
       "      <th>var</th>\n",
       "      <th>u_stat</th>\n",
       "      <th>pvalue</th>\n",
       "    </tr>\n",
       "  </thead>\n",
       "  <tbody>\n",
       "    <tr>\n",
       "      <th>0</th>\n",
       "      <td>inv_time</td>\n",
       "      <td>1729.5</td>\n",
       "      <td>0.000005</td>\n",
       "    </tr>\n",
       "  </tbody>\n",
       "</table>\n",
       "</div>"
      ],
      "text/plain": [
       "        var  u_stat    pvalue\n",
       "0  inv_time  1729.5  0.000005"
      ]
     },
     "metadata": {},
     "output_type": "display_data"
    }
   ],
   "source": [
    "import pandas as pd\n",
    "import plotly.express as px\n",
    "import plotly.graph_objects as go\n",
    "\n",
    "df=df_load.copy()\n",
    "main_title='Investment Experience'\n",
    "x_title=''\n",
    "x_label='inv_time'\n",
    "y_title='Frequency'\n",
    "category_range=[1,2,3,4,5]\n",
    "category_orders=['Within the last year','2-3 years ago', '4-6 years ago', '7-9 years ago', '10 or more years ago']\n",
    "\n",
    "des_anal(df, main_title, x_title, x_label, y_title, category_range, category_orders)\n"
   ]
  },
  {
   "cell_type": "code",
   "execution_count": 24,
   "id": "6b8a3caf",
   "metadata": {},
   "outputs": [
    {
     "data": {
      "text/html": [
       "<div>\n",
       "<style scoped>\n",
       "    .dataframe tbody tr th:only-of-type {\n",
       "        vertical-align: middle;\n",
       "    }\n",
       "\n",
       "    .dataframe tbody tr th {\n",
       "        vertical-align: top;\n",
       "    }\n",
       "\n",
       "    .dataframe thead th {\n",
       "        text-align: right;\n",
       "    }\n",
       "</style>\n",
       "<table border=\"1\" class=\"dataframe\">\n",
       "  <thead>\n",
       "    <tr style=\"text-align: right;\">\n",
       "      <th></th>\n",
       "      <th>inv_criteria</th>\n",
       "      <th>inv_sectors</th>\n",
       "    </tr>\n",
       "  </thead>\n",
       "  <tbody>\n",
       "    <tr>\n",
       "      <th>0</th>\n",
       "      <td>3,4</td>\n",
       "      <td>1,2</td>\n",
       "    </tr>\n",
       "    <tr>\n",
       "      <th>1</th>\n",
       "      <td>1,3,4</td>\n",
       "      <td>1</td>\n",
       "    </tr>\n",
       "    <tr>\n",
       "      <th>2</th>\n",
       "      <td>3,4,5</td>\n",
       "      <td>1,3,9</td>\n",
       "    </tr>\n",
       "    <tr>\n",
       "      <th>3</th>\n",
       "      <td>2,3,4</td>\n",
       "      <td>1,3,5</td>\n",
       "    </tr>\n",
       "    <tr>\n",
       "      <th>4</th>\n",
       "      <td>2,3,4</td>\n",
       "      <td>3,4,9</td>\n",
       "    </tr>\n",
       "  </tbody>\n",
       "</table>\n",
       "</div>"
      ],
      "text/plain": [
       "  inv_criteria inv_sectors\n",
       "0          3,4         1,2\n",
       "1        1,3,4           1\n",
       "2        3,4,5       1,3,9\n",
       "3        2,3,4       1,3,5\n",
       "4        2,3,4       3,4,9"
      ]
     },
     "execution_count": 24,
     "metadata": {},
     "output_type": "execute_result"
    }
   ],
   "source": [
    "df_load[['inv_criteria', 'inv_sectors']].head()"
   ]
  },
  {
   "cell_type": "markdown",
   "id": "a05f1af1",
   "metadata": {},
   "source": [
    "# Investment Criteria\n",
    "\n",
    "## Business Angels\n",
    "\n",
    "Q3.11 What are the most important factors you consider before making an investment? (max 3 options)\n",
    "▢\tAlignment with my experience and expertise  (1) \n",
    "▢\tBusiness plan  (2) \n",
    "▢\tScalability/Market potential  (3) \n",
    "▢\tEntrepreneurial team  (4) \n",
    "▢\tEnvironmental/social impact  (5) \n",
    "▢\tExit strategy  (6) \n",
    "▢\tFair valuation/return  (7) \n",
    "▢\tOther (to clarify)  (8) __________________________________________________\n",
    "\n",
    "## Crowfunding Investors\n",
    "\n",
    "Q3.8 What are the main factors you consider before making an investment via a crowdfunding platform? (max 3 options)\n",
    "▢\tBusiness plan  (1) \n",
    "▢\tCrowd opinion  (2) \n",
    "▢\tEntrepreneurial team  (3) \n",
    "▢\tEnvironmental/social impact  (4) \n",
    "▢\tExit strategy  (5) \n",
    "▢\tFair valuation/return  (6) \n",
    "▢\tOther (to clarify)  (7) __________________________________________________\n",
    "\n",
    "## Consolidated questionaire\n",
    "\n",
    "1. Business plan\n",
    "2. Entrepreneurial team\n",
    "3. Environmental/social impact \n",
    "4. Exit strategy\n",
    "5. Fair valuation/return \n",
    "6. Alignment with my experience and expertise\n",
    "7. Scalability/Market potential\n",
    "8. Crowd opinion\n",
    "9. Other\n"
   ]
  },
  {
   "cell_type": "code",
   "execution_count": null,
   "id": "8e0593cf",
   "metadata": {},
   "outputs": [
    {
     "data": {
      "text/html": [
       "<div>\n",
       "<style scoped>\n",
       "    .dataframe tbody tr th:only-of-type {\n",
       "        vertical-align: middle;\n",
       "    }\n",
       "\n",
       "    .dataframe tbody tr th {\n",
       "        vertical-align: top;\n",
       "    }\n",
       "\n",
       "    .dataframe thead th {\n",
       "        text-align: right;\n",
       "    }\n",
       "</style>\n",
       "<table border=\"1\" class=\"dataframe\">\n",
       "  <thead>\n",
       "    <tr style=\"text-align: right;\">\n",
       "      <th></th>\n",
       "      <th>gender_male</th>\n",
       "      <th>mode</th>\n",
       "      <th>median</th>\n",
       "      <th>mean</th>\n",
       "      <th>std</th>\n",
       "      <th>count</th>\n",
       "      <th>var</th>\n",
       "    </tr>\n",
       "  </thead>\n",
       "  <tbody>\n",
       "    <tr>\n",
       "      <th>0</th>\n",
       "      <td>1.0</td>\n",
       "      <td>3.0</td>\n",
       "      <td>3.0</td>\n",
       "      <td>3.064516</td>\n",
       "      <td>1.093480</td>\n",
       "      <td>31</td>\n",
       "      <td>inv_time</td>\n",
       "    </tr>\n",
       "    <tr>\n",
       "      <th>1</th>\n",
       "      <td>2.0</td>\n",
       "      <td>5.0</td>\n",
       "      <td>3.0</td>\n",
       "      <td>3.372093</td>\n",
       "      <td>1.337658</td>\n",
       "      <td>86</td>\n",
       "      <td>inv_time</td>\n",
       "    </tr>\n",
       "  </tbody>\n",
       "</table>\n",
       "</div>"
      ],
      "text/plain": [
       "   gender_male  mode  median      mean       std  count       var\n",
       "0          1.0   3.0     3.0  3.064516  1.093480     31  inv_time\n",
       "1          2.0   5.0     3.0  3.372093  1.337658     86  inv_time"
      ]
     },
     "execution_count": 67,
     "metadata": {},
     "output_type": "execute_result"
    }
   ],
   "source": []
  },
  {
   "cell_type": "code",
   "execution_count": null,
   "id": "ae1452ee",
   "metadata": {},
   "outputs": [],
   "source": [
    "# Statistics - Gender\n",
    "funcs=[mode, 'median', 'mean', 'std', 'count']\n",
    "groups=['gender_male']\n",
    "columns=['inv_time',]\n",
    "\n",
    "basic_stats(funcs, groups, columns)"
   ]
  },
  {
   "cell_type": "code",
   "execution_count": null,
   "id": "32a4520b",
   "metadata": {},
   "outputs": [],
   "source": [
    "# inv_sectors\n",
    "\n",
    "# BA\n",
    "# Q3.12 In which business sector(s) have you invested as a business angel?\n",
    "# ▢\tInformation technology (software, internet, IT services, etc.)  (1) \n",
    "# ▢\tFinance  (2) \n",
    "# ▢\tHealthcare / Biotech  (3) \n",
    "# ▢\tManufacturing  (4) \n",
    "# ▢\tRetail  (5) \n",
    "# ▢\tConsulting  (6) \n",
    "# ▢\tEnergy  (7) \n",
    "# ▢\tTransportation  (8) \n",
    "# ▢\tOther (please clarify)  (9) __________________________________________________\n",
    "\n",
    "# CI\n",
    "# Q3.9 In which business sector(s) have you invested as a crowd investor?\n",
    "# ▢\tInformation technology (software, internet, IT services, etc.)  (1) \n",
    "# ▢\tFinance  (2) \n",
    "# ▢\tHealthcare / Biotech  (3) \n",
    "# ▢\tManufacturing  (4) \n",
    "# ▢\tRetail  (5) \n",
    "# ▢\tConsulting  (6) \n",
    "# ▢\tEnergy  (7) \n",
    "# ▢\tTransportation  (8) \n",
    "# ▢\tOther (please clarify)  (9) __________________________________________________\n"
   ]
  }
 ],
 "metadata": {
  "kernelspec": {
   "display_name": "venv",
   "language": "python",
   "name": "python3"
  },
  "language_info": {
   "codemirror_mode": {
    "name": "ipython",
    "version": 3
   },
   "file_extension": ".py",
   "mimetype": "text/x-python",
   "name": "python",
   "nbconvert_exporter": "python",
   "pygments_lexer": "ipython3",
   "version": "3.12.1"
  }
 },
 "nbformat": 4,
 "nbformat_minor": 5
}
