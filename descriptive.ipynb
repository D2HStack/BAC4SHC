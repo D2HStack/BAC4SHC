{
 "cells": [
  {
   "cell_type": "code",
   "execution_count": 69,
   "id": "17b9a835",
   "metadata": {},
   "outputs": [
    {
     "name": "stdout",
     "output_type": "stream",
     "text": [
      "Requirement already satisfied: pandas==2.3.0 in d:\\projects\\bac4shc\\venv\\lib\\site-packages (from -r requirements.txt (line 1)) (2.3.0)\n",
      "Requirement already satisfied: openpyxl==3.1.5 in d:\\projects\\bac4shc\\venv\\lib\\site-packages (from -r requirements.txt (line 2)) (3.1.5)\n",
      "Requirement already satisfied: numpy==2.3.1 in d:\\projects\\bac4shc\\venv\\lib\\site-packages (from -r requirements.txt (line 3)) (2.3.1)\n",
      "Requirement already satisfied: scipy==1.16.0 in d:\\projects\\bac4shc\\venv\\lib\\site-packages (from -r requirements.txt (line 4)) (1.16.0)\n",
      "Requirement already satisfied: plotly==6.2.0 in d:\\projects\\bac4shc\\venv\\lib\\site-packages (from -r requirements.txt (line 5)) (6.2.0)\n",
      "Requirement already satisfied: python-dateutil>=2.8.2 in d:\\projects\\bac4shc\\venv\\lib\\site-packages (from pandas==2.3.0->-r requirements.txt (line 1)) (2.9.0.post0)\n",
      "Requirement already satisfied: pytz>=2020.1 in d:\\projects\\bac4shc\\venv\\lib\\site-packages (from pandas==2.3.0->-r requirements.txt (line 1)) (2025.2)\n",
      "Requirement already satisfied: tzdata>=2022.7 in d:\\projects\\bac4shc\\venv\\lib\\site-packages (from pandas==2.3.0->-r requirements.txt (line 1)) (2025.2)\n",
      "Requirement already satisfied: et-xmlfile in d:\\projects\\bac4shc\\venv\\lib\\site-packages (from openpyxl==3.1.5->-r requirements.txt (line 2)) (2.0.0)\n",
      "Requirement already satisfied: narwhals>=1.15.1 in d:\\projects\\bac4shc\\venv\\lib\\site-packages (from plotly==6.2.0->-r requirements.txt (line 5)) (1.45.0)\n",
      "Requirement already satisfied: packaging in d:\\projects\\bac4shc\\venv\\lib\\site-packages (from plotly==6.2.0->-r requirements.txt (line 5)) (25.0)\n",
      "Requirement already satisfied: six>=1.5 in d:\\projects\\bac4shc\\venv\\lib\\site-packages (from python-dateutil>=2.8.2->pandas==2.3.0->-r requirements.txt (line 1)) (1.17.0)\n"
     ]
    }
   ],
   "source": [
    "!pip install -r requirements.txt"
   ]
  },
  {
   "cell_type": "code",
   "execution_count": 2,
   "id": "cb929d7f",
   "metadata": {},
   "outputs": [],
   "source": [
    "# Load data\n",
    "import pandas as pd \n",
    "\n",
    "file_path='assets/datasets/clean/250604-consolidated_survey.xlsx'\n",
    "df_load=pd.read_excel(file_path).drop(columns=['Unnamed: 0'])"
   ]
  },
  {
   "cell_type": "code",
   "execution_count": 3,
   "id": "0af7e838",
   "metadata": {},
   "outputs": [
    {
     "data": {
      "text/html": [
       "<div>\n",
       "<style scoped>\n",
       "    .dataframe tbody tr th:only-of-type {\n",
       "        vertical-align: middle;\n",
       "    }\n",
       "\n",
       "    .dataframe tbody tr th {\n",
       "        vertical-align: top;\n",
       "    }\n",
       "\n",
       "    .dataframe thead th {\n",
       "        text-align: right;\n",
       "    }\n",
       "</style>\n",
       "<table border=\"1\" class=\"dataframe\">\n",
       "  <thead>\n",
       "    <tr style=\"text-align: right;\">\n",
       "      <th></th>\n",
       "      <th>start_date</th>\n",
       "      <th>end_date</th>\n",
       "      <th>survey_status</th>\n",
       "      <th>completion_level</th>\n",
       "      <th>completion_time</th>\n",
       "      <th>survey_completed</th>\n",
       "      <th>recorded_date</th>\n",
       "      <th>response_id</th>\n",
       "      <th>distribution_channel</th>\n",
       "      <th>user_language</th>\n",
       "      <th>...</th>\n",
       "      <th>soc_aspects</th>\n",
       "      <th>soc_aspects_other</th>\n",
       "      <th>es_assess</th>\n",
       "      <th>es_assess_other</th>\n",
       "      <th>es_more_info</th>\n",
       "      <th>es_certif</th>\n",
       "      <th>email</th>\n",
       "      <th>survey</th>\n",
       "      <th>inv_platform</th>\n",
       "      <th>inv_platform_other</th>\n",
       "    </tr>\n",
       "  </thead>\n",
       "  <tbody>\n",
       "    <tr>\n",
       "      <th>0</th>\n",
       "      <td>2024-11-13 10:30:58</td>\n",
       "      <td>2024-11-13 10:37:24</td>\n",
       "      <td>0</td>\n",
       "      <td>100</td>\n",
       "      <td>386</td>\n",
       "      <td>1</td>\n",
       "      <td>2024-11-13 10:37:25.745</td>\n",
       "      <td>R_2CYvoda8TZhYFaN</td>\n",
       "      <td>anonymous</td>\n",
       "      <td>IT</td>\n",
       "      <td>...</td>\n",
       "      <td>2,3,4</td>\n",
       "      <td>NaN</td>\n",
       "      <td>2</td>\n",
       "      <td>NaN</td>\n",
       "      <td>3.0</td>\n",
       "      <td>2,3</td>\n",
       "      <td>NaN</td>\n",
       "      <td>BA</td>\n",
       "      <td>NaN</td>\n",
       "      <td>NaN</td>\n",
       "    </tr>\n",
       "    <tr>\n",
       "      <th>1</th>\n",
       "      <td>2024-11-14 14:00:16</td>\n",
       "      <td>2024-11-14 14:08:08</td>\n",
       "      <td>0</td>\n",
       "      <td>100</td>\n",
       "      <td>472</td>\n",
       "      <td>1</td>\n",
       "      <td>2024-11-14 14:08:09.160</td>\n",
       "      <td>R_2PCMoZEjgiOeupr</td>\n",
       "      <td>anonymous</td>\n",
       "      <td>IT</td>\n",
       "      <td>...</td>\n",
       "      <td>1</td>\n",
       "      <td>NaN</td>\n",
       "      <td>2</td>\n",
       "      <td>NaN</td>\n",
       "      <td>3.0</td>\n",
       "      <td>1</td>\n",
       "      <td>NaN</td>\n",
       "      <td>BA</td>\n",
       "      <td>NaN</td>\n",
       "      <td>NaN</td>\n",
       "    </tr>\n",
       "    <tr>\n",
       "      <th>2</th>\n",
       "      <td>2024-11-14 14:28:17</td>\n",
       "      <td>2024-11-14 14:36:18</td>\n",
       "      <td>0</td>\n",
       "      <td>100</td>\n",
       "      <td>480</td>\n",
       "      <td>1</td>\n",
       "      <td>2024-11-14 14:36:18.958</td>\n",
       "      <td>R_8HBDPZSIjz1M0rn</td>\n",
       "      <td>anonymous</td>\n",
       "      <td>IT</td>\n",
       "      <td>...</td>\n",
       "      <td>1,3</td>\n",
       "      <td>NaN</td>\n",
       "      <td>3</td>\n",
       "      <td>NaN</td>\n",
       "      <td>5.0</td>\n",
       "      <td>2,3</td>\n",
       "      <td>anmata@libero.it</td>\n",
       "      <td>BA</td>\n",
       "      <td>NaN</td>\n",
       "      <td>NaN</td>\n",
       "    </tr>\n",
       "    <tr>\n",
       "      <th>3</th>\n",
       "      <td>2024-11-14 16:46:00</td>\n",
       "      <td>2024-11-14 18:31:25</td>\n",
       "      <td>0</td>\n",
       "      <td>100</td>\n",
       "      <td>6324</td>\n",
       "      <td>1</td>\n",
       "      <td>2024-11-14 18:31:26.274</td>\n",
       "      <td>R_8dSEqbK9X2kHC6i</td>\n",
       "      <td>anonymous</td>\n",
       "      <td>IT</td>\n",
       "      <td>...</td>\n",
       "      <td>1,4</td>\n",
       "      <td>NaN</td>\n",
       "      <td>2</td>\n",
       "      <td>NaN</td>\n",
       "      <td>3.0</td>\n",
       "      <td>1</td>\n",
       "      <td>NaN</td>\n",
       "      <td>BA</td>\n",
       "      <td>NaN</td>\n",
       "      <td>NaN</td>\n",
       "    </tr>\n",
       "    <tr>\n",
       "      <th>4</th>\n",
       "      <td>2024-11-14 18:26:48</td>\n",
       "      <td>2024-11-14 18:42:58</td>\n",
       "      <td>0</td>\n",
       "      <td>100</td>\n",
       "      <td>969</td>\n",
       "      <td>1</td>\n",
       "      <td>2024-11-14 18:42:58.484</td>\n",
       "      <td>R_2kq5hZdQfhR6sbI</td>\n",
       "      <td>anonymous</td>\n",
       "      <td>IT</td>\n",
       "      <td>...</td>\n",
       "      <td>2,3</td>\n",
       "      <td>NaN</td>\n",
       "      <td>2</td>\n",
       "      <td>NaN</td>\n",
       "      <td>4.0</td>\n",
       "      <td>1</td>\n",
       "      <td>francoagostinoperone@gmail.com</td>\n",
       "      <td>BA</td>\n",
       "      <td>NaN</td>\n",
       "      <td>NaN</td>\n",
       "    </tr>\n",
       "  </tbody>\n",
       "</table>\n",
       "<p>5 rows × 78 columns</p>\n",
       "</div>"
      ],
      "text/plain": [
       "           start_date            end_date  survey_status  completion_level  \\\n",
       "0 2024-11-13 10:30:58 2024-11-13 10:37:24              0               100   \n",
       "1 2024-11-14 14:00:16 2024-11-14 14:08:08              0               100   \n",
       "2 2024-11-14 14:28:17 2024-11-14 14:36:18              0               100   \n",
       "3 2024-11-14 16:46:00 2024-11-14 18:31:25              0               100   \n",
       "4 2024-11-14 18:26:48 2024-11-14 18:42:58              0               100   \n",
       "\n",
       "   completion_time  survey_completed           recorded_date  \\\n",
       "0              386                 1 2024-11-13 10:37:25.745   \n",
       "1              472                 1 2024-11-14 14:08:09.160   \n",
       "2              480                 1 2024-11-14 14:36:18.958   \n",
       "3             6324                 1 2024-11-14 18:31:26.274   \n",
       "4              969                 1 2024-11-14 18:42:58.484   \n",
       "\n",
       "         response_id distribution_channel user_language  ...  soc_aspects  \\\n",
       "0  R_2CYvoda8TZhYFaN            anonymous            IT  ...        2,3,4   \n",
       "1  R_2PCMoZEjgiOeupr            anonymous            IT  ...            1   \n",
       "2  R_8HBDPZSIjz1M0rn            anonymous            IT  ...          1,3   \n",
       "3  R_8dSEqbK9X2kHC6i            anonymous            IT  ...          1,4   \n",
       "4  R_2kq5hZdQfhR6sbI            anonymous            IT  ...          2,3   \n",
       "\n",
       "   soc_aspects_other  es_assess  es_assess_other  es_more_info es_certif  \\\n",
       "0                NaN          2              NaN           3.0       2,3   \n",
       "1                NaN          2              NaN           3.0         1   \n",
       "2                NaN          3              NaN           5.0       2,3   \n",
       "3                NaN          2              NaN           3.0         1   \n",
       "4                NaN          2              NaN           4.0         1   \n",
       "\n",
       "                            email  survey inv_platform inv_platform_other  \n",
       "0                             NaN      BA          NaN                NaN  \n",
       "1                             NaN      BA          NaN                NaN  \n",
       "2                anmata@libero.it      BA          NaN                NaN  \n",
       "3                             NaN      BA          NaN                NaN  \n",
       "4  francoagostinoperone@gmail.com      BA          NaN                NaN  \n",
       "\n",
       "[5 rows x 78 columns]"
      ]
     },
     "execution_count": 3,
     "metadata": {},
     "output_type": "execute_result"
    }
   ],
   "source": [
    "df_load.head()"
   ]
  },
  {
   "cell_type": "code",
   "execution_count": 4,
   "id": "b1c62947",
   "metadata": {},
   "outputs": [
    {
     "data": {
      "text/plain": [
       "Index(['start_date', 'end_date', 'survey_status', 'completion_level',\n",
       "       'completion_time', 'survey_completed', 'recorded_date', 'response_id',\n",
       "       'distribution_channel', 'user_language', 'recaptcha_score',\n",
       "       'gender_male', 'age', 'children_num', 'edu_level', 'edu_field',\n",
       "       'edu_field_other', 'working_status', 'working_status_other',\n",
       "       'expertise_area', 'expertise_area_other', 'work_industries',\n",
       "       'work_industries_other', 'work_company_size', 'roles_cat', 'inv_time',\n",
       "       'inv_motivation', 'inv_motivation_other', 'ba_group', 'ba_group_name',\n",
       "       'ba_group_name_other', 'ba_group_reason', 'ba_group_reason_other',\n",
       "       'inv_num', 'inv_companies_last2y', 'inv_amount_average',\n",
       "       'inv_capital_stake', 'inv_dd_duration', 'inv_criteria',\n",
       "       'inv_criteria_other', 'inv_sectors', 'inv_sectors_other', 'inv_process',\n",
       "       'inv_process_other', 'inv_visits', 'non_fin_contr',\n",
       "       'non_fin_contr_other', 'child_bias', 'inv_goal', 'inv_exit',\n",
       "       'inv_return', 'women_investing', 'women_involvement', 'women_influence',\n",
       "       'women_diff_eval_process', 'women_risk_averse',\n",
       "       'women_evolution_involvement', 'women_evolution_neg_stereotype',\n",
       "       'mother_needs_consideration', 'women_reco', 'women_reco_other',\n",
       "       'women_led_inv', 'env_influence', 'env_inv', 'env_aspects',\n",
       "       'env_aspects_other', 'soc_influence', 'soc_inv', 'soc_aspects',\n",
       "       'soc_aspects_other', 'es_assess', 'es_assess_other', 'es_more_info',\n",
       "       'es_certif', 'email', 'survey', 'inv_platform', 'inv_platform_other'],\n",
       "      dtype='object')"
      ]
     },
     "execution_count": 4,
     "metadata": {},
     "output_type": "execute_result"
    }
   ],
   "source": [
    "df_load.columns"
   ]
  },
  {
   "cell_type": "code",
   "execution_count": null,
   "id": "25ecda2f",
   "metadata": {},
   "outputs": [
    {
     "data": {
      "text/html": [
       "<div>\n",
       "<style scoped>\n",
       "    .dataframe tbody tr th:only-of-type {\n",
       "        vertical-align: middle;\n",
       "    }\n",
       "\n",
       "    .dataframe tbody tr th {\n",
       "        vertical-align: top;\n",
       "    }\n",
       "\n",
       "    .dataframe thead th {\n",
       "        text-align: right;\n",
       "    }\n",
       "</style>\n",
       "<table border=\"1\" class=\"dataframe\">\n",
       "  <thead>\n",
       "    <tr style=\"text-align: right;\">\n",
       "      <th></th>\n",
       "      <th>survey</th>\n",
       "      <th>gender</th>\n",
       "      <th>percentage</th>\n",
       "    </tr>\n",
       "  </thead>\n",
       "  <tbody>\n",
       "    <tr>\n",
       "      <th>0</th>\n",
       "      <td>BA</td>\n",
       "      <td>men</td>\n",
       "      <td>0.712871</td>\n",
       "    </tr>\n",
       "    <tr>\n",
       "      <th>1</th>\n",
       "      <td>BA</td>\n",
       "      <td>women</td>\n",
       "      <td>0.287129</td>\n",
       "    </tr>\n",
       "    <tr>\n",
       "      <th>2</th>\n",
       "      <td>CI</td>\n",
       "      <td>men</td>\n",
       "      <td>0.617021</td>\n",
       "    </tr>\n",
       "    <tr>\n",
       "      <th>3</th>\n",
       "      <td>CI</td>\n",
       "      <td>women</td>\n",
       "      <td>0.382979</td>\n",
       "    </tr>\n",
       "  </tbody>\n",
       "</table>\n",
       "</div>"
      ],
      "text/plain": [
       "  survey gender  percentage\n",
       "0     BA    men    0.712871\n",
       "1     BA  women    0.287129\n",
       "2     CI    men    0.617021\n",
       "3     CI  women    0.382979"
      ]
     },
     "execution_count": 51,
     "metadata": {},
     "output_type": "execute_result"
    }
   ],
   "source": [
    "# Proportions of women and men in both surveys\n",
    "\n",
    "pd.options.display.max_columns = None\n",
    "columns={\n",
    "    'gender_male': 'gender',\n",
    "    'start_date': 'percentage',\n",
    "}\n",
    "# df_temp=df_load[['survey', 'gender_male', 'age', 'children_num', 'edu_level']].groupby(['survey']).mean()\n",
    "df_temp=df_load.copy()\n",
    "df_temp['gender_male']=df_temp['gender_male'].replace(1, 'women')\n",
    "df_temp['gender_male']=df_temp['gender_male'].replace(2, 'men')\n",
    "df_temp=df_temp.dropna(subset=['gender_male'])\n",
    "df_stats=(df_temp.groupby(['survey', 'gender_male'])['start_date'].count()).div(df_temp.groupby(['survey'])['start_date'].count())\n",
    "df_stats=df_stats.reset_index().rename(columns=columns)\n",
    "df_stats"
   ]
  },
  {
   "cell_type": "code",
   "execution_count": null,
   "id": "7c5b57ce",
   "metadata": {},
   "outputs": [],
   "source": [
    "# Returns the statistics in funcs on groups and variables columns\n",
    "import pandas as pd \n",
    "\n",
    "def basic_stats(funcs, groups, columns):\n",
    "    df_results=pd.DataFrame()\n",
    "    for column in columns:\n",
    "        df_temp=df_load.dropna(subset=[column]) # Keep only non nan\n",
    "        df_results=pd.concat([df_results,df_temp.groupby(groups)[column].agg(funcs).reset_index().assign(var=column)])\n",
    "\n",
    "    return df_results"
   ]
  },
  {
   "cell_type": "code",
   "execution_count": 20,
   "id": "489ed7b6",
   "metadata": {},
   "outputs": [
    {
     "data": {
      "text/html": [
       "<div>\n",
       "<style scoped>\n",
       "    .dataframe tbody tr th:only-of-type {\n",
       "        vertical-align: middle;\n",
       "    }\n",
       "\n",
       "    .dataframe tbody tr th {\n",
       "        vertical-align: top;\n",
       "    }\n",
       "\n",
       "    .dataframe thead th {\n",
       "        text-align: right;\n",
       "    }\n",
       "</style>\n",
       "<table border=\"1\" class=\"dataframe\">\n",
       "  <thead>\n",
       "    <tr style=\"text-align: right;\">\n",
       "      <th></th>\n",
       "      <th>gender_male</th>\n",
       "      <th>mean</th>\n",
       "      <th>std</th>\n",
       "      <th>count</th>\n",
       "      <th>var</th>\n",
       "    </tr>\n",
       "  </thead>\n",
       "  <tbody>\n",
       "    <tr>\n",
       "      <th>0</th>\n",
       "      <td>1.0</td>\n",
       "      <td>3.064516</td>\n",
       "      <td>1.093480</td>\n",
       "      <td>31</td>\n",
       "      <td>inv_time</td>\n",
       "    </tr>\n",
       "    <tr>\n",
       "      <th>1</th>\n",
       "      <td>2.0</td>\n",
       "      <td>3.372093</td>\n",
       "      <td>1.337658</td>\n",
       "      <td>86</td>\n",
       "      <td>inv_time</td>\n",
       "    </tr>\n",
       "    <tr>\n",
       "      <th>0</th>\n",
       "      <td>1.0</td>\n",
       "      <td>3.375000</td>\n",
       "      <td>1.539795</td>\n",
       "      <td>32</td>\n",
       "      <td>inv_num</td>\n",
       "    </tr>\n",
       "    <tr>\n",
       "      <th>1</th>\n",
       "      <td>2.0</td>\n",
       "      <td>3.423529</td>\n",
       "      <td>1.483051</td>\n",
       "      <td>85</td>\n",
       "      <td>inv_num</td>\n",
       "    </tr>\n",
       "    <tr>\n",
       "      <th>0</th>\n",
       "      <td>1.0</td>\n",
       "      <td>1.814815</td>\n",
       "      <td>1.177907</td>\n",
       "      <td>27</td>\n",
       "      <td>inv_amount_average</td>\n",
       "    </tr>\n",
       "    <tr>\n",
       "      <th>1</th>\n",
       "      <td>2.0</td>\n",
       "      <td>2.500000</td>\n",
       "      <td>1.295408</td>\n",
       "      <td>74</td>\n",
       "      <td>inv_amount_average</td>\n",
       "    </tr>\n",
       "    <tr>\n",
       "      <th>0</th>\n",
       "      <td>1.0</td>\n",
       "      <td>2.230769</td>\n",
       "      <td>1.394495</td>\n",
       "      <td>26</td>\n",
       "      <td>women_led_inv</td>\n",
       "    </tr>\n",
       "    <tr>\n",
       "      <th>1</th>\n",
       "      <td>2.0</td>\n",
       "      <td>1.835616</td>\n",
       "      <td>1.027588</td>\n",
       "      <td>73</td>\n",
       "      <td>women_led_inv</td>\n",
       "    </tr>\n",
       "  </tbody>\n",
       "</table>\n",
       "</div>"
      ],
      "text/plain": [
       "   gender_male      mean       std  count                 var\n",
       "0          1.0  3.064516  1.093480     31            inv_time\n",
       "1          2.0  3.372093  1.337658     86            inv_time\n",
       "0          1.0  3.375000  1.539795     32             inv_num\n",
       "1          2.0  3.423529  1.483051     85             inv_num\n",
       "0          1.0  1.814815  1.177907     27  inv_amount_average\n",
       "1          2.0  2.500000  1.295408     74  inv_amount_average\n",
       "0          1.0  2.230769  1.394495     26       women_led_inv\n",
       "1          2.0  1.835616  1.027588     73       women_led_inv"
      ]
     },
     "execution_count": 20,
     "metadata": {},
     "output_type": "execute_result"
    }
   ],
   "source": [
    "# Investor experience Numerical and ordinal variables\n",
    "# Gender\n",
    "\n",
    "funcs=['mean', 'std', 'count']\n",
    "groups=['gender_male']\n",
    "columns=['inv_time', 'inv_num', 'inv_amount_average', 'women_led_inv']\n",
    "\n",
    "basic_stats(funcs, groups, columns)"
   ]
  },
  {
   "cell_type": "code",
   "execution_count": 21,
   "id": "d1923280",
   "metadata": {},
   "outputs": [
    {
     "data": {
      "text/html": [
       "<div>\n",
       "<style scoped>\n",
       "    .dataframe tbody tr th:only-of-type {\n",
       "        vertical-align: middle;\n",
       "    }\n",
       "\n",
       "    .dataframe tbody tr th {\n",
       "        vertical-align: top;\n",
       "    }\n",
       "\n",
       "    .dataframe thead th {\n",
       "        text-align: right;\n",
       "    }\n",
       "</style>\n",
       "<table border=\"1\" class=\"dataframe\">\n",
       "  <thead>\n",
       "    <tr style=\"text-align: right;\">\n",
       "      <th></th>\n",
       "      <th>survey</th>\n",
       "      <th>mean</th>\n",
       "      <th>std</th>\n",
       "      <th>count</th>\n",
       "      <th>var</th>\n",
       "    </tr>\n",
       "  </thead>\n",
       "  <tbody>\n",
       "    <tr>\n",
       "      <th>0</th>\n",
       "      <td>BA</td>\n",
       "      <td>3.563830</td>\n",
       "      <td>1.187375</td>\n",
       "      <td>94</td>\n",
       "      <td>inv_time</td>\n",
       "    </tr>\n",
       "    <tr>\n",
       "      <th>1</th>\n",
       "      <td>CI</td>\n",
       "      <td>2.173913</td>\n",
       "      <td>1.029217</td>\n",
       "      <td>23</td>\n",
       "      <td>inv_time</td>\n",
       "    </tr>\n",
       "    <tr>\n",
       "      <th>0</th>\n",
       "      <td>BA</td>\n",
       "      <td>3.760870</td>\n",
       "      <td>1.329046</td>\n",
       "      <td>92</td>\n",
       "      <td>inv_num</td>\n",
       "    </tr>\n",
       "    <tr>\n",
       "      <th>1</th>\n",
       "      <td>CI</td>\n",
       "      <td>2.153846</td>\n",
       "      <td>1.347362</td>\n",
       "      <td>26</td>\n",
       "      <td>inv_num</td>\n",
       "    </tr>\n",
       "    <tr>\n",
       "      <th>0</th>\n",
       "      <td>BA</td>\n",
       "      <td>2.306818</td>\n",
       "      <td>1.271780</td>\n",
       "      <td>88</td>\n",
       "      <td>inv_amount_average</td>\n",
       "    </tr>\n",
       "    <tr>\n",
       "      <th>1</th>\n",
       "      <td>CI</td>\n",
       "      <td>2.384615</td>\n",
       "      <td>1.502135</td>\n",
       "      <td>13</td>\n",
       "      <td>inv_amount_average</td>\n",
       "    </tr>\n",
       "    <tr>\n",
       "      <th>0</th>\n",
       "      <td>BA</td>\n",
       "      <td>1.965517</td>\n",
       "      <td>1.175805</td>\n",
       "      <td>87</td>\n",
       "      <td>women_led_inv</td>\n",
       "    </tr>\n",
       "    <tr>\n",
       "      <th>1</th>\n",
       "      <td>CI</td>\n",
       "      <td>1.750000</td>\n",
       "      <td>0.866025</td>\n",
       "      <td>12</td>\n",
       "      <td>women_led_inv</td>\n",
       "    </tr>\n",
       "  </tbody>\n",
       "</table>\n",
       "</div>"
      ],
      "text/plain": [
       "  survey      mean       std  count                 var\n",
       "0     BA  3.563830  1.187375     94            inv_time\n",
       "1     CI  2.173913  1.029217     23            inv_time\n",
       "0     BA  3.760870  1.329046     92             inv_num\n",
       "1     CI  2.153846  1.347362     26             inv_num\n",
       "0     BA  2.306818  1.271780     88  inv_amount_average\n",
       "1     CI  2.384615  1.502135     13  inv_amount_average\n",
       "0     BA  1.965517  1.175805     87       women_led_inv\n",
       "1     CI  1.750000  0.866025     12       women_led_inv"
      ]
     },
     "execution_count": 21,
     "metadata": {},
     "output_type": "execute_result"
    }
   ],
   "source": [
    "# Investor experience Numerical and ordinal variables\n",
    "# survey\n",
    "\n",
    "funcs=['mean', 'std', 'count']\n",
    "groups=['survey']\n",
    "columns=['inv_time', 'inv_num', 'inv_amount_average', 'women_led_inv']\n",
    "\n",
    "basic_stats(funcs, groups, columns)"
   ]
  },
  {
   "cell_type": "code",
   "execution_count": 65,
   "id": "cd606b18",
   "metadata": {},
   "outputs": [],
   "source": [
    "from scipy.stats import mannwhitneyu\n",
    "import pandas as pd \n",
    "import numpy as np\n",
    "from scipy.stats import norm\n",
    "\n",
    "def mw_test(columns, condition_label, condition_values):\n",
    "    result_columns=['var', 'u_stat', 'pvalue']\n",
    "    df_results=pd.DataFrame(columns=result_columns)\n",
    "    for column in columns:\n",
    "        \n",
    "        df_temp=df_load.dropna(subset=[column, condition_label]) # Keep only non nan\n",
    "\n",
    "        groups=[]\n",
    "        for i in range(len(condition_values)):\n",
    "            groups.append(df_temp[df_temp[condition_label]==condition_values[i]].loc[:,column].array)\n",
    "\n",
    "        u, p=mannwhitneyu(groups[0], groups[1], alternative='two-sided')\n",
    "        df_results=pd.concat([df_results, pd.DataFrame([[column, u, p]], columns=result_columns)])\n",
    "    \n",
    "    return df_results\n"
   ]
  },
  {
   "cell_type": "code",
   "execution_count": null,
   "id": "80b101b2",
   "metadata": {},
   "outputs": [
    {
     "name": "stderr",
     "output_type": "stream",
     "text": [
      "C:\\Users\\Dell\\AppData\\Local\\Temp\\ipykernel_19252\\4196572552.py:18: FutureWarning: The behavior of DataFrame concatenation with empty or all-NA entries is deprecated. In a future version, this will no longer exclude empty or all-NA columns when determining the result dtypes. To retain the old behavior, exclude the relevant entries before the concat operation.\n",
      "  df_results=pd.concat([df_results, pd.DataFrame([[column, u, p]], columns=result_columns)])\n"
     ]
    },
    {
     "data": {
      "text/html": [
       "<div>\n",
       "<style scoped>\n",
       "    .dataframe tbody tr th:only-of-type {\n",
       "        vertical-align: middle;\n",
       "    }\n",
       "\n",
       "    .dataframe tbody tr th {\n",
       "        vertical-align: top;\n",
       "    }\n",
       "\n",
       "    .dataframe thead th {\n",
       "        text-align: right;\n",
       "    }\n",
       "</style>\n",
       "<table border=\"1\" class=\"dataframe\">\n",
       "  <thead>\n",
       "    <tr style=\"text-align: right;\">\n",
       "      <th></th>\n",
       "      <th>var</th>\n",
       "      <th>u_stat</th>\n",
       "      <th>pvalue</th>\n",
       "    </tr>\n",
       "  </thead>\n",
       "  <tbody>\n",
       "    <tr>\n",
       "      <th>0</th>\n",
       "      <td>inv_time</td>\n",
       "      <td>1155.5</td>\n",
       "      <td>0.261672</td>\n",
       "    </tr>\n",
       "    <tr>\n",
       "      <th>0</th>\n",
       "      <td>inv_num</td>\n",
       "      <td>1352.5</td>\n",
       "      <td>0.965182</td>\n",
       "    </tr>\n",
       "    <tr>\n",
       "      <th>0</th>\n",
       "      <td>inv_amount_average</td>\n",
       "      <td>682.5</td>\n",
       "      <td>0.011706</td>\n",
       "    </tr>\n",
       "    <tr>\n",
       "      <th>0</th>\n",
       "      <td>women_led_inv</td>\n",
       "      <td>1083.0</td>\n",
       "      <td>0.255738</td>\n",
       "    </tr>\n",
       "  </tbody>\n",
       "</table>\n",
       "</div>"
      ],
      "text/plain": [
       "                  var  u_stat    pvalue\n",
       "0            inv_time  1155.5  0.261672\n",
       "0             inv_num  1352.5  0.965182\n",
       "0  inv_amount_average   682.5  0.011706\n",
       "0       women_led_inv  1083.0  0.255738"
      ]
     },
     "execution_count": 66,
     "metadata": {},
     "output_type": "execute_result"
    }
   ],
   "source": [
    "# Mann Whitney test on gender_male\n",
    "\n",
    "columns=['inv_time', 'inv_num', 'inv_amount_average', 'women_led_inv']\n",
    "condition_label='gender_male'\n",
    "condition_values=[1,2]\n",
    "\n",
    "mw_test(columns, condition_label, condition_values)"
   ]
  },
  {
   "cell_type": "code",
   "execution_count": 67,
   "id": "c3bf2cfe",
   "metadata": {},
   "outputs": [
    {
     "name": "stderr",
     "output_type": "stream",
     "text": [
      "C:\\Users\\Dell\\AppData\\Local\\Temp\\ipykernel_19252\\4196572552.py:18: FutureWarning: The behavior of DataFrame concatenation with empty or all-NA entries is deprecated. In a future version, this will no longer exclude empty or all-NA columns when determining the result dtypes. To retain the old behavior, exclude the relevant entries before the concat operation.\n",
      "  df_results=pd.concat([df_results, pd.DataFrame([[column, u, p]], columns=result_columns)])\n"
     ]
    },
    {
     "data": {
      "text/html": [
       "<div>\n",
       "<style scoped>\n",
       "    .dataframe tbody tr th:only-of-type {\n",
       "        vertical-align: middle;\n",
       "    }\n",
       "\n",
       "    .dataframe tbody tr th {\n",
       "        vertical-align: top;\n",
       "    }\n",
       "\n",
       "    .dataframe thead th {\n",
       "        text-align: right;\n",
       "    }\n",
       "</style>\n",
       "<table border=\"1\" class=\"dataframe\">\n",
       "  <thead>\n",
       "    <tr style=\"text-align: right;\">\n",
       "      <th></th>\n",
       "      <th>var</th>\n",
       "      <th>u_stat</th>\n",
       "      <th>pvalue</th>\n",
       "    </tr>\n",
       "  </thead>\n",
       "  <tbody>\n",
       "    <tr>\n",
       "      <th>0</th>\n",
       "      <td>inv_time</td>\n",
       "      <td>1729.5</td>\n",
       "      <td>5.037791e-06</td>\n",
       "    </tr>\n",
       "    <tr>\n",
       "      <th>0</th>\n",
       "      <td>inv_num</td>\n",
       "      <td>1948.0</td>\n",
       "      <td>6.397449e-07</td>\n",
       "    </tr>\n",
       "    <tr>\n",
       "      <th>0</th>\n",
       "      <td>inv_amount_average</td>\n",
       "      <td>565.5</td>\n",
       "      <td>9.495629e-01</td>\n",
       "    </tr>\n",
       "    <tr>\n",
       "      <th>0</th>\n",
       "      <td>women_led_inv</td>\n",
       "      <td>555.0</td>\n",
       "      <td>7.091040e-01</td>\n",
       "    </tr>\n",
       "  </tbody>\n",
       "</table>\n",
       "</div>"
      ],
      "text/plain": [
       "                  var  u_stat        pvalue\n",
       "0            inv_time  1729.5  5.037791e-06\n",
       "0             inv_num  1948.0  6.397449e-07\n",
       "0  inv_amount_average   565.5  9.495629e-01\n",
       "0       women_led_inv   555.0  7.091040e-01"
      ]
     },
     "execution_count": 67,
     "metadata": {},
     "output_type": "execute_result"
    }
   ],
   "source": [
    "# Mann Whitney test on survey\n",
    "\n",
    "columns=['inv_time', 'inv_num', 'inv_amount_average', 'women_led_inv']\n",
    "condition_label='survey'\n",
    "condition_values=['BA', 'CI']\n",
    "\n",
    "mw_test(columns, condition_label, condition_values)"
   ]
  },
  {
   "cell_type": "code",
   "execution_count": null,
   "id": "243d4fe9",
   "metadata": {},
   "outputs": [
    {
     "data": {
      "application/vnd.plotly.v1+json": {
       "config": {
        "plotlyServerURL": "https://plot.ly"
       },
       "data": [
        {
         "fill": "toself",
         "name": "Women",
         "r": {
          "bdata": "hBBCCCGECEAAAAAAAAALQJjQXkJ7Cf0/ip3YiZ3YAUA=",
          "dtype": "f8"
         },
         "theta": [
          "Investment Experience",
          "Number of Investments",
          "Average Invested Amount",
          "Number of Women-Led Investments"
         ],
         "type": "scatterpolar"
        },
        {
         "fill": "toself",
         "name": "Men",
         "r": {
          "bdata": "v6Av6Av6CkBjY2NjY2MLQAAAAAAAAARA69WrV69e/T8=",
          "dtype": "f8"
         },
         "theta": [
          "Investment Experience",
          "Number of Investments",
          "Average Invested Amount",
          "Number of Women-Led Investments"
         ],
         "type": "scatterpolar"
        }
       ],
       "layout": {
        "polar": {
         "radialaxis": {
          "range": [
           0,
           6
          ],
          "visible": true
         }
        },
        "showlegend": false,
        "template": {
         "data": {
          "bar": [
           {
            "error_x": {
             "color": "#2a3f5f"
            },
            "error_y": {
             "color": "#2a3f5f"
            },
            "marker": {
             "line": {
              "color": "#E5ECF6",
              "width": 0.5
             },
             "pattern": {
              "fillmode": "overlay",
              "size": 10,
              "solidity": 0.2
             }
            },
            "type": "bar"
           }
          ],
          "barpolar": [
           {
            "marker": {
             "line": {
              "color": "#E5ECF6",
              "width": 0.5
             },
             "pattern": {
              "fillmode": "overlay",
              "size": 10,
              "solidity": 0.2
             }
            },
            "type": "barpolar"
           }
          ],
          "carpet": [
           {
            "aaxis": {
             "endlinecolor": "#2a3f5f",
             "gridcolor": "white",
             "linecolor": "white",
             "minorgridcolor": "white",
             "startlinecolor": "#2a3f5f"
            },
            "baxis": {
             "endlinecolor": "#2a3f5f",
             "gridcolor": "white",
             "linecolor": "white",
             "minorgridcolor": "white",
             "startlinecolor": "#2a3f5f"
            },
            "type": "carpet"
           }
          ],
          "choropleth": [
           {
            "colorbar": {
             "outlinewidth": 0,
             "ticks": ""
            },
            "type": "choropleth"
           }
          ],
          "contour": [
           {
            "colorbar": {
             "outlinewidth": 0,
             "ticks": ""
            },
            "colorscale": [
             [
              0,
              "#0d0887"
             ],
             [
              0.1111111111111111,
              "#46039f"
             ],
             [
              0.2222222222222222,
              "#7201a8"
             ],
             [
              0.3333333333333333,
              "#9c179e"
             ],
             [
              0.4444444444444444,
              "#bd3786"
             ],
             [
              0.5555555555555556,
              "#d8576b"
             ],
             [
              0.6666666666666666,
              "#ed7953"
             ],
             [
              0.7777777777777778,
              "#fb9f3a"
             ],
             [
              0.8888888888888888,
              "#fdca26"
             ],
             [
              1,
              "#f0f921"
             ]
            ],
            "type": "contour"
           }
          ],
          "contourcarpet": [
           {
            "colorbar": {
             "outlinewidth": 0,
             "ticks": ""
            },
            "type": "contourcarpet"
           }
          ],
          "heatmap": [
           {
            "colorbar": {
             "outlinewidth": 0,
             "ticks": ""
            },
            "colorscale": [
             [
              0,
              "#0d0887"
             ],
             [
              0.1111111111111111,
              "#46039f"
             ],
             [
              0.2222222222222222,
              "#7201a8"
             ],
             [
              0.3333333333333333,
              "#9c179e"
             ],
             [
              0.4444444444444444,
              "#bd3786"
             ],
             [
              0.5555555555555556,
              "#d8576b"
             ],
             [
              0.6666666666666666,
              "#ed7953"
             ],
             [
              0.7777777777777778,
              "#fb9f3a"
             ],
             [
              0.8888888888888888,
              "#fdca26"
             ],
             [
              1,
              "#f0f921"
             ]
            ],
            "type": "heatmap"
           }
          ],
          "histogram": [
           {
            "marker": {
             "pattern": {
              "fillmode": "overlay",
              "size": 10,
              "solidity": 0.2
             }
            },
            "type": "histogram"
           }
          ],
          "histogram2d": [
           {
            "colorbar": {
             "outlinewidth": 0,
             "ticks": ""
            },
            "colorscale": [
             [
              0,
              "#0d0887"
             ],
             [
              0.1111111111111111,
              "#46039f"
             ],
             [
              0.2222222222222222,
              "#7201a8"
             ],
             [
              0.3333333333333333,
              "#9c179e"
             ],
             [
              0.4444444444444444,
              "#bd3786"
             ],
             [
              0.5555555555555556,
              "#d8576b"
             ],
             [
              0.6666666666666666,
              "#ed7953"
             ],
             [
              0.7777777777777778,
              "#fb9f3a"
             ],
             [
              0.8888888888888888,
              "#fdca26"
             ],
             [
              1,
              "#f0f921"
             ]
            ],
            "type": "histogram2d"
           }
          ],
          "histogram2dcontour": [
           {
            "colorbar": {
             "outlinewidth": 0,
             "ticks": ""
            },
            "colorscale": [
             [
              0,
              "#0d0887"
             ],
             [
              0.1111111111111111,
              "#46039f"
             ],
             [
              0.2222222222222222,
              "#7201a8"
             ],
             [
              0.3333333333333333,
              "#9c179e"
             ],
             [
              0.4444444444444444,
              "#bd3786"
             ],
             [
              0.5555555555555556,
              "#d8576b"
             ],
             [
              0.6666666666666666,
              "#ed7953"
             ],
             [
              0.7777777777777778,
              "#fb9f3a"
             ],
             [
              0.8888888888888888,
              "#fdca26"
             ],
             [
              1,
              "#f0f921"
             ]
            ],
            "type": "histogram2dcontour"
           }
          ],
          "mesh3d": [
           {
            "colorbar": {
             "outlinewidth": 0,
             "ticks": ""
            },
            "type": "mesh3d"
           }
          ],
          "parcoords": [
           {
            "line": {
             "colorbar": {
              "outlinewidth": 0,
              "ticks": ""
             }
            },
            "type": "parcoords"
           }
          ],
          "pie": [
           {
            "automargin": true,
            "type": "pie"
           }
          ],
          "scatter": [
           {
            "fillpattern": {
             "fillmode": "overlay",
             "size": 10,
             "solidity": 0.2
            },
            "type": "scatter"
           }
          ],
          "scatter3d": [
           {
            "line": {
             "colorbar": {
              "outlinewidth": 0,
              "ticks": ""
             }
            },
            "marker": {
             "colorbar": {
              "outlinewidth": 0,
              "ticks": ""
             }
            },
            "type": "scatter3d"
           }
          ],
          "scattercarpet": [
           {
            "marker": {
             "colorbar": {
              "outlinewidth": 0,
              "ticks": ""
             }
            },
            "type": "scattercarpet"
           }
          ],
          "scattergeo": [
           {
            "marker": {
             "colorbar": {
              "outlinewidth": 0,
              "ticks": ""
             }
            },
            "type": "scattergeo"
           }
          ],
          "scattergl": [
           {
            "marker": {
             "colorbar": {
              "outlinewidth": 0,
              "ticks": ""
             }
            },
            "type": "scattergl"
           }
          ],
          "scattermap": [
           {
            "marker": {
             "colorbar": {
              "outlinewidth": 0,
              "ticks": ""
             }
            },
            "type": "scattermap"
           }
          ],
          "scattermapbox": [
           {
            "marker": {
             "colorbar": {
              "outlinewidth": 0,
              "ticks": ""
             }
            },
            "type": "scattermapbox"
           }
          ],
          "scatterpolar": [
           {
            "marker": {
             "colorbar": {
              "outlinewidth": 0,
              "ticks": ""
             }
            },
            "type": "scatterpolar"
           }
          ],
          "scatterpolargl": [
           {
            "marker": {
             "colorbar": {
              "outlinewidth": 0,
              "ticks": ""
             }
            },
            "type": "scatterpolargl"
           }
          ],
          "scatterternary": [
           {
            "marker": {
             "colorbar": {
              "outlinewidth": 0,
              "ticks": ""
             }
            },
            "type": "scatterternary"
           }
          ],
          "surface": [
           {
            "colorbar": {
             "outlinewidth": 0,
             "ticks": ""
            },
            "colorscale": [
             [
              0,
              "#0d0887"
             ],
             [
              0.1111111111111111,
              "#46039f"
             ],
             [
              0.2222222222222222,
              "#7201a8"
             ],
             [
              0.3333333333333333,
              "#9c179e"
             ],
             [
              0.4444444444444444,
              "#bd3786"
             ],
             [
              0.5555555555555556,
              "#d8576b"
             ],
             [
              0.6666666666666666,
              "#ed7953"
             ],
             [
              0.7777777777777778,
              "#fb9f3a"
             ],
             [
              0.8888888888888888,
              "#fdca26"
             ],
             [
              1,
              "#f0f921"
             ]
            ],
            "type": "surface"
           }
          ],
          "table": [
           {
            "cells": {
             "fill": {
              "color": "#EBF0F8"
             },
             "line": {
              "color": "white"
             }
            },
            "header": {
             "fill": {
              "color": "#C8D4E3"
             },
             "line": {
              "color": "white"
             }
            },
            "type": "table"
           }
          ]
         },
         "layout": {
          "annotationdefaults": {
           "arrowcolor": "#2a3f5f",
           "arrowhead": 0,
           "arrowwidth": 1
          },
          "autotypenumbers": "strict",
          "coloraxis": {
           "colorbar": {
            "outlinewidth": 0,
            "ticks": ""
           }
          },
          "colorscale": {
           "diverging": [
            [
             0,
             "#8e0152"
            ],
            [
             0.1,
             "#c51b7d"
            ],
            [
             0.2,
             "#de77ae"
            ],
            [
             0.3,
             "#f1b6da"
            ],
            [
             0.4,
             "#fde0ef"
            ],
            [
             0.5,
             "#f7f7f7"
            ],
            [
             0.6,
             "#e6f5d0"
            ],
            [
             0.7,
             "#b8e186"
            ],
            [
             0.8,
             "#7fbc41"
            ],
            [
             0.9,
             "#4d9221"
            ],
            [
             1,
             "#276419"
            ]
           ],
           "sequential": [
            [
             0,
             "#0d0887"
            ],
            [
             0.1111111111111111,
             "#46039f"
            ],
            [
             0.2222222222222222,
             "#7201a8"
            ],
            [
             0.3333333333333333,
             "#9c179e"
            ],
            [
             0.4444444444444444,
             "#bd3786"
            ],
            [
             0.5555555555555556,
             "#d8576b"
            ],
            [
             0.6666666666666666,
             "#ed7953"
            ],
            [
             0.7777777777777778,
             "#fb9f3a"
            ],
            [
             0.8888888888888888,
             "#fdca26"
            ],
            [
             1,
             "#f0f921"
            ]
           ],
           "sequentialminus": [
            [
             0,
             "#0d0887"
            ],
            [
             0.1111111111111111,
             "#46039f"
            ],
            [
             0.2222222222222222,
             "#7201a8"
            ],
            [
             0.3333333333333333,
             "#9c179e"
            ],
            [
             0.4444444444444444,
             "#bd3786"
            ],
            [
             0.5555555555555556,
             "#d8576b"
            ],
            [
             0.6666666666666666,
             "#ed7953"
            ],
            [
             0.7777777777777778,
             "#fb9f3a"
            ],
            [
             0.8888888888888888,
             "#fdca26"
            ],
            [
             1,
             "#f0f921"
            ]
           ]
          },
          "colorway": [
           "#636efa",
           "#EF553B",
           "#00cc96",
           "#ab63fa",
           "#FFA15A",
           "#19d3f3",
           "#FF6692",
           "#B6E880",
           "#FF97FF",
           "#FECB52"
          ],
          "font": {
           "color": "#2a3f5f"
          },
          "geo": {
           "bgcolor": "white",
           "lakecolor": "white",
           "landcolor": "#E5ECF6",
           "showlakes": true,
           "showland": true,
           "subunitcolor": "white"
          },
          "hoverlabel": {
           "align": "left"
          },
          "hovermode": "closest",
          "mapbox": {
           "style": "light"
          },
          "paper_bgcolor": "white",
          "plot_bgcolor": "#E5ECF6",
          "polar": {
           "angularaxis": {
            "gridcolor": "white",
            "linecolor": "white",
            "ticks": ""
           },
           "bgcolor": "#E5ECF6",
           "radialaxis": {
            "gridcolor": "white",
            "linecolor": "white",
            "ticks": ""
           }
          },
          "scene": {
           "xaxis": {
            "backgroundcolor": "#E5ECF6",
            "gridcolor": "white",
            "gridwidth": 2,
            "linecolor": "white",
            "showbackground": true,
            "ticks": "",
            "zerolinecolor": "white"
           },
           "yaxis": {
            "backgroundcolor": "#E5ECF6",
            "gridcolor": "white",
            "gridwidth": 2,
            "linecolor": "white",
            "showbackground": true,
            "ticks": "",
            "zerolinecolor": "white"
           },
           "zaxis": {
            "backgroundcolor": "#E5ECF6",
            "gridcolor": "white",
            "gridwidth": 2,
            "linecolor": "white",
            "showbackground": true,
            "ticks": "",
            "zerolinecolor": "white"
           }
          },
          "shapedefaults": {
           "line": {
            "color": "#2a3f5f"
           }
          },
          "ternary": {
           "aaxis": {
            "gridcolor": "white",
            "linecolor": "white",
            "ticks": ""
           },
           "baxis": {
            "gridcolor": "white",
            "linecolor": "white",
            "ticks": ""
           },
           "bgcolor": "#E5ECF6",
           "caxis": {
            "gridcolor": "white",
            "linecolor": "white",
            "ticks": ""
           }
          },
          "title": {
           "x": 0.05
          },
          "xaxis": {
           "automargin": true,
           "gridcolor": "white",
           "linecolor": "white",
           "ticks": "",
           "title": {
            "standoff": 15
           },
           "zerolinecolor": "white",
           "zerolinewidth": 2
          },
          "yaxis": {
           "automargin": true,
           "gridcolor": "white",
           "linecolor": "white",
           "ticks": "",
           "title": {
            "standoff": 15
           },
           "zerolinecolor": "white",
           "zerolinewidth": 2
          }
         }
        }
       }
      }
     },
     "metadata": {},
     "output_type": "display_data"
    }
   ],
   "source": [
    "import plotly.graph_objects as go\n",
    "\n",
    "funcs=['mean', 'std', 'count']\n",
    "groups=['gender_male']\n",
    "columns=['inv_time', 'inv_num', 'inv_amount_average', 'women_led_inv']\n",
    "\n",
    "df_stats=basic_stats(funcs, groups, columns)\n",
    "\n",
    "categories=['Investment Experience', 'Number of Investments', 'Average Invested Amount', 'Number of Women-Led Investments']\n",
    "r1=df_stats[df_stats[groups[0]]==1]['mean']\n",
    "r2=df_stats[df_stats[groups[0]]==2]['mean']\n",
    "\n",
    "fig = go.Figure()\n",
    "\n",
    "fig.add_trace(go.Scatterpolar(\n",
    "      r=r1,\n",
    "      theta=categories,\n",
    "      fill='toself',\n",
    "      name='Women'\n",
    "))\n",
    "fig.add_trace(go.Scatterpolar(\n",
    "      r=r2,\n",
    "      theta=categories,\n",
    "      fill='toself',\n",
    "      name='Men'\n",
    "))\n",
    "\n",
    "fig.update_layout(\n",
    "  polar=dict(\n",
    "    radialaxis=dict(\n",
    "      visible=True,\n",
    "      range=[0, 6]\n",
    "    )),\n",
    "  showlegend=False\n",
    ")\n",
    "\n",
    "fig.show()"
   ]
  },
  {
   "cell_type": "code",
   "execution_count": 78,
   "id": "88828cd2",
   "metadata": {},
   "outputs": [
    {
     "data": {
      "application/vnd.plotly.v1+json": {
       "config": {
        "plotlyServerURL": "https://plot.ly"
       },
       "data": [
        {
         "fill": "toself",
         "name": "Business Angel",
         "r": {
          "bdata": "YnIFMbmCDEAhC1nIQhYOQHTRRRdddAJAIyz3NMJy/z8=",
          "dtype": "f8"
         },
         "theta": [
          "Investment Experience",
          "Number of Investments",
          "Average Invested Amount",
          "Number of Women-Led Investments"
         ],
         "type": "scatterpolar"
        },
        {
         "fill": "toself",
         "name": "Crowdfunding",
         "r": {
          "bdata": "FrKQhSxkAUCxEzuxEzsBQDuxEzuxEwNAAAAAAAAA/D8=",
          "dtype": "f8"
         },
         "theta": [
          "Investment Experience",
          "Number of Investments",
          "Average Invested Amount",
          "Number of Women-Led Investments"
         ],
         "type": "scatterpolar"
        }
       ],
       "layout": {
        "polar": {
         "radialaxis": {
          "range": [
           0,
           6
          ],
          "visible": true
         }
        },
        "showlegend": false,
        "template": {
         "data": {
          "bar": [
           {
            "error_x": {
             "color": "#2a3f5f"
            },
            "error_y": {
             "color": "#2a3f5f"
            },
            "marker": {
             "line": {
              "color": "#E5ECF6",
              "width": 0.5
             },
             "pattern": {
              "fillmode": "overlay",
              "size": 10,
              "solidity": 0.2
             }
            },
            "type": "bar"
           }
          ],
          "barpolar": [
           {
            "marker": {
             "line": {
              "color": "#E5ECF6",
              "width": 0.5
             },
             "pattern": {
              "fillmode": "overlay",
              "size": 10,
              "solidity": 0.2
             }
            },
            "type": "barpolar"
           }
          ],
          "carpet": [
           {
            "aaxis": {
             "endlinecolor": "#2a3f5f",
             "gridcolor": "white",
             "linecolor": "white",
             "minorgridcolor": "white",
             "startlinecolor": "#2a3f5f"
            },
            "baxis": {
             "endlinecolor": "#2a3f5f",
             "gridcolor": "white",
             "linecolor": "white",
             "minorgridcolor": "white",
             "startlinecolor": "#2a3f5f"
            },
            "type": "carpet"
           }
          ],
          "choropleth": [
           {
            "colorbar": {
             "outlinewidth": 0,
             "ticks": ""
            },
            "type": "choropleth"
           }
          ],
          "contour": [
           {
            "colorbar": {
             "outlinewidth": 0,
             "ticks": ""
            },
            "colorscale": [
             [
              0,
              "#0d0887"
             ],
             [
              0.1111111111111111,
              "#46039f"
             ],
             [
              0.2222222222222222,
              "#7201a8"
             ],
             [
              0.3333333333333333,
              "#9c179e"
             ],
             [
              0.4444444444444444,
              "#bd3786"
             ],
             [
              0.5555555555555556,
              "#d8576b"
             ],
             [
              0.6666666666666666,
              "#ed7953"
             ],
             [
              0.7777777777777778,
              "#fb9f3a"
             ],
             [
              0.8888888888888888,
              "#fdca26"
             ],
             [
              1,
              "#f0f921"
             ]
            ],
            "type": "contour"
           }
          ],
          "contourcarpet": [
           {
            "colorbar": {
             "outlinewidth": 0,
             "ticks": ""
            },
            "type": "contourcarpet"
           }
          ],
          "heatmap": [
           {
            "colorbar": {
             "outlinewidth": 0,
             "ticks": ""
            },
            "colorscale": [
             [
              0,
              "#0d0887"
             ],
             [
              0.1111111111111111,
              "#46039f"
             ],
             [
              0.2222222222222222,
              "#7201a8"
             ],
             [
              0.3333333333333333,
              "#9c179e"
             ],
             [
              0.4444444444444444,
              "#bd3786"
             ],
             [
              0.5555555555555556,
              "#d8576b"
             ],
             [
              0.6666666666666666,
              "#ed7953"
             ],
             [
              0.7777777777777778,
              "#fb9f3a"
             ],
             [
              0.8888888888888888,
              "#fdca26"
             ],
             [
              1,
              "#f0f921"
             ]
            ],
            "type": "heatmap"
           }
          ],
          "histogram": [
           {
            "marker": {
             "pattern": {
              "fillmode": "overlay",
              "size": 10,
              "solidity": 0.2
             }
            },
            "type": "histogram"
           }
          ],
          "histogram2d": [
           {
            "colorbar": {
             "outlinewidth": 0,
             "ticks": ""
            },
            "colorscale": [
             [
              0,
              "#0d0887"
             ],
             [
              0.1111111111111111,
              "#46039f"
             ],
             [
              0.2222222222222222,
              "#7201a8"
             ],
             [
              0.3333333333333333,
              "#9c179e"
             ],
             [
              0.4444444444444444,
              "#bd3786"
             ],
             [
              0.5555555555555556,
              "#d8576b"
             ],
             [
              0.6666666666666666,
              "#ed7953"
             ],
             [
              0.7777777777777778,
              "#fb9f3a"
             ],
             [
              0.8888888888888888,
              "#fdca26"
             ],
             [
              1,
              "#f0f921"
             ]
            ],
            "type": "histogram2d"
           }
          ],
          "histogram2dcontour": [
           {
            "colorbar": {
             "outlinewidth": 0,
             "ticks": ""
            },
            "colorscale": [
             [
              0,
              "#0d0887"
             ],
             [
              0.1111111111111111,
              "#46039f"
             ],
             [
              0.2222222222222222,
              "#7201a8"
             ],
             [
              0.3333333333333333,
              "#9c179e"
             ],
             [
              0.4444444444444444,
              "#bd3786"
             ],
             [
              0.5555555555555556,
              "#d8576b"
             ],
             [
              0.6666666666666666,
              "#ed7953"
             ],
             [
              0.7777777777777778,
              "#fb9f3a"
             ],
             [
              0.8888888888888888,
              "#fdca26"
             ],
             [
              1,
              "#f0f921"
             ]
            ],
            "type": "histogram2dcontour"
           }
          ],
          "mesh3d": [
           {
            "colorbar": {
             "outlinewidth": 0,
             "ticks": ""
            },
            "type": "mesh3d"
           }
          ],
          "parcoords": [
           {
            "line": {
             "colorbar": {
              "outlinewidth": 0,
              "ticks": ""
             }
            },
            "type": "parcoords"
           }
          ],
          "pie": [
           {
            "automargin": true,
            "type": "pie"
           }
          ],
          "scatter": [
           {
            "fillpattern": {
             "fillmode": "overlay",
             "size": 10,
             "solidity": 0.2
            },
            "type": "scatter"
           }
          ],
          "scatter3d": [
           {
            "line": {
             "colorbar": {
              "outlinewidth": 0,
              "ticks": ""
             }
            },
            "marker": {
             "colorbar": {
              "outlinewidth": 0,
              "ticks": ""
             }
            },
            "type": "scatter3d"
           }
          ],
          "scattercarpet": [
           {
            "marker": {
             "colorbar": {
              "outlinewidth": 0,
              "ticks": ""
             }
            },
            "type": "scattercarpet"
           }
          ],
          "scattergeo": [
           {
            "marker": {
             "colorbar": {
              "outlinewidth": 0,
              "ticks": ""
             }
            },
            "type": "scattergeo"
           }
          ],
          "scattergl": [
           {
            "marker": {
             "colorbar": {
              "outlinewidth": 0,
              "ticks": ""
             }
            },
            "type": "scattergl"
           }
          ],
          "scattermap": [
           {
            "marker": {
             "colorbar": {
              "outlinewidth": 0,
              "ticks": ""
             }
            },
            "type": "scattermap"
           }
          ],
          "scattermapbox": [
           {
            "marker": {
             "colorbar": {
              "outlinewidth": 0,
              "ticks": ""
             }
            },
            "type": "scattermapbox"
           }
          ],
          "scatterpolar": [
           {
            "marker": {
             "colorbar": {
              "outlinewidth": 0,
              "ticks": ""
             }
            },
            "type": "scatterpolar"
           }
          ],
          "scatterpolargl": [
           {
            "marker": {
             "colorbar": {
              "outlinewidth": 0,
              "ticks": ""
             }
            },
            "type": "scatterpolargl"
           }
          ],
          "scatterternary": [
           {
            "marker": {
             "colorbar": {
              "outlinewidth": 0,
              "ticks": ""
             }
            },
            "type": "scatterternary"
           }
          ],
          "surface": [
           {
            "colorbar": {
             "outlinewidth": 0,
             "ticks": ""
            },
            "colorscale": [
             [
              0,
              "#0d0887"
             ],
             [
              0.1111111111111111,
              "#46039f"
             ],
             [
              0.2222222222222222,
              "#7201a8"
             ],
             [
              0.3333333333333333,
              "#9c179e"
             ],
             [
              0.4444444444444444,
              "#bd3786"
             ],
             [
              0.5555555555555556,
              "#d8576b"
             ],
             [
              0.6666666666666666,
              "#ed7953"
             ],
             [
              0.7777777777777778,
              "#fb9f3a"
             ],
             [
              0.8888888888888888,
              "#fdca26"
             ],
             [
              1,
              "#f0f921"
             ]
            ],
            "type": "surface"
           }
          ],
          "table": [
           {
            "cells": {
             "fill": {
              "color": "#EBF0F8"
             },
             "line": {
              "color": "white"
             }
            },
            "header": {
             "fill": {
              "color": "#C8D4E3"
             },
             "line": {
              "color": "white"
             }
            },
            "type": "table"
           }
          ]
         },
         "layout": {
          "annotationdefaults": {
           "arrowcolor": "#2a3f5f",
           "arrowhead": 0,
           "arrowwidth": 1
          },
          "autotypenumbers": "strict",
          "coloraxis": {
           "colorbar": {
            "outlinewidth": 0,
            "ticks": ""
           }
          },
          "colorscale": {
           "diverging": [
            [
             0,
             "#8e0152"
            ],
            [
             0.1,
             "#c51b7d"
            ],
            [
             0.2,
             "#de77ae"
            ],
            [
             0.3,
             "#f1b6da"
            ],
            [
             0.4,
             "#fde0ef"
            ],
            [
             0.5,
             "#f7f7f7"
            ],
            [
             0.6,
             "#e6f5d0"
            ],
            [
             0.7,
             "#b8e186"
            ],
            [
             0.8,
             "#7fbc41"
            ],
            [
             0.9,
             "#4d9221"
            ],
            [
             1,
             "#276419"
            ]
           ],
           "sequential": [
            [
             0,
             "#0d0887"
            ],
            [
             0.1111111111111111,
             "#46039f"
            ],
            [
             0.2222222222222222,
             "#7201a8"
            ],
            [
             0.3333333333333333,
             "#9c179e"
            ],
            [
             0.4444444444444444,
             "#bd3786"
            ],
            [
             0.5555555555555556,
             "#d8576b"
            ],
            [
             0.6666666666666666,
             "#ed7953"
            ],
            [
             0.7777777777777778,
             "#fb9f3a"
            ],
            [
             0.8888888888888888,
             "#fdca26"
            ],
            [
             1,
             "#f0f921"
            ]
           ],
           "sequentialminus": [
            [
             0,
             "#0d0887"
            ],
            [
             0.1111111111111111,
             "#46039f"
            ],
            [
             0.2222222222222222,
             "#7201a8"
            ],
            [
             0.3333333333333333,
             "#9c179e"
            ],
            [
             0.4444444444444444,
             "#bd3786"
            ],
            [
             0.5555555555555556,
             "#d8576b"
            ],
            [
             0.6666666666666666,
             "#ed7953"
            ],
            [
             0.7777777777777778,
             "#fb9f3a"
            ],
            [
             0.8888888888888888,
             "#fdca26"
            ],
            [
             1,
             "#f0f921"
            ]
           ]
          },
          "colorway": [
           "#636efa",
           "#EF553B",
           "#00cc96",
           "#ab63fa",
           "#FFA15A",
           "#19d3f3",
           "#FF6692",
           "#B6E880",
           "#FF97FF",
           "#FECB52"
          ],
          "font": {
           "color": "#2a3f5f"
          },
          "geo": {
           "bgcolor": "white",
           "lakecolor": "white",
           "landcolor": "#E5ECF6",
           "showlakes": true,
           "showland": true,
           "subunitcolor": "white"
          },
          "hoverlabel": {
           "align": "left"
          },
          "hovermode": "closest",
          "mapbox": {
           "style": "light"
          },
          "paper_bgcolor": "white",
          "plot_bgcolor": "#E5ECF6",
          "polar": {
           "angularaxis": {
            "gridcolor": "white",
            "linecolor": "white",
            "ticks": ""
           },
           "bgcolor": "#E5ECF6",
           "radialaxis": {
            "gridcolor": "white",
            "linecolor": "white",
            "ticks": ""
           }
          },
          "scene": {
           "xaxis": {
            "backgroundcolor": "#E5ECF6",
            "gridcolor": "white",
            "gridwidth": 2,
            "linecolor": "white",
            "showbackground": true,
            "ticks": "",
            "zerolinecolor": "white"
           },
           "yaxis": {
            "backgroundcolor": "#E5ECF6",
            "gridcolor": "white",
            "gridwidth": 2,
            "linecolor": "white",
            "showbackground": true,
            "ticks": "",
            "zerolinecolor": "white"
           },
           "zaxis": {
            "backgroundcolor": "#E5ECF6",
            "gridcolor": "white",
            "gridwidth": 2,
            "linecolor": "white",
            "showbackground": true,
            "ticks": "",
            "zerolinecolor": "white"
           }
          },
          "shapedefaults": {
           "line": {
            "color": "#2a3f5f"
           }
          },
          "ternary": {
           "aaxis": {
            "gridcolor": "white",
            "linecolor": "white",
            "ticks": ""
           },
           "baxis": {
            "gridcolor": "white",
            "linecolor": "white",
            "ticks": ""
           },
           "bgcolor": "#E5ECF6",
           "caxis": {
            "gridcolor": "white",
            "linecolor": "white",
            "ticks": ""
           }
          },
          "title": {
           "x": 0.05
          },
          "xaxis": {
           "automargin": true,
           "gridcolor": "white",
           "linecolor": "white",
           "ticks": "",
           "title": {
            "standoff": 15
           },
           "zerolinecolor": "white",
           "zerolinewidth": 2
          },
          "yaxis": {
           "automargin": true,
           "gridcolor": "white",
           "linecolor": "white",
           "ticks": "",
           "title": {
            "standoff": 15
           },
           "zerolinecolor": "white",
           "zerolinewidth": 2
          }
         }
        }
       }
      }
     },
     "metadata": {},
     "output_type": "display_data"
    }
   ],
   "source": [
    "import plotly.graph_objects as go\n",
    "\n",
    "funcs=['mean', 'std', 'count']\n",
    "groups=['survey']\n",
    "columns=['inv_time', 'inv_num', 'inv_amount_average', 'women_led_inv']\n",
    "\n",
    "df_stats=basic_stats(funcs, groups, columns)\n",
    "\n",
    "categories=['Investment Experience', 'Number of Investments', 'Average Invested Amount', 'Number of Women-Led Investments']\n",
    "r1=df_stats[df_stats[groups[0]]=='BA']['mean']\n",
    "r2=df_stats[df_stats[groups[0]]=='CI']['mean']\n",
    "\n",
    "fig = go.Figure()\n",
    "\n",
    "fig.add_trace(go.Scatterpolar(\n",
    "      r=r1,\n",
    "      theta=categories,\n",
    "      fill='toself',\n",
    "      name='Business Angel'\n",
    "))\n",
    "fig.add_trace(go.Scatterpolar(\n",
    "      r=r2,\n",
    "      theta=categories,\n",
    "      fill='toself',\n",
    "      name='Crowdfunding'\n",
    "))\n",
    "\n",
    "fig.update_layout(\n",
    "  polar=dict(\n",
    "    radialaxis=dict(\n",
    "      visible=True,\n",
    "      range=[0, 6]\n",
    "    )),\n",
    "  showlegend=False\n",
    ")\n",
    "\n",
    "fig.show()"
   ]
  }
 ],
 "metadata": {
  "kernelspec": {
   "display_name": "venv",
   "language": "python",
   "name": "python3"
  },
  "language_info": {
   "codemirror_mode": {
    "name": "ipython",
    "version": 3
   },
   "file_extension": ".py",
   "mimetype": "text/x-python",
   "name": "python",
   "nbconvert_exporter": "python",
   "pygments_lexer": "ipython3",
   "version": "3.12.1"
  }
 },
 "nbformat": 4,
 "nbformat_minor": 5
}
